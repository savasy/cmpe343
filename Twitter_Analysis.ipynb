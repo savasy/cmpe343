{
  "nbformat": 4,
  "nbformat_minor": 0,
  "metadata": {
    "colab": {
      "name": "CMPE 251 Twitter Analysis.ipynb",
      "provenance": []
    },
    "kernelspec": {
      "display_name": "Python 3",
      "language": "python",
      "name": "python3"
    },
    "language_info": {
      "codemirror_mode": {
        "name": "ipython",
        "version": 3
      },
      "file_extension": ".py",
      "mimetype": "text/x-python",
      "name": "python",
      "nbconvert_exporter": "python",
      "pygments_lexer": "ipython3",
      "version": "3.8.10"
    }
  },
  "cells": [
    {
      "cell_type": "markdown",
      "metadata": {
        "id": "c__bQUOE9ky_"
      },
      "source": [
        "# STEP-1"
      ]
    },
    {
      "cell_type": "code",
      "metadata": {
        "colab": {
          "base_uri": "https://localhost:8080/"
        },
        "id": "N-eqKubF-PWo",
        "outputId": "3dca14e5-0dd3-4652-ef0f-0f03078e85f8"
      },
      "source": [
        "!pip3 install tweepy"
      ],
      "execution_count": null,
      "outputs": [
        {
          "name": "stdout",
          "output_type": "stream",
          "text": [
            "Requirement already satisfied: tweepy in /usr/local/lib/python3.7/dist-packages (3.10.0)\n",
            "Requirement already satisfied: six>=1.10.0 in /usr/local/lib/python3.7/dist-packages (from tweepy) (1.15.0)\n",
            "Requirement already satisfied: requests-oauthlib>=0.7.0 in /usr/local/lib/python3.7/dist-packages (from tweepy) (1.3.0)\n",
            "Requirement already satisfied: requests[socks]>=2.11.1 in /usr/local/lib/python3.7/dist-packages (from tweepy) (2.23.0)\n",
            "Requirement already satisfied: oauthlib>=3.0.0 in /usr/local/lib/python3.7/dist-packages (from requests-oauthlib>=0.7.0->tweepy) (3.1.1)\n",
            "Requirement already satisfied: idna<3,>=2.5 in /usr/local/lib/python3.7/dist-packages (from requests[socks]>=2.11.1->tweepy) (2.10)\n",
            "Requirement already satisfied: certifi>=2017.4.17 in /usr/local/lib/python3.7/dist-packages (from requests[socks]>=2.11.1->tweepy) (2021.10.8)\n",
            "Requirement already satisfied: chardet<4,>=3.0.2 in /usr/local/lib/python3.7/dist-packages (from requests[socks]>=2.11.1->tweepy) (3.0.4)\n",
            "Requirement already satisfied: urllib3!=1.25.0,!=1.25.1,<1.26,>=1.21.1 in /usr/local/lib/python3.7/dist-packages (from requests[socks]>=2.11.1->tweepy) (1.24.3)\n",
            "Requirement already satisfied: PySocks!=1.5.7,>=1.5.6 in /usr/local/lib/python3.7/dist-packages (from requests[socks]>=2.11.1->tweepy) (1.7.1)\n"
          ]
        }
      ]
    },
    {
      "cell_type": "markdown",
      "metadata": {
        "id": "yg17pCX8-P6w"
      },
      "source": [
        "# STEP-2"
      ]
    },
    {
      "cell_type": "code",
      "metadata": {
        "id": "fX5HqJ8S9lXY"
      },
      "source": [
        "import tweepy\n",
        "# put your own keys by getting Twitter\n",
        "# visit https://developer.twitter.com/en/apps\n",
        "\n",
        "consumer_key=   \"*****\"\n",
        "consumer_secret=\"***\"\n",
        "\n",
        "acc_token=   \"**\"\n",
        "acc_secret=  \"***\"\n",
        "\n",
        "auth = tweepy.OAuthHandler(consumer_key, consumer_secret)\n",
        "auth.set_access_token(acc_token, acc_secret)\n",
        "api = tweepy.API(auth)"
      ],
      "execution_count": null,
      "outputs": []
    },
    {
      "cell_type": "code",
      "metadata": {
        "id": "-KVu1ya3-SRx"
      },
      "source": [
        ""
      ],
      "execution_count": null,
      "outputs": []
    },
    {
      "cell_type": "markdown",
      "metadata": {
        "id": "izR-H2WA-UQI"
      },
      "source": [
        "# STEP (optional)"
      ]
    },
    {
      "cell_type": "code",
      "metadata": {
        "id": "XGGUE6xhTH5d"
      },
      "source": [
        "from google.colab import drive\n",
        "drive.mount('/content/drive')\n",
        "import os \n",
        "os.chdir(\"/content/drive/MyDrive/Courses/cmpe 251\")\n",
        "# hint /content/drive/MyDrive/ + your path\n",
        "os.listdir()"
      ],
      "execution_count": null,
      "outputs": []
    },
    {
      "cell_type": "markdown",
      "metadata": {
        "id": "E9rXDIGG9kOD"
      },
      "source": [
        ""
      ]
    },
    {
      "cell_type": "code",
      "metadata": {
        "id": "ELLx4q0rTAWa"
      },
      "source": [
        "import pandas as pd"
      ],
      "execution_count": null,
      "outputs": []
    },
    {
      "cell_type": "code",
      "metadata": {
        "id": "5S4gndjETAWa"
      },
      "source": [
        "key=\"#blockchain\"\n",
        "df = pd.DataFrame()\n",
        "msgs = []\n",
        "msg =[]\n",
        "for tweet in tweepy.Cursor(api.search, q=key, lang='tr', rpp=100).items(2000):\n",
        "    msg = [tweet.text, tweet.source, tweet.source_url, tweet.retweet_count, tweet.favorite_count, tweet.geo,tweet.user.name,tweet.created_at,tweet.user.profile_image_url] \n",
        "    msg = tuple(msg)                    \n",
        "    msgs.append(msg)\n",
        "\n",
        "df = pd.DataFrame(msgs)"
      ],
      "execution_count": null,
      "outputs": []
    },
    {
      "cell_type": "code",
      "metadata": {
        "id": "HkujZ1UVTAWb"
      },
      "source": [
        ""
      ],
      "execution_count": null,
      "outputs": []
    },
    {
      "cell_type": "code",
      "metadata": {
        "colab": {
          "base_uri": "https://localhost:8080/",
          "height": 32
        },
        "id": "iV-o-y_jTAWb",
        "outputId": "3dfb68bb-878f-4bd7-de54-b525e3b7ef8c"
      },
      "source": [
        "df.head(10)"
      ],
      "execution_count": null,
      "outputs": [
        {
          "data": {
            "text/html": [
              "<div>\n",
              "<style scoped>\n",
              "    .dataframe tbody tr th:only-of-type {\n",
              "        vertical-align: middle;\n",
              "    }\n",
              "\n",
              "    .dataframe tbody tr th {\n",
              "        vertical-align: top;\n",
              "    }\n",
              "\n",
              "    .dataframe thead th {\n",
              "        text-align: right;\n",
              "    }\n",
              "</style>\n",
              "<table border=\"1\" class=\"dataframe\">\n",
              "  <thead>\n",
              "    <tr style=\"text-align: right;\">\n",
              "      <th></th>\n",
              "    </tr>\n",
              "  </thead>\n",
              "  <tbody>\n",
              "  </tbody>\n",
              "</table>\n",
              "</div>"
            ],
            "text/plain": [
              "Empty DataFrame\n",
              "Columns: []\n",
              "Index: []"
            ]
          },
          "execution_count": 9,
          "metadata": {},
          "output_type": "execute_result"
        }
      ]
    },
    {
      "cell_type": "code",
      "metadata": {
        "colab": {
          "base_uri": "https://localhost:8080/"
        },
        "id": "kMgU08BG-xNC",
        "outputId": "b70724fe-e682-4bd0-f481-d536952b5095"
      },
      "source": [
        "df.shape"
      ],
      "execution_count": null,
      "outputs": [
        {
          "data": {
            "text/plain": [
              "(2000, 9)"
            ]
          },
          "execution_count": 128,
          "metadata": {},
          "output_type": "execute_result"
        }
      ]
    },
    {
      "cell_type": "code",
      "metadata": {
        "colab": {
          "base_uri": "https://localhost:8080/"
        },
        "id": "igNaratCTAWc",
        "outputId": "c0554e59-7b71-4a9c-a1fc-2a3c1ef629bc"
      },
      "source": [
        "print([e for e in dir(tweet) if not e.startswith(\"_\") ])"
      ],
      "execution_count": null,
      "outputs": [
        {
          "name": "stdout",
          "output_type": "stream",
          "text": [
            "['author', 'contributors', 'coordinates', 'created_at', 'destroy', 'entities', 'favorite', 'favorite_count', 'favorited', 'geo', 'id', 'id_str', 'in_reply_to_screen_name', 'in_reply_to_status_id', 'in_reply_to_status_id_str', 'in_reply_to_user_id', 'in_reply_to_user_id_str', 'is_quote_status', 'lang', 'metadata', 'parse', 'parse_list', 'place', 'retweet', 'retweet_count', 'retweeted', 'retweeted_status', 'retweets', 'source', 'source_url', 'text', 'truncated', 'user']\n"
          ]
        }
      ]
    },
    {
      "cell_type": "markdown",
      "metadata": {
        "id": "M3ZEpgwRiSn8"
      },
      "source": [
        "If you face difficulties in authorizing yourself, please start here"
      ]
    },
    {
      "cell_type": "code",
      "metadata": {
        "colab": {
          "base_uri": "https://localhost:8080/"
        },
        "id": "mIy24Sn7TAWc",
        "outputId": "62e6a149-77ea-4af7-aa50-262443fe5885"
      },
      "source": [
        "import pandas as pd\n",
        "df2=pd.read_pickle(\"sq.pkl\")\n",
        "df2.shape"
      ],
      "execution_count": null,
      "outputs": [
        {
          "output_type": "execute_result",
          "data": {
            "text/plain": [
              "(1000, 9)"
            ]
          },
          "metadata": {},
          "execution_count": 2
        }
      ]
    },
    {
      "cell_type": "code",
      "metadata": {
        "id": "cfcunVIjTAWd"
      },
      "source": [
        "df=df2"
      ],
      "execution_count": null,
      "outputs": []
    },
    {
      "cell_type": "code",
      "metadata": {
        "id": "1A_I6p1-TAWd"
      },
      "source": [
        "df.columns=[\"text\", \"source\", \"source_url\", \"retweet_count\", \"favorite\", \"geo\",\"user\",\"created_at\",\"profile_image\"]"
      ],
      "execution_count": null,
      "outputs": []
    },
    {
      "cell_type": "code",
      "metadata": {
        "colab": {
          "base_uri": "https://localhost:8080/",
          "height": 753
        },
        "id": "3T87VxvUTAWe",
        "outputId": "fe45e70a-03b3-4256-c33d-1a2e5bc5c1bc"
      },
      "source": [
        "df"
      ],
      "execution_count": null,
      "outputs": [
        {
          "output_type": "execute_result",
          "data": {
            "text/html": [
              "<div>\n",
              "<style scoped>\n",
              "    .dataframe tbody tr th:only-of-type {\n",
              "        vertical-align: middle;\n",
              "    }\n",
              "\n",
              "    .dataframe tbody tr th {\n",
              "        vertical-align: top;\n",
              "    }\n",
              "\n",
              "    .dataframe thead th {\n",
              "        text-align: right;\n",
              "    }\n",
              "</style>\n",
              "<table border=\"1\" class=\"dataframe\">\n",
              "  <thead>\n",
              "    <tr style=\"text-align: right;\">\n",
              "      <th></th>\n",
              "      <th>text</th>\n",
              "      <th>source</th>\n",
              "      <th>source_url</th>\n",
              "      <th>retweet_count</th>\n",
              "      <th>favorite</th>\n",
              "      <th>geo</th>\n",
              "      <th>user</th>\n",
              "      <th>created_at</th>\n",
              "      <th>profile_image</th>\n",
              "    </tr>\n",
              "  </thead>\n",
              "  <tbody>\n",
              "    <tr>\n",
              "      <th>0</th>\n",
              "      <td>Can't be the only one 😅 Have you watched #Squi...</td>\n",
              "      <td>Twitter Web App</td>\n",
              "      <td>https://mobile.twitter.com</td>\n",
              "      <td>0</td>\n",
              "      <td>0</td>\n",
              "      <td>None</td>\n",
              "      <td>GPblog.com</td>\n",
              "      <td>2021-11-05 09:21:52</td>\n",
              "      <td>http://pbs.twimg.com/profile_images/1133315715...</td>\n",
              "    </tr>\n",
              "    <tr>\n",
              "      <th>1</th>\n",
              "      <td>RT @Bubblepurity: ○ ▢ △\\n\\nI saw a lot of this...</td>\n",
              "      <td>Twitter Web App</td>\n",
              "      <td>https://mobile.twitter.com</td>\n",
              "      <td>216</td>\n",
              "      <td>0</td>\n",
              "      <td>None</td>\n",
              "      <td>PIN_Rose🍓</td>\n",
              "      <td>2021-11-05 09:16:45</td>\n",
              "      <td>http://pbs.twimg.com/profile_images/1456548942...</td>\n",
              "    </tr>\n",
              "    <tr>\n",
              "      <th>2</th>\n",
              "      <td>RT @teenypribble: Whom in Astro do you think c...</td>\n",
              "      <td>Twitter for Android</td>\n",
              "      <td>http://twitter.com/download/android</td>\n",
              "      <td>6</td>\n",
              "      <td>0</td>\n",
              "      <td>None</td>\n",
              "      <td>프리얄 🎟 🍄♡~♪ Billlie Debut MJ solo</td>\n",
              "      <td>2021-11-05 08:58:43</td>\n",
              "      <td>http://pbs.twimg.com/profile_images/1452176682...</td>\n",
              "    </tr>\n",
              "    <tr>\n",
              "      <th>3</th>\n",
              "      <td>RT @teenypribble: Whom in Astro do you think c...</td>\n",
              "      <td>Twitter for Android</td>\n",
              "      <td>http://twitter.com/download/android</td>\n",
              "      <td>6</td>\n",
              "      <td>0</td>\n",
              "      <td>None</td>\n",
              "      <td>PAV 🧛‍♀️ ll FLOWERLD 🎟</td>\n",
              "      <td>2021-11-05 08:57:44</td>\n",
              "      <td>http://pbs.twimg.com/profile_images/1452672997...</td>\n",
              "    </tr>\n",
              "    <tr>\n",
              "      <th>4</th>\n",
              "      <td>RT @HTTech: Concerns regarding the #SquidGames...</td>\n",
              "      <td>Twitter for Android</td>\n",
              "      <td>http://twitter.com/download/android</td>\n",
              "      <td>2</td>\n",
              "      <td>0</td>\n",
              "      <td>None</td>\n",
              "      <td>Mayukh Tatai</td>\n",
              "      <td>2021-11-05 08:53:28</td>\n",
              "      <td>http://pbs.twimg.com/profile_images/1417888249...</td>\n",
              "    </tr>\n",
              "    <tr>\n",
              "      <th>...</th>\n",
              "      <td>...</td>\n",
              "      <td>...</td>\n",
              "      <td>...</td>\n",
              "      <td>...</td>\n",
              "      <td>...</td>\n",
              "      <td>...</td>\n",
              "      <td>...</td>\n",
              "      <td>...</td>\n",
              "      <td>...</td>\n",
              "    </tr>\n",
              "    <tr>\n",
              "      <th>995</th>\n",
              "      <td>RT @nityisdreaming: silly thing im posting b4 ...</td>\n",
              "      <td>Twitter Web App</td>\n",
              "      <td>https://mobile.twitter.com</td>\n",
              "      <td>16</td>\n",
              "      <td>0</td>\n",
              "      <td>None</td>\n",
              "      <td>Shinomitsu Week 2021!</td>\n",
              "      <td>2021-11-03 01:26:47</td>\n",
              "      <td>http://pbs.twimg.com/profile_images/1455361633...</td>\n",
              "    </tr>\n",
              "    <tr>\n",
              "      <th>996</th>\n",
              "      <td>Bloodshore Movie Arrives Nov 3rd 🪓🎮🧨 \\nhttps:/...</td>\n",
              "      <td>Twitter for iPhone</td>\n",
              "      <td>http://twitter.com/download/iphone</td>\n",
              "      <td>6</td>\n",
              "      <td>7</td>\n",
              "      <td>None</td>\n",
              "      <td>Andy Anson Actor</td>\n",
              "      <td>2021-11-03 01:26:18</td>\n",
              "      <td>http://pbs.twimg.com/profile_images/1454028285...</td>\n",
              "    </tr>\n",
              "    <tr>\n",
              "      <th>997</th>\n",
              "      <td>I've just watched episode S01 | E09 of Squid G...</td>\n",
              "      <td>TV Time, TV show tracker</td>\n",
              "      <td>https://www.tvtime.com</td>\n",
              "      <td>0</td>\n",
              "      <td>0</td>\n",
              "      <td>None</td>\n",
              "      <td>كرِسس</td>\n",
              "      <td>2021-11-03 01:23:41</td>\n",
              "      <td>http://pbs.twimg.com/profile_images/1381423450...</td>\n",
              "    </tr>\n",
              "    <tr>\n",
              "      <th>998</th>\n",
              "      <td>Clinical Psychologist, Roxanne Goff explains h...</td>\n",
              "      <td>Sprout Social</td>\n",
              "      <td>https://sproutsocial.com</td>\n",
              "      <td>1</td>\n",
              "      <td>5</td>\n",
              "      <td>None</td>\n",
              "      <td>Macquarie University</td>\n",
              "      <td>2021-11-03 01:23:01</td>\n",
              "      <td>http://pbs.twimg.com/profile_images/5772486261...</td>\n",
              "    </tr>\n",
              "    <tr>\n",
              "      <th>999</th>\n",
              "      <td>RT @TScailing: Silly World, an Indian-based ga...</td>\n",
              "      <td>Twitter for Android</td>\n",
              "      <td>http://twitter.com/download/android</td>\n",
              "      <td>1</td>\n",
              "      <td>0</td>\n",
              "      <td>None</td>\n",
              "      <td>Aryan Agarwal</td>\n",
              "      <td>2021-11-03 01:22:35</td>\n",
              "      <td>http://abs.twimg.com/sticky/default_profile_im...</td>\n",
              "    </tr>\n",
              "  </tbody>\n",
              "</table>\n",
              "<p>1000 rows × 9 columns</p>\n",
              "</div>"
            ],
            "text/plain": [
              "                                                  text  ...                                      profile_image\n",
              "0    Can't be the only one 😅 Have you watched #Squi...  ...  http://pbs.twimg.com/profile_images/1133315715...\n",
              "1    RT @Bubblepurity: ○ ▢ △\\n\\nI saw a lot of this...  ...  http://pbs.twimg.com/profile_images/1456548942...\n",
              "2    RT @teenypribble: Whom in Astro do you think c...  ...  http://pbs.twimg.com/profile_images/1452176682...\n",
              "3    RT @teenypribble: Whom in Astro do you think c...  ...  http://pbs.twimg.com/profile_images/1452672997...\n",
              "4    RT @HTTech: Concerns regarding the #SquidGames...  ...  http://pbs.twimg.com/profile_images/1417888249...\n",
              "..                                                 ...  ...                                                ...\n",
              "995  RT @nityisdreaming: silly thing im posting b4 ...  ...  http://pbs.twimg.com/profile_images/1455361633...\n",
              "996  Bloodshore Movie Arrives Nov 3rd 🪓🎮🧨 \\nhttps:/...  ...  http://pbs.twimg.com/profile_images/1454028285...\n",
              "997  I've just watched episode S01 | E09 of Squid G...  ...  http://pbs.twimg.com/profile_images/1381423450...\n",
              "998  Clinical Psychologist, Roxanne Goff explains h...  ...  http://pbs.twimg.com/profile_images/5772486261...\n",
              "999  RT @TScailing: Silly World, an Indian-based ga...  ...  http://abs.twimg.com/sticky/default_profile_im...\n",
              "\n",
              "[1000 rows x 9 columns]"
            ]
          },
          "metadata": {},
          "execution_count": 5
        }
      ]
    },
    {
      "cell_type": "code",
      "metadata": {
        "colab": {
          "base_uri": "https://localhost:8080/",
          "height": 35
        },
        "id": "_5VDu1Kl_Y24",
        "outputId": "6f03a37a-400a-4d5a-9e4a-55ddcdc8a9a1"
      },
      "source": [
        "df.profile_image[100]"
      ],
      "execution_count": null,
      "outputs": [
        {
          "output_type": "execute_result",
          "data": {
            "application/vnd.google.colaboratory.intrinsic+json": {
              "type": "string"
            },
            "text/plain": [
              "'http://pbs.twimg.com/profile_images/955273748390862849/6zQNW0kv_normal.jpg'"
            ]
          },
          "metadata": {},
          "execution_count": 6
        }
      ]
    },
    {
      "cell_type": "code",
      "metadata": {
        "colab": {
          "base_uri": "https://localhost:8080/",
          "height": 35
        },
        "id": "XtmsdbeQTAWe",
        "outputId": "975fc56f-1baf-47ea-8c2b-125f9fe31fd0"
      },
      "source": [
        "df[df.retweet_count== max(df.retweet_count)].iloc[0,].text"
      ],
      "execution_count": null,
      "outputs": [
        {
          "output_type": "execute_result",
          "data": {
            "application/vnd.google.colaboratory.intrinsic+json": {
              "type": "string"
            },
            "text/plain": [
              "'RT @genshashin: If Squid game was a Genshin event...\\n\\n...Also this took forever to edit omg cry cry\\nhttps://t.co/20jGOu3BJ9\\n\\n#GenshinImpact…'"
            ]
          },
          "metadata": {},
          "execution_count": 7
        }
      ]
    },
    {
      "cell_type": "code",
      "metadata": {
        "colab": {
          "base_uri": "https://localhost:8080/",
          "height": 282
        },
        "id": "RzUw3bD2TAWe",
        "outputId": "885e33f6-c392-47c4-92f3-42e2c88af9ae"
      },
      "source": [
        "df.retweet_count.value_counts().hist(bins=20)"
      ],
      "execution_count": null,
      "outputs": [
        {
          "output_type": "execute_result",
          "data": {
            "text/plain": [
              "<matplotlib.axes._subplots.AxesSubplot at 0x7ff0f1cfa650>"
            ]
          },
          "metadata": {},
          "execution_count": 8
        },
        {
          "output_type": "display_data",
          "data": {
            "image/png": "[encoded data removed]",
            "text/plain": [
              "<Figure size 432x288 with 1 Axes>"
            ]
          },
          "metadata": {
            "needs_background": "light"
          }
        }
      ]
    },
    {
      "cell_type": "code",
      "metadata": {
        "colab": {
          "base_uri": "https://localhost:8080/",
          "height": 282
        },
        "id": "yAaF3a3ATAWf",
        "outputId": "1fc3e8e9-8429-4956-bce0-619e5c7d87f1"
      },
      "source": [
        "import numpy as np\n",
        "df.retweet_count.value_counts().map(lambda x: np.log(1+x)).hist(bins=20 )"
      ],
      "execution_count": null,
      "outputs": [
        {
          "output_type": "execute_result",
          "data": {
            "text/plain": [
              "<matplotlib.axes._subplots.AxesSubplot at 0x7ff0ea2b2fd0>"
            ]
          },
          "metadata": {},
          "execution_count": 9
        },
        {
          "output_type": "display_data",
          "data": {
            "image/png": "[encoded data removed]",
            "text/plain": [
              "<Figure size 432x288 with 1 Axes>"
            ]
          },
          "metadata": {
            "needs_background": "light"
          }
        }
      ]
    },
    {
      "cell_type": "code",
      "metadata": {
        "colab": {
          "base_uri": "https://localhost:8080/",
          "height": 283
        },
        "id": "LpZbQj0rTAWf",
        "outputId": "aa4f99fb-e4e7-4d90-850a-d1be1295e892"
      },
      "source": [
        "df.retweet_count.value_counts().plot(kind='box')"
      ],
      "execution_count": null,
      "outputs": [
        {
          "output_type": "execute_result",
          "data": {
            "text/plain": [
              "<matplotlib.axes._subplots.AxesSubplot at 0x7ff0ea1f6b50>"
            ]
          },
          "metadata": {},
          "execution_count": 10
        },
        {
          "output_type": "display_data",
          "data": {
            "image/png": "[encoded data removed]",
            "text/plain": [
              "<Figure size 432x288 with 1 Axes>"
            ]
          },
          "metadata": {
            "needs_background": "light"
          }
        }
      ]
    },
    {
      "cell_type": "code",
      "metadata": {
        "colab": {
          "base_uri": "https://localhost:8080/"
        },
        "id": "NSFhUQDBdPSv",
        "outputId": "f49c006e-afe7-4d80-aea1-d3c0b04211ad"
      },
      "source": [
        "df.source"
      ],
      "execution_count": null,
      "outputs": [
        {
          "output_type": "execute_result",
          "data": {
            "text/plain": [
              "0               Twitter Web App\n",
              "1               Twitter Web App\n",
              "2           Twitter for Android\n",
              "3           Twitter for Android\n",
              "4           Twitter for Android\n",
              "                 ...           \n",
              "995             Twitter Web App\n",
              "996          Twitter for iPhone\n",
              "997    TV Time, TV show tracker\n",
              "998               Sprout Social\n",
              "999         Twitter for Android\n",
              "Name: source, Length: 1000, dtype: object"
            ]
          },
          "metadata": {},
          "execution_count": 11
        }
      ]
    },
    {
      "cell_type": "code",
      "metadata": {
        "colab": {
          "base_uri": "https://localhost:8080/",
          "height": 427
        },
        "id": "FIP_tlC6TAWf",
        "outputId": "4c18ec46-ed46-4f29-d0a2-bc2a6bf4e4b7"
      },
      "source": [
        "df.source.value_counts().plot(kind='bar')"
      ],
      "execution_count": null,
      "outputs": [
        {
          "output_type": "execute_result",
          "data": {
            "text/plain": [
              "<matplotlib.axes._subplots.AxesSubplot at 0x7ff0ea175750>"
            ]
          },
          "metadata": {},
          "execution_count": 12
        },
        {
          "output_type": "display_data",
          "data": {
            "image/png": "[encoded data removed]",
            "text/plain": [
              "<Figure size 432x288 with 1 Axes>"
            ]
          },
          "metadata": {
            "needs_background": "light"
          }
        }
      ]
    },
    {
      "cell_type": "code",
      "metadata": {
        "colab": {
          "base_uri": "https://localhost:8080/",
          "height": 399
        },
        "id": "LupJMzl8TAWf",
        "outputId": "ed8552e7-d372-47c8-ca2a-1ebaa18cd877"
      },
      "source": [
        "src=df.source.value_counts()\n",
        "src[src>2].plot(kind='bar')"
      ],
      "execution_count": null,
      "outputs": [
        {
          "output_type": "execute_result",
          "data": {
            "text/plain": [
              "<matplotlib.axes._subplots.AxesSubplot at 0x7ff0e9fd01d0>"
            ]
          },
          "metadata": {},
          "execution_count": 13
        },
        {
          "output_type": "display_data",
          "data": {
            "image/png": "[encoded data removed]",
            "text/plain": [
              "<Figure size 432x288 with 1 Axes>"
            ]
          },
          "metadata": {
            "needs_background": "light"
          }
        }
      ]
    },
    {
      "cell_type": "code",
      "metadata": {
        "colab": {
          "base_uri": "https://localhost:8080/"
        },
        "id": "4BpYlfLTTAWg",
        "outputId": "aae68b23-b7e8-4bd7-de3a-8a9d042e7bde"
      },
      "source": [
        "df.favorite.mean(), df.favorite.median(), df.favorite.max(), df.favorite.min() "
      ],
      "execution_count": null,
      "outputs": [
        {
          "output_type": "execute_result",
          "data": {
            "text/plain": [
              "(1.122, 0.0, 178, 0)"
            ]
          },
          "metadata": {},
          "execution_count": 14
        }
      ]
    },
    {
      "cell_type": "code",
      "metadata": {
        "colab": {
          "base_uri": "https://localhost:8080/"
        },
        "id": "8hgfO78xTAWg",
        "outputId": "b95488bb-8edc-4fec-cacc-cccf593525dc"
      },
      "source": [
        "df.favorite.value_counts()"
      ],
      "execution_count": null,
      "outputs": [
        {
          "output_type": "execute_result",
          "data": {
            "text/plain": [
              "0      803\n",
              "1       84\n",
              "2       32\n",
              "3       20\n",
              "5       11\n",
              "4        9\n",
              "7        8\n",
              "6        6\n",
              "8        6\n",
              "10       2\n",
              "21       2\n",
              "16       2\n",
              "14       2\n",
              "9        2\n",
              "178      1\n",
              "11       1\n",
              "137      1\n",
              "15       1\n",
              "18       1\n",
              "19       1\n",
              "27       1\n",
              "33       1\n",
              "34       1\n",
              "58       1\n",
              "13       1\n",
              "Name: favorite, dtype: int64"
            ]
          },
          "metadata": {},
          "execution_count": 15
        }
      ]
    },
    {
      "cell_type": "code",
      "metadata": {
        "colab": {
          "base_uri": "https://localhost:8080/",
          "height": 114
        },
        "id": "KnEQiw4WTAWg",
        "outputId": "5cff0f73-eefb-44ad-ee93-b7f7b7bf4b98"
      },
      "source": [
        "df[df.favorite==max(df.favorite)]"
      ],
      "execution_count": null,
      "outputs": [
        {
          "output_type": "execute_result",
          "data": {
            "text/html": [
              "<div>\n",
              "<style scoped>\n",
              "    .dataframe tbody tr th:only-of-type {\n",
              "        vertical-align: middle;\n",
              "    }\n",
              "\n",
              "    .dataframe tbody tr th {\n",
              "        vertical-align: top;\n",
              "    }\n",
              "\n",
              "    .dataframe thead th {\n",
              "        text-align: right;\n",
              "    }\n",
              "</style>\n",
              "<table border=\"1\" class=\"dataframe\">\n",
              "  <thead>\n",
              "    <tr style=\"text-align: right;\">\n",
              "      <th></th>\n",
              "      <th>text</th>\n",
              "      <th>source</th>\n",
              "      <th>source_url</th>\n",
              "      <th>retweet_count</th>\n",
              "      <th>favorite</th>\n",
              "      <th>geo</th>\n",
              "      <th>user</th>\n",
              "      <th>created_at</th>\n",
              "      <th>profile_image</th>\n",
              "    </tr>\n",
              "  </thead>\n",
              "  <tbody>\n",
              "    <tr>\n",
              "      <th>564</th>\n",
              "      <td>Cheers to the sky 👁️💧🍸\\n#SquidGames #artist #s...</td>\n",
              "      <td>Twitter for Android</td>\n",
              "      <td>http://twitter.com/download/android</td>\n",
              "      <td>21</td>\n",
              "      <td>178</td>\n",
              "      <td>None</td>\n",
              "      <td>🥀 Иоаннушка 🥀</td>\n",
              "      <td>2021-11-03 22:46:50</td>\n",
              "      <td>http://pbs.twimg.com/profile_images/1425219344...</td>\n",
              "    </tr>\n",
              "  </tbody>\n",
              "</table>\n",
              "</div>"
            ],
            "text/plain": [
              "                                                  text  ...                                      profile_image\n",
              "564  Cheers to the sky 👁️💧🍸\\n#SquidGames #artist #s...  ...  http://pbs.twimg.com/profile_images/1425219344...\n",
              "\n",
              "[1 rows x 9 columns]"
            ]
          },
          "metadata": {},
          "execution_count": 16
        }
      ]
    },
    {
      "cell_type": "code",
      "metadata": {
        "colab": {
          "base_uri": "https://localhost:8080/"
        },
        "id": "Afup6Rl0fIEA",
        "outputId": "bfdfc2ab-0f69-4516-d1c1-105d2c02b0bd"
      },
      "source": [
        "df.retweet_count.value_counts()"
      ],
      "execution_count": null,
      "outputs": [
        {
          "output_type": "execute_result",
          "data": {
            "text/plain": [
              "0        400\n",
              "1        109\n",
              "2         64\n",
              "53        51\n",
              "3         42\n",
              "        ... \n",
              "41         1\n",
              "38         1\n",
              "36         1\n",
              "143        1\n",
              "11260      1\n",
              "Name: retweet_count, Length: 87, dtype: int64"
            ]
          },
          "metadata": {},
          "execution_count": 17
        }
      ]
    },
    {
      "cell_type": "code",
      "metadata": {
        "colab": {
          "base_uri": "https://localhost:8080/",
          "height": 435
        },
        "id": "Xid7n2g6fOBx",
        "outputId": "834d228c-5546-4752-ba6a-72aa0f7fee27"
      },
      "source": [
        "df[df.retweet_count== max(df.retweet_count)] "
      ],
      "execution_count": null,
      "outputs": [
        {
          "output_type": "execute_result",
          "data": {
            "text/html": [
              "<div>\n",
              "<style scoped>\n",
              "    .dataframe tbody tr th:only-of-type {\n",
              "        vertical-align: middle;\n",
              "    }\n",
              "\n",
              "    .dataframe tbody tr th {\n",
              "        vertical-align: top;\n",
              "    }\n",
              "\n",
              "    .dataframe thead th {\n",
              "        text-align: right;\n",
              "    }\n",
              "</style>\n",
              "<table border=\"1\" class=\"dataframe\">\n",
              "  <thead>\n",
              "    <tr style=\"text-align: right;\">\n",
              "      <th></th>\n",
              "      <th>text</th>\n",
              "      <th>source</th>\n",
              "      <th>source_url</th>\n",
              "      <th>retweet_count</th>\n",
              "      <th>favorite</th>\n",
              "      <th>geo</th>\n",
              "      <th>user</th>\n",
              "      <th>created_at</th>\n",
              "      <th>profile_image</th>\n",
              "    </tr>\n",
              "  </thead>\n",
              "  <tbody>\n",
              "    <tr>\n",
              "      <th>389</th>\n",
              "      <td>RT @genshashin: If Squid game was a Genshin ev...</td>\n",
              "      <td>Twitter for Android</td>\n",
              "      <td>http://twitter.com/download/android</td>\n",
              "      <td>29090</td>\n",
              "      <td>0</td>\n",
              "      <td>None</td>\n",
              "      <td>BCG</td>\n",
              "      <td>2021-11-04 09:02:04</td>\n",
              "      <td>http://pbs.twimg.com/profile_images/9114221085...</td>\n",
              "    </tr>\n",
              "    <tr>\n",
              "      <th>402</th>\n",
              "      <td>RT @genshashin: If Squid game was a Genshin ev...</td>\n",
              "      <td>Twitter Web App</td>\n",
              "      <td>https://mobile.twitter.com</td>\n",
              "      <td>29090</td>\n",
              "      <td>0</td>\n",
              "      <td>None</td>\n",
              "      <td>𓂃* ❅ 𝐸ᴜʟᴀ ℄ᴀᴡʀᴇɴᴄᴇ</td>\n",
              "      <td>2021-11-04 07:49:36</td>\n",
              "      <td>http://pbs.twimg.com/profile_images/1455402238...</td>\n",
              "    </tr>\n",
              "    <tr>\n",
              "      <th>624</th>\n",
              "      <td>RT @genshashin: If Squid game was a Genshin ev...</td>\n",
              "      <td>Twitter Web App</td>\n",
              "      <td>https://mobile.twitter.com</td>\n",
              "      <td>29090</td>\n",
              "      <td>0</td>\n",
              "      <td>None</td>\n",
              "      <td>ISMAGRANDI ~🇲🇽</td>\n",
              "      <td>2021-11-03 20:49:53</td>\n",
              "      <td>http://pbs.twimg.com/profile_images/1409114071...</td>\n",
              "    </tr>\n",
              "    <tr>\n",
              "      <th>802</th>\n",
              "      <td>RT @genshashin: If Squid game was a Genshin ev...</td>\n",
              "      <td>Twitter Web App</td>\n",
              "      <td>https://mobile.twitter.com</td>\n",
              "      <td>29090</td>\n",
              "      <td>0</td>\n",
              "      <td>None</td>\n",
              "      <td>FFkla</td>\n",
              "      <td>2021-11-03 12:16:11</td>\n",
              "      <td>http://pbs.twimg.com/profile_images/1232146887...</td>\n",
              "    </tr>\n",
              "    <tr>\n",
              "      <th>824</th>\n",
              "      <td>RT @genshashin: If Squid game was a Genshin ev...</td>\n",
              "      <td>Twitter for iPhone</td>\n",
              "      <td>http://twitter.com/download/iphone</td>\n",
              "      <td>29090</td>\n",
              "      <td>0</td>\n",
              "      <td>None</td>\n",
              "      <td>marshall__</td>\n",
              "      <td>2021-11-03 11:37:04</td>\n",
              "      <td>http://pbs.twimg.com/profile_images/1455707641...</td>\n",
              "    </tr>\n",
              "    <tr>\n",
              "      <th>939</th>\n",
              "      <td>RT @genshashin: If Squid game was a Genshin ev...</td>\n",
              "      <td>Twitter for Android</td>\n",
              "      <td>http://twitter.com/download/android</td>\n",
              "      <td>29090</td>\n",
              "      <td>0</td>\n",
              "      <td>None</td>\n",
              "      <td>🤏🏻</td>\n",
              "      <td>2021-11-03 04:02:38</td>\n",
              "      <td>http://pbs.twimg.com/profile_images/1455586468...</td>\n",
              "    </tr>\n",
              "  </tbody>\n",
              "</table>\n",
              "</div>"
            ],
            "text/plain": [
              "                                                  text  ...                                      profile_image\n",
              "389  RT @genshashin: If Squid game was a Genshin ev...  ...  http://pbs.twimg.com/profile_images/9114221085...\n",
              "402  RT @genshashin: If Squid game was a Genshin ev...  ...  http://pbs.twimg.com/profile_images/1455402238...\n",
              "624  RT @genshashin: If Squid game was a Genshin ev...  ...  http://pbs.twimg.com/profile_images/1409114071...\n",
              "802  RT @genshashin: If Squid game was a Genshin ev...  ...  http://pbs.twimg.com/profile_images/1232146887...\n",
              "824  RT @genshashin: If Squid game was a Genshin ev...  ...  http://pbs.twimg.com/profile_images/1455707641...\n",
              "939  RT @genshashin: If Squid game was a Genshin ev...  ...  http://pbs.twimg.com/profile_images/1455586468...\n",
              "\n",
              "[6 rows x 9 columns]"
            ]
          },
          "metadata": {},
          "execution_count": 18
        }
      ]
    },
    {
      "cell_type": "code",
      "metadata": {
        "colab": {
          "base_uri": "https://localhost:8080/"
        },
        "id": "CKh385RhhOoW",
        "outputId": "1c55e8b2-8398-403c-a78d-3302e531ba34"
      },
      "source": [
        "list(df[df.retweet_count== max(df.retweet_count)].text)"
      ],
      "execution_count": null,
      "outputs": [
        {
          "output_type": "execute_result",
          "data": {
            "text/plain": [
              "['RT @genshashin: If Squid game was a Genshin event...\\n\\n...Also this took forever to edit omg cry cry\\nhttps://t.co/20jGOu3BJ9\\n\\n#GenshinImpact…',\n",
              " 'RT @genshashin: If Squid game was a Genshin event...\\n\\n...Also this took forever to edit omg cry cry\\nhttps://t.co/20jGOu3BJ9\\n\\n#GenshinImpact…',\n",
              " 'RT @genshashin: If Squid game was a Genshin event...\\n\\n...Also this took forever to edit omg cry cry\\nhttps://t.co/20jGOu3BJ9\\n\\n#GenshinImpact…',\n",
              " 'RT @genshashin: If Squid game was a Genshin event...\\n\\n...Also this took forever to edit omg cry cry\\nhttps://t.co/20jGOu3BJ9\\n\\n#GenshinImpact…',\n",
              " 'RT @genshashin: If Squid game was a Genshin event...\\n\\n...Also this took forever to edit omg cry cry\\nhttps://t.co/20jGOu3BJ9\\n\\n#GenshinImpact…',\n",
              " 'RT @genshashin: If Squid game was a Genshin event...\\n\\n...Also this took forever to edit omg cry cry\\nhttps://t.co/20jGOu3BJ9\\n\\n#GenshinImpact…']"
            ]
          },
          "metadata": {},
          "execution_count": 19
        }
      ]
    },
    {
      "cell_type": "code",
      "metadata": {
        "colab": {
          "base_uri": "https://localhost:8080/",
          "height": 753
        },
        "id": "0OfgiT1LTAWh",
        "outputId": "156f2484-0e90-4229-a07a-9c310eab482b"
      },
      "source": [
        "df.sort_values(by=['created_at'], ascending=False)"
      ],
      "execution_count": null,
      "outputs": [
        {
          "output_type": "execute_result",
          "data": {
            "text/html": [
              "<div>\n",
              "<style scoped>\n",
              "    .dataframe tbody tr th:only-of-type {\n",
              "        vertical-align: middle;\n",
              "    }\n",
              "\n",
              "    .dataframe tbody tr th {\n",
              "        vertical-align: top;\n",
              "    }\n",
              "\n",
              "    .dataframe thead th {\n",
              "        text-align: right;\n",
              "    }\n",
              "</style>\n",
              "<table border=\"1\" class=\"dataframe\">\n",
              "  <thead>\n",
              "    <tr style=\"text-align: right;\">\n",
              "      <th></th>\n",
              "      <th>text</th>\n",
              "      <th>source</th>\n",
              "      <th>source_url</th>\n",
              "      <th>retweet_count</th>\n",
              "      <th>favorite</th>\n",
              "      <th>geo</th>\n",
              "      <th>user</th>\n",
              "      <th>created_at</th>\n",
              "      <th>profile_image</th>\n",
              "    </tr>\n",
              "  </thead>\n",
              "  <tbody>\n",
              "    <tr>\n",
              "      <th>0</th>\n",
              "      <td>Can't be the only one 😅 Have you watched #Squi...</td>\n",
              "      <td>Twitter Web App</td>\n",
              "      <td>https://mobile.twitter.com</td>\n",
              "      <td>0</td>\n",
              "      <td>0</td>\n",
              "      <td>None</td>\n",
              "      <td>GPblog.com</td>\n",
              "      <td>2021-11-05 09:21:52</td>\n",
              "      <td>http://pbs.twimg.com/profile_images/1133315715...</td>\n",
              "    </tr>\n",
              "    <tr>\n",
              "      <th>1</th>\n",
              "      <td>RT @Bubblepurity: ○ ▢ △\\n\\nI saw a lot of this...</td>\n",
              "      <td>Twitter Web App</td>\n",
              "      <td>https://mobile.twitter.com</td>\n",
              "      <td>216</td>\n",
              "      <td>0</td>\n",
              "      <td>None</td>\n",
              "      <td>PIN_Rose🍓</td>\n",
              "      <td>2021-11-05 09:16:45</td>\n",
              "      <td>http://pbs.twimg.com/profile_images/1456548942...</td>\n",
              "    </tr>\n",
              "    <tr>\n",
              "      <th>2</th>\n",
              "      <td>RT @teenypribble: Whom in Astro do you think c...</td>\n",
              "      <td>Twitter for Android</td>\n",
              "      <td>http://twitter.com/download/android</td>\n",
              "      <td>6</td>\n",
              "      <td>0</td>\n",
              "      <td>None</td>\n",
              "      <td>프리얄 🎟 🍄♡~♪ Billlie Debut MJ solo</td>\n",
              "      <td>2021-11-05 08:58:43</td>\n",
              "      <td>http://pbs.twimg.com/profile_images/1452176682...</td>\n",
              "    </tr>\n",
              "    <tr>\n",
              "      <th>3</th>\n",
              "      <td>RT @teenypribble: Whom in Astro do you think c...</td>\n",
              "      <td>Twitter for Android</td>\n",
              "      <td>http://twitter.com/download/android</td>\n",
              "      <td>6</td>\n",
              "      <td>0</td>\n",
              "      <td>None</td>\n",
              "      <td>PAV 🧛‍♀️ ll FLOWERLD 🎟</td>\n",
              "      <td>2021-11-05 08:57:44</td>\n",
              "      <td>http://pbs.twimg.com/profile_images/1452672997...</td>\n",
              "    </tr>\n",
              "    <tr>\n",
              "      <th>4</th>\n",
              "      <td>RT @HTTech: Concerns regarding the #SquidGames...</td>\n",
              "      <td>Twitter for Android</td>\n",
              "      <td>http://twitter.com/download/android</td>\n",
              "      <td>2</td>\n",
              "      <td>0</td>\n",
              "      <td>None</td>\n",
              "      <td>Mayukh Tatai</td>\n",
              "      <td>2021-11-05 08:53:28</td>\n",
              "      <td>http://pbs.twimg.com/profile_images/1417888249...</td>\n",
              "    </tr>\n",
              "    <tr>\n",
              "      <th>...</th>\n",
              "      <td>...</td>\n",
              "      <td>...</td>\n",
              "      <td>...</td>\n",
              "      <td>...</td>\n",
              "      <td>...</td>\n",
              "      <td>...</td>\n",
              "      <td>...</td>\n",
              "      <td>...</td>\n",
              "      <td>...</td>\n",
              "    </tr>\n",
              "    <tr>\n",
              "      <th>995</th>\n",
              "      <td>RT @nityisdreaming: silly thing im posting b4 ...</td>\n",
              "      <td>Twitter Web App</td>\n",
              "      <td>https://mobile.twitter.com</td>\n",
              "      <td>16</td>\n",
              "      <td>0</td>\n",
              "      <td>None</td>\n",
              "      <td>Shinomitsu Week 2021!</td>\n",
              "      <td>2021-11-03 01:26:47</td>\n",
              "      <td>http://pbs.twimg.com/profile_images/1455361633...</td>\n",
              "    </tr>\n",
              "    <tr>\n",
              "      <th>996</th>\n",
              "      <td>Bloodshore Movie Arrives Nov 3rd 🪓🎮🧨 \\nhttps:/...</td>\n",
              "      <td>Twitter for iPhone</td>\n",
              "      <td>http://twitter.com/download/iphone</td>\n",
              "      <td>6</td>\n",
              "      <td>7</td>\n",
              "      <td>None</td>\n",
              "      <td>Andy Anson Actor</td>\n",
              "      <td>2021-11-03 01:26:18</td>\n",
              "      <td>http://pbs.twimg.com/profile_images/1454028285...</td>\n",
              "    </tr>\n",
              "    <tr>\n",
              "      <th>997</th>\n",
              "      <td>I've just watched episode S01 | E09 of Squid G...</td>\n",
              "      <td>TV Time, TV show tracker</td>\n",
              "      <td>https://www.tvtime.com</td>\n",
              "      <td>0</td>\n",
              "      <td>0</td>\n",
              "      <td>None</td>\n",
              "      <td>كرِسس</td>\n",
              "      <td>2021-11-03 01:23:41</td>\n",
              "      <td>http://pbs.twimg.com/profile_images/1381423450...</td>\n",
              "    </tr>\n",
              "    <tr>\n",
              "      <th>998</th>\n",
              "      <td>Clinical Psychologist, Roxanne Goff explains h...</td>\n",
              "      <td>Sprout Social</td>\n",
              "      <td>https://sproutsocial.com</td>\n",
              "      <td>1</td>\n",
              "      <td>5</td>\n",
              "      <td>None</td>\n",
              "      <td>Macquarie University</td>\n",
              "      <td>2021-11-03 01:23:01</td>\n",
              "      <td>http://pbs.twimg.com/profile_images/5772486261...</td>\n",
              "    </tr>\n",
              "    <tr>\n",
              "      <th>999</th>\n",
              "      <td>RT @TScailing: Silly World, an Indian-based ga...</td>\n",
              "      <td>Twitter for Android</td>\n",
              "      <td>http://twitter.com/download/android</td>\n",
              "      <td>1</td>\n",
              "      <td>0</td>\n",
              "      <td>None</td>\n",
              "      <td>Aryan Agarwal</td>\n",
              "      <td>2021-11-03 01:22:35</td>\n",
              "      <td>http://abs.twimg.com/sticky/default_profile_im...</td>\n",
              "    </tr>\n",
              "  </tbody>\n",
              "</table>\n",
              "<p>1000 rows × 9 columns</p>\n",
              "</div>"
            ],
            "text/plain": [
              "                                                  text  ...                                      profile_image\n",
              "0    Can't be the only one 😅 Have you watched #Squi...  ...  http://pbs.twimg.com/profile_images/1133315715...\n",
              "1    RT @Bubblepurity: ○ ▢ △\\n\\nI saw a lot of this...  ...  http://pbs.twimg.com/profile_images/1456548942...\n",
              "2    RT @teenypribble: Whom in Astro do you think c...  ...  http://pbs.twimg.com/profile_images/1452176682...\n",
              "3    RT @teenypribble: Whom in Astro do you think c...  ...  http://pbs.twimg.com/profile_images/1452672997...\n",
              "4    RT @HTTech: Concerns regarding the #SquidGames...  ...  http://pbs.twimg.com/profile_images/1417888249...\n",
              "..                                                 ...  ...                                                ...\n",
              "995  RT @nityisdreaming: silly thing im posting b4 ...  ...  http://pbs.twimg.com/profile_images/1455361633...\n",
              "996  Bloodshore Movie Arrives Nov 3rd 🪓🎮🧨 \\nhttps:/...  ...  http://pbs.twimg.com/profile_images/1454028285...\n",
              "997  I've just watched episode S01 | E09 of Squid G...  ...  http://pbs.twimg.com/profile_images/1381423450...\n",
              "998  Clinical Psychologist, Roxanne Goff explains h...  ...  http://pbs.twimg.com/profile_images/5772486261...\n",
              "999  RT @TScailing: Silly World, an Indian-based ga...  ...  http://abs.twimg.com/sticky/default_profile_im...\n",
              "\n",
              "[1000 rows x 9 columns]"
            ]
          },
          "metadata": {},
          "execution_count": 20
        }
      ]
    },
    {
      "cell_type": "code",
      "metadata": {
        "colab": {
          "base_uri": "https://localhost:8080/",
          "height": 706
        },
        "id": "YXT-WJ5tTAWh",
        "outputId": "f6b15ee7-4c98-4582-b43e-d6f439ee8cb6"
      },
      "source": [
        "df.sort_values(by=['retweet_count'], ascending=False)"
      ],
      "execution_count": null,
      "outputs": [
        {
          "output_type": "execute_result",
          "data": {
            "text/html": [
              "<div>\n",
              "<style scoped>\n",
              "    .dataframe tbody tr th:only-of-type {\n",
              "        vertical-align: middle;\n",
              "    }\n",
              "\n",
              "    .dataframe tbody tr th {\n",
              "        vertical-align: top;\n",
              "    }\n",
              "\n",
              "    .dataframe thead th {\n",
              "        text-align: right;\n",
              "    }\n",
              "</style>\n",
              "<table border=\"1\" class=\"dataframe\">\n",
              "  <thead>\n",
              "    <tr style=\"text-align: right;\">\n",
              "      <th></th>\n",
              "      <th>text</th>\n",
              "      <th>source</th>\n",
              "      <th>source_url</th>\n",
              "      <th>retweet_count</th>\n",
              "      <th>favorite</th>\n",
              "      <th>geo</th>\n",
              "      <th>user</th>\n",
              "      <th>created_at</th>\n",
              "      <th>profile_image</th>\n",
              "    </tr>\n",
              "  </thead>\n",
              "  <tbody>\n",
              "    <tr>\n",
              "      <th>389</th>\n",
              "      <td>RT @genshashin: If Squid game was a Genshin ev...</td>\n",
              "      <td>Twitter for Android</td>\n",
              "      <td>http://twitter.com/download/android</td>\n",
              "      <td>29090</td>\n",
              "      <td>0</td>\n",
              "      <td>None</td>\n",
              "      <td>BCG</td>\n",
              "      <td>2021-11-04 09:02:04</td>\n",
              "      <td>http://pbs.twimg.com/profile_images/9114221085...</td>\n",
              "    </tr>\n",
              "    <tr>\n",
              "      <th>939</th>\n",
              "      <td>RT @genshashin: If Squid game was a Genshin ev...</td>\n",
              "      <td>Twitter for Android</td>\n",
              "      <td>http://twitter.com/download/android</td>\n",
              "      <td>29090</td>\n",
              "      <td>0</td>\n",
              "      <td>None</td>\n",
              "      <td>🤏🏻</td>\n",
              "      <td>2021-11-03 04:02:38</td>\n",
              "      <td>http://pbs.twimg.com/profile_images/1455586468...</td>\n",
              "    </tr>\n",
              "    <tr>\n",
              "      <th>802</th>\n",
              "      <td>RT @genshashin: If Squid game was a Genshin ev...</td>\n",
              "      <td>Twitter Web App</td>\n",
              "      <td>https://mobile.twitter.com</td>\n",
              "      <td>29090</td>\n",
              "      <td>0</td>\n",
              "      <td>None</td>\n",
              "      <td>FFkla</td>\n",
              "      <td>2021-11-03 12:16:11</td>\n",
              "      <td>http://pbs.twimg.com/profile_images/1232146887...</td>\n",
              "    </tr>\n",
              "    <tr>\n",
              "      <th>624</th>\n",
              "      <td>RT @genshashin: If Squid game was a Genshin ev...</td>\n",
              "      <td>Twitter Web App</td>\n",
              "      <td>https://mobile.twitter.com</td>\n",
              "      <td>29090</td>\n",
              "      <td>0</td>\n",
              "      <td>None</td>\n",
              "      <td>ISMAGRANDI ~🇲🇽</td>\n",
              "      <td>2021-11-03 20:49:53</td>\n",
              "      <td>http://pbs.twimg.com/profile_images/1409114071...</td>\n",
              "    </tr>\n",
              "    <tr>\n",
              "      <th>402</th>\n",
              "      <td>RT @genshashin: If Squid game was a Genshin ev...</td>\n",
              "      <td>Twitter Web App</td>\n",
              "      <td>https://mobile.twitter.com</td>\n",
              "      <td>29090</td>\n",
              "      <td>0</td>\n",
              "      <td>None</td>\n",
              "      <td>𓂃* ❅ 𝐸ᴜʟᴀ ℄ᴀᴡʀᴇɴᴄᴇ</td>\n",
              "      <td>2021-11-04 07:49:36</td>\n",
              "      <td>http://pbs.twimg.com/profile_images/1455402238...</td>\n",
              "    </tr>\n",
              "    <tr>\n",
              "      <th>...</th>\n",
              "      <td>...</td>\n",
              "      <td>...</td>\n",
              "      <td>...</td>\n",
              "      <td>...</td>\n",
              "      <td>...</td>\n",
              "      <td>...</td>\n",
              "      <td>...</td>\n",
              "      <td>...</td>\n",
              "      <td>...</td>\n",
              "    </tr>\n",
              "    <tr>\n",
              "      <th>698</th>\n",
              "      <td>I'd like to think I could win the #squidgames,...</td>\n",
              "      <td>Twitter Web App</td>\n",
              "      <td>https://mobile.twitter.com</td>\n",
              "      <td>0</td>\n",
              "      <td>0</td>\n",
              "      <td>None</td>\n",
              "      <td>icouldbeafinch</td>\n",
              "      <td>2021-11-03 17:39:20</td>\n",
              "      <td>http://pbs.twimg.com/profile_images/1455946575...</td>\n",
              "    </tr>\n",
              "    <tr>\n",
              "      <th>697</th>\n",
              "      <td>@Twitter and @Variety are releasing Top Trendi...</td>\n",
              "      <td>Twitter Web App</td>\n",
              "      <td>https://mobile.twitter.com</td>\n",
              "      <td>0</td>\n",
              "      <td>0</td>\n",
              "      <td>None</td>\n",
              "      <td>MorningBird Media</td>\n",
              "      <td>2021-11-03 17:42:00</td>\n",
              "      <td>http://pbs.twimg.com/profile_images/1083818872...</td>\n",
              "    </tr>\n",
              "    <tr>\n",
              "      <th>696</th>\n",
              "      <td>I swear I would have an easier time completing...</td>\n",
              "      <td>Twitter for Android</td>\n",
              "      <td>http://twitter.com/download/android</td>\n",
              "      <td>0</td>\n",
              "      <td>0</td>\n",
              "      <td>None</td>\n",
              "      <td>Moe</td>\n",
              "      <td>2021-11-03 17:42:45</td>\n",
              "      <td>http://pbs.twimg.com/profile_images/1416810411...</td>\n",
              "    </tr>\n",
              "    <tr>\n",
              "      <th>695</th>\n",
              "      <td>Fun times on Halloween!\\n#squidgames @ London,...</td>\n",
              "      <td>Instagram</td>\n",
              "      <td>http://instagram.com</td>\n",
              "      <td>0</td>\n",
              "      <td>1</td>\n",
              "      <td>{'type': 'Point', 'coordinates': [51.5141, -0....</td>\n",
              "      <td>Brendan</td>\n",
              "      <td>2021-11-03 17:43:33</td>\n",
              "      <td>http://pbs.twimg.com/profile_images/1317646567...</td>\n",
              "    </tr>\n",
              "    <tr>\n",
              "      <th>0</th>\n",
              "      <td>Can't be the only one 😅 Have you watched #Squi...</td>\n",
              "      <td>Twitter Web App</td>\n",
              "      <td>https://mobile.twitter.com</td>\n",
              "      <td>0</td>\n",
              "      <td>0</td>\n",
              "      <td>None</td>\n",
              "      <td>GPblog.com</td>\n",
              "      <td>2021-11-05 09:21:52</td>\n",
              "      <td>http://pbs.twimg.com/profile_images/1133315715...</td>\n",
              "    </tr>\n",
              "  </tbody>\n",
              "</table>\n",
              "<p>1000 rows × 9 columns</p>\n",
              "</div>"
            ],
            "text/plain": [
              "                                                  text  ...                                      profile_image\n",
              "389  RT @genshashin: If Squid game was a Genshin ev...  ...  http://pbs.twimg.com/profile_images/9114221085...\n",
              "939  RT @genshashin: If Squid game was a Genshin ev...  ...  http://pbs.twimg.com/profile_images/1455586468...\n",
              "802  RT @genshashin: If Squid game was a Genshin ev...  ...  http://pbs.twimg.com/profile_images/1232146887...\n",
              "624  RT @genshashin: If Squid game was a Genshin ev...  ...  http://pbs.twimg.com/profile_images/1409114071...\n",
              "402  RT @genshashin: If Squid game was a Genshin ev...  ...  http://pbs.twimg.com/profile_images/1455402238...\n",
              "..                                                 ...  ...                                                ...\n",
              "698  I'd like to think I could win the #squidgames,...  ...  http://pbs.twimg.com/profile_images/1455946575...\n",
              "697  @Twitter and @Variety are releasing Top Trendi...  ...  http://pbs.twimg.com/profile_images/1083818872...\n",
              "696  I swear I would have an easier time completing...  ...  http://pbs.twimg.com/profile_images/1416810411...\n",
              "695  Fun times on Halloween!\\n#squidgames @ London,...  ...  http://pbs.twimg.com/profile_images/1317646567...\n",
              "0    Can't be the only one 😅 Have you watched #Squi...  ...  http://pbs.twimg.com/profile_images/1133315715...\n",
              "\n",
              "[1000 rows x 9 columns]"
            ]
          },
          "metadata": {},
          "execution_count": 21
        }
      ]
    },
    {
      "cell_type": "code",
      "metadata": {
        "colab": {
          "base_uri": "https://localhost:8080/",
          "height": 786
        },
        "id": "eGfUrZ6fTAWh",
        "outputId": "31ead5f7-41dd-4d83-a2b0-88908df1056b"
      },
      "source": [
        "df.sort_values(by=['favorite'], ascending=False)"
      ],
      "execution_count": null,
      "outputs": [
        {
          "output_type": "execute_result",
          "data": {
            "text/html": [
              "<div>\n",
              "<style scoped>\n",
              "    .dataframe tbody tr th:only-of-type {\n",
              "        vertical-align: middle;\n",
              "    }\n",
              "\n",
              "    .dataframe tbody tr th {\n",
              "        vertical-align: top;\n",
              "    }\n",
              "\n",
              "    .dataframe thead th {\n",
              "        text-align: right;\n",
              "    }\n",
              "</style>\n",
              "<table border=\"1\" class=\"dataframe\">\n",
              "  <thead>\n",
              "    <tr style=\"text-align: right;\">\n",
              "      <th></th>\n",
              "      <th>text</th>\n",
              "      <th>source</th>\n",
              "      <th>source_url</th>\n",
              "      <th>retweet_count</th>\n",
              "      <th>favorite</th>\n",
              "      <th>geo</th>\n",
              "      <th>user</th>\n",
              "      <th>created_at</th>\n",
              "      <th>profile_image</th>\n",
              "    </tr>\n",
              "  </thead>\n",
              "  <tbody>\n",
              "    <tr>\n",
              "      <th>564</th>\n",
              "      <td>Cheers to the sky 👁️💧🍸\\n#SquidGames #artist #s...</td>\n",
              "      <td>Twitter for Android</td>\n",
              "      <td>http://twitter.com/download/android</td>\n",
              "      <td>21</td>\n",
              "      <td>178</td>\n",
              "      <td>None</td>\n",
              "      <td>🥀 Иоаннушка 🥀</td>\n",
              "      <td>2021-11-03 22:46:50</td>\n",
              "      <td>http://pbs.twimg.com/profile_images/1425219344...</td>\n",
              "    </tr>\n",
              "    <tr>\n",
              "      <th>562</th>\n",
              "      <td>GRANDMA DOES \\nSQUID GAME CHALLENGE! 🍪 #SquidG...</td>\n",
              "      <td>Twitter for iPhone</td>\n",
              "      <td>http://twitter.com/download/iphone</td>\n",
              "      <td>29</td>\n",
              "      <td>137</td>\n",
              "      <td>None</td>\n",
              "      <td>TheRealAngryGrandma</td>\n",
              "      <td>2021-11-03 22:49:52</td>\n",
              "      <td>http://pbs.twimg.com/profile_images/1425333029...</td>\n",
              "    </tr>\n",
              "    <tr>\n",
              "      <th>730</th>\n",
              "      <td>#SquidGames checklist with realme. \\n1. Red Li...</td>\n",
              "      <td>Twitter Web App</td>\n",
              "      <td>https://mobile.twitter.com</td>\n",
              "      <td>3</td>\n",
              "      <td>58</td>\n",
              "      <td>None</td>\n",
              "      <td>Bhawna Sharma</td>\n",
              "      <td>2021-11-03 16:02:45</td>\n",
              "      <td>http://pbs.twimg.com/profile_images/1433460234...</td>\n",
              "    </tr>\n",
              "    <tr>\n",
              "      <th>625</th>\n",
              "      <td>SQUID GAME COASTERS\\n.\\nRT appreciated 💕\\n.\\nh...</td>\n",
              "      <td>Twitter for Android</td>\n",
              "      <td>http://twitter.com/download/android</td>\n",
              "      <td>6</td>\n",
              "      <td>34</td>\n",
              "      <td>None</td>\n",
              "      <td>Dyl</td>\n",
              "      <td>2021-11-03 20:47:55</td>\n",
              "      <td>http://pbs.twimg.com/profile_images/1402609258...</td>\n",
              "    </tr>\n",
              "    <tr>\n",
              "      <th>379</th>\n",
              "      <td>#SquidGames meets #COP26 and I love it! https:...</td>\n",
              "      <td>Twitter Media Studio</td>\n",
              "      <td>https://studio.twitter.com</td>\n",
              "      <td>9</td>\n",
              "      <td>33</td>\n",
              "      <td>None</td>\n",
              "      <td>Julianna Tatelbaum</td>\n",
              "      <td>2021-11-04 09:44:26</td>\n",
              "      <td>http://pbs.twimg.com/profile_images/1326926723...</td>\n",
              "    </tr>\n",
              "    <tr>\n",
              "      <th>...</th>\n",
              "      <td>...</td>\n",
              "      <td>...</td>\n",
              "      <td>...</td>\n",
              "      <td>...</td>\n",
              "      <td>...</td>\n",
              "      <td>...</td>\n",
              "      <td>...</td>\n",
              "      <td>...</td>\n",
              "      <td>...</td>\n",
              "    </tr>\n",
              "    <tr>\n",
              "      <th>363</th>\n",
              "      <td>Squid Game #squidgames S01 | E04 check  https:...</td>\n",
              "      <td>TV Time, TV show tracker</td>\n",
              "      <td>https://www.tvtime.com</td>\n",
              "      <td>0</td>\n",
              "      <td>0</td>\n",
              "      <td>None</td>\n",
              "      <td>Doublle Addict 📺</td>\n",
              "      <td>2021-11-04 11:12:43</td>\n",
              "      <td>http://pbs.twimg.com/profile_images/1163228638...</td>\n",
              "    </tr>\n",
              "    <tr>\n",
              "      <th>364</th>\n",
              "      <td>RT @capunderstands: New episode of I understoo...</td>\n",
              "      <td>Twitter for Android</td>\n",
              "      <td>http://twitter.com/download/android</td>\n",
              "      <td>5</td>\n",
              "      <td>0</td>\n",
              "      <td>None</td>\n",
              "      <td>JayBobDeBoodles</td>\n",
              "      <td>2021-11-04 10:48:31</td>\n",
              "      <td>http://pbs.twimg.com/profile_images/7735795442...</td>\n",
              "    </tr>\n",
              "    <tr>\n",
              "      <th>365</th>\n",
              "      <td>RT @CNBCJulianna: #SquidGames meets #COP26 and...</td>\n",
              "      <td>Twitter for iPhone</td>\n",
              "      <td>http://twitter.com/download/iphone</td>\n",
              "      <td>9</td>\n",
              "      <td>0</td>\n",
              "      <td>None</td>\n",
              "      <td>Eric Tartanson</td>\n",
              "      <td>2021-11-04 10:36:46</td>\n",
              "      <td>http://pbs.twimg.com/profile_images/2706545831...</td>\n",
              "    </tr>\n",
              "    <tr>\n",
              "      <th>367</th>\n",
              "      <td>RT @CNBCJulianna: #SquidGames meets #COP26 and...</td>\n",
              "      <td>Twitter Web App</td>\n",
              "      <td>https://mobile.twitter.com</td>\n",
              "      <td>9</td>\n",
              "      <td>0</td>\n",
              "      <td>None</td>\n",
              "      <td>Emily Shapiro1</td>\n",
              "      <td>2021-11-04 10:28:19</td>\n",
              "      <td>http://pbs.twimg.com/profile_images/1452200292...</td>\n",
              "    </tr>\n",
              "    <tr>\n",
              "      <th>999</th>\n",
              "      <td>RT @TScailing: Silly World, an Indian-based ga...</td>\n",
              "      <td>Twitter for Android</td>\n",
              "      <td>http://twitter.com/download/android</td>\n",
              "      <td>1</td>\n",
              "      <td>0</td>\n",
              "      <td>None</td>\n",
              "      <td>Aryan Agarwal</td>\n",
              "      <td>2021-11-03 01:22:35</td>\n",
              "      <td>http://abs.twimg.com/sticky/default_profile_im...</td>\n",
              "    </tr>\n",
              "  </tbody>\n",
              "</table>\n",
              "<p>1000 rows × 9 columns</p>\n",
              "</div>"
            ],
            "text/plain": [
              "                                                  text  ...                                      profile_image\n",
              "564  Cheers to the sky 👁️💧🍸\\n#SquidGames #artist #s...  ...  http://pbs.twimg.com/profile_images/1425219344...\n",
              "562  GRANDMA DOES \\nSQUID GAME CHALLENGE! 🍪 #SquidG...  ...  http://pbs.twimg.com/profile_images/1425333029...\n",
              "730  #SquidGames checklist with realme. \\n1. Red Li...  ...  http://pbs.twimg.com/profile_images/1433460234...\n",
              "625  SQUID GAME COASTERS\\n.\\nRT appreciated 💕\\n.\\nh...  ...  http://pbs.twimg.com/profile_images/1402609258...\n",
              "379  #SquidGames meets #COP26 and I love it! https:...  ...  http://pbs.twimg.com/profile_images/1326926723...\n",
              "..                                                 ...  ...                                                ...\n",
              "363  Squid Game #squidgames S01 | E04 check  https:...  ...  http://pbs.twimg.com/profile_images/1163228638...\n",
              "364  RT @capunderstands: New episode of I understoo...  ...  http://pbs.twimg.com/profile_images/7735795442...\n",
              "365  RT @CNBCJulianna: #SquidGames meets #COP26 and...  ...  http://pbs.twimg.com/profile_images/2706545831...\n",
              "367  RT @CNBCJulianna: #SquidGames meets #COP26 and...  ...  http://pbs.twimg.com/profile_images/1452200292...\n",
              "999  RT @TScailing: Silly World, an Indian-based ga...  ...  http://abs.twimg.com/sticky/default_profile_im...\n",
              "\n",
              "[1000 rows x 9 columns]"
            ]
          },
          "metadata": {},
          "execution_count": 22
        }
      ]
    },
    {
      "cell_type": "code",
      "metadata": {
        "colab": {
          "base_uri": "https://localhost:8080/",
          "height": 417
        },
        "id": "_wJjWXV4TAWi",
        "outputId": "dedbb851-f5c2-4a16-c741-6dd287024983"
      },
      "source": [
        "df[[\"retweet_count\",\"favorite\"]]"
      ],
      "execution_count": null,
      "outputs": [
        {
          "output_type": "execute_result",
          "data": {
            "text/html": [
              "<div>\n",
              "<style scoped>\n",
              "    .dataframe tbody tr th:only-of-type {\n",
              "        vertical-align: middle;\n",
              "    }\n",
              "\n",
              "    .dataframe tbody tr th {\n",
              "        vertical-align: top;\n",
              "    }\n",
              "\n",
              "    .dataframe thead th {\n",
              "        text-align: right;\n",
              "    }\n",
              "</style>\n",
              "<table border=\"1\" class=\"dataframe\">\n",
              "  <thead>\n",
              "    <tr style=\"text-align: right;\">\n",
              "      <th></th>\n",
              "      <th>retweet_count</th>\n",
              "      <th>favorite</th>\n",
              "    </tr>\n",
              "  </thead>\n",
              "  <tbody>\n",
              "    <tr>\n",
              "      <th>0</th>\n",
              "      <td>0</td>\n",
              "      <td>0</td>\n",
              "    </tr>\n",
              "    <tr>\n",
              "      <th>1</th>\n",
              "      <td>216</td>\n",
              "      <td>0</td>\n",
              "    </tr>\n",
              "    <tr>\n",
              "      <th>2</th>\n",
              "      <td>6</td>\n",
              "      <td>0</td>\n",
              "    </tr>\n",
              "    <tr>\n",
              "      <th>3</th>\n",
              "      <td>6</td>\n",
              "      <td>0</td>\n",
              "    </tr>\n",
              "    <tr>\n",
              "      <th>4</th>\n",
              "      <td>2</td>\n",
              "      <td>0</td>\n",
              "    </tr>\n",
              "    <tr>\n",
              "      <th>...</th>\n",
              "      <td>...</td>\n",
              "      <td>...</td>\n",
              "    </tr>\n",
              "    <tr>\n",
              "      <th>995</th>\n",
              "      <td>16</td>\n",
              "      <td>0</td>\n",
              "    </tr>\n",
              "    <tr>\n",
              "      <th>996</th>\n",
              "      <td>6</td>\n",
              "      <td>7</td>\n",
              "    </tr>\n",
              "    <tr>\n",
              "      <th>997</th>\n",
              "      <td>0</td>\n",
              "      <td>0</td>\n",
              "    </tr>\n",
              "    <tr>\n",
              "      <th>998</th>\n",
              "      <td>1</td>\n",
              "      <td>5</td>\n",
              "    </tr>\n",
              "    <tr>\n",
              "      <th>999</th>\n",
              "      <td>1</td>\n",
              "      <td>0</td>\n",
              "    </tr>\n",
              "  </tbody>\n",
              "</table>\n",
              "<p>1000 rows × 2 columns</p>\n",
              "</div>"
            ],
            "text/plain": [
              "     retweet_count  favorite\n",
              "0                0         0\n",
              "1              216         0\n",
              "2                6         0\n",
              "3                6         0\n",
              "4                2         0\n",
              "..             ...       ...\n",
              "995             16         0\n",
              "996              6         7\n",
              "997              0         0\n",
              "998              1         5\n",
              "999              1         0\n",
              "\n",
              "[1000 rows x 2 columns]"
            ]
          },
          "metadata": {},
          "execution_count": 23
        }
      ]
    },
    {
      "cell_type": "markdown",
      "metadata": {
        "id": "oOyUPY0QTAWi"
      },
      "source": [
        "# text mining\n",
        "https://www.nltk.org/book/ch02.html"
      ]
    },
    {
      "cell_type": "code",
      "metadata": {
        "id": "lk-K4e-aruA3"
      },
      "source": [
        "df"
      ],
      "execution_count": null,
      "outputs": []
    },
    {
      "cell_type": "code",
      "metadata": {
        "colab": {
          "base_uri": "https://localhost:8080/"
        },
        "id": "oJrccRqHs1df",
        "outputId": "30756a86-47d9-4a1c-ca0f-6e415ed57a3b"
      },
      "source": [
        "df.text.map(lambda x: len(x.split())>30).value_counts()"
      ],
      "execution_count": null,
      "outputs": [
        {
          "output_type": "execute_result",
          "data": {
            "text/plain": [
              "False    997\n",
              "True       3\n",
              "Name: text, dtype: int64"
            ]
          },
          "metadata": {},
          "execution_count": 25
        }
      ]
    },
    {
      "cell_type": "code",
      "metadata": {
        "colab": {
          "base_uri": "https://localhost:8080/",
          "height": 192
        },
        "id": "m-dpskukE2m9",
        "outputId": "bbd23353-c768-444b-a810-728e21a19ed8"
      },
      "source": [
        "df[df.text.map(lambda x: len(x.split())>30)]"
      ],
      "execution_count": null,
      "outputs": [
        {
          "output_type": "execute_result",
          "data": {
            "text/html": [
              "<div>\n",
              "<style scoped>\n",
              "    .dataframe tbody tr th:only-of-type {\n",
              "        vertical-align: middle;\n",
              "    }\n",
              "\n",
              "    .dataframe tbody tr th {\n",
              "        vertical-align: top;\n",
              "    }\n",
              "\n",
              "    .dataframe thead th {\n",
              "        text-align: right;\n",
              "    }\n",
              "</style>\n",
              "<table border=\"1\" class=\"dataframe\">\n",
              "  <thead>\n",
              "    <tr style=\"text-align: right;\">\n",
              "      <th></th>\n",
              "      <th>text</th>\n",
              "      <th>source</th>\n",
              "      <th>source_url</th>\n",
              "      <th>retweet_count</th>\n",
              "      <th>favorite</th>\n",
              "      <th>geo</th>\n",
              "      <th>user</th>\n",
              "      <th>created_at</th>\n",
              "      <th>profile_image</th>\n",
              "    </tr>\n",
              "  </thead>\n",
              "  <tbody>\n",
              "    <tr>\n",
              "      <th>1</th>\n",
              "      <td>RT @Bubblepurity: ○ ▢ △\\n\\nI saw a lot of this...</td>\n",
              "      <td>Twitter Web App</td>\n",
              "      <td>https://mobile.twitter.com</td>\n",
              "      <td>216</td>\n",
              "      <td>0</td>\n",
              "      <td>None</td>\n",
              "      <td>PIN_Rose🍓</td>\n",
              "      <td>2021-11-05 09:16:45</td>\n",
              "      <td>http://pbs.twimg.com/profile_images/1456548942...</td>\n",
              "    </tr>\n",
              "    <tr>\n",
              "      <th>503</th>\n",
              "      <td>RT @Daddyphatsnaps: I have to say Squid games ...</td>\n",
              "      <td>Twitter for iPhone</td>\n",
              "      <td>http://twitter.com/download/iphone</td>\n",
              "      <td>63</td>\n",
              "      <td>0</td>\n",
              "      <td>None</td>\n",
              "      <td>kel (BLM)</td>\n",
              "      <td>2021-11-04 00:05:44</td>\n",
              "      <td>http://pbs.twimg.com/profile_images/1305380609...</td>\n",
              "    </tr>\n",
              "    <tr>\n",
              "      <th>693</th>\n",
              "      <td>RT @Bubblepurity: ○ ▢ △\\n\\nI saw a lot of this...</td>\n",
              "      <td>Twitter Web App</td>\n",
              "      <td>https://mobile.twitter.com</td>\n",
              "      <td>216</td>\n",
              "      <td>0</td>\n",
              "      <td>None</td>\n",
              "      <td>Euryalus</td>\n",
              "      <td>2021-11-03 17:53:16</td>\n",
              "      <td>http://pbs.twimg.com/profile_images/1419374122...</td>\n",
              "    </tr>\n",
              "  </tbody>\n",
              "</table>\n",
              "</div>"
            ],
            "text/plain": [
              "                                                  text  ...                                      profile_image\n",
              "1    RT @Bubblepurity: ○ ▢ △\\n\\nI saw a lot of this...  ...  http://pbs.twimg.com/profile_images/1456548942...\n",
              "503  RT @Daddyphatsnaps: I have to say Squid games ...  ...  http://pbs.twimg.com/profile_images/1305380609...\n",
              "693  RT @Bubblepurity: ○ ▢ △\\n\\nI saw a lot of this...  ...  http://pbs.twimg.com/profile_images/1419374122...\n",
              "\n",
              "[3 rows x 9 columns]"
            ]
          },
          "metadata": {},
          "execution_count": 26
        }
      ]
    },
    {
      "cell_type": "code",
      "metadata": {
        "colab": {
          "base_uri": "https://localhost:8080/"
        },
        "id": "Fa18OEi6TAWi",
        "outputId": "72aaac60-3cb3-4e44-82ac-46f5ade8c364"
      },
      "source": [
        "!pip3 install nltk"
      ],
      "execution_count": null,
      "outputs": [
        {
          "output_type": "stream",
          "name": "stdout",
          "text": [
            "Requirement already satisfied: nltk in /usr/local/lib/python3.7/dist-packages (3.2.5)\n",
            "Requirement already satisfied: six in /usr/local/lib/python3.7/dist-packages (from nltk) (1.15.0)\n"
          ]
        }
      ]
    },
    {
      "cell_type": "code",
      "metadata": {
        "colab": {
          "base_uri": "https://localhost:8080/"
        },
        "id": "ORDjJgTfTAWi",
        "outputId": "30b45351-aead-47a7-a098-53f00356982c"
      },
      "source": [
        "import nltk\n",
        "nltk.download(\"stopwords\")\n",
        "from nltk.corpus import stopwords"
      ],
      "execution_count": null,
      "outputs": [
        {
          "output_type": "stream",
          "name": "stdout",
          "text": [
            "[nltk_data] Downloading package stopwords to /root/nltk_data...\n",
            "[nltk_data]   Unzipping corpora/stopwords.zip.\n"
          ]
        }
      ]
    },
    {
      "cell_type": "code",
      "metadata": {
        "colab": {
          "base_uri": "https://localhost:8080/"
        },
        "id": "PsDxm3DGTAWj",
        "outputId": "5d8bfdf8-23fa-4e6c-e0f9-0b0291a7bc84"
      },
      "source": [
        "stp=stopwords.words('english')\n",
        "print(stopwords.words('english'))"
      ],
      "execution_count": null,
      "outputs": [
        {
          "output_type": "stream",
          "name": "stdout",
          "text": [
            "['i', 'me', 'my', 'myself', 'we', 'our', 'ours', 'ourselves', 'you', \"you're\", \"you've\", \"you'll\", \"you'd\", 'your', 'yours', 'yourself', 'yourselves', 'he', 'him', 'his', 'himself', 'she', \"she's\", 'her', 'hers', 'herself', 'it', \"it's\", 'its', 'itself', 'they', 'them', 'their', 'theirs', 'themselves', 'what', 'which', 'who', 'whom', 'this', 'that', \"that'll\", 'these', 'those', 'am', 'is', 'are', 'was', 'were', 'be', 'been', 'being', 'have', 'has', 'had', 'having', 'do', 'does', 'did', 'doing', 'a', 'an', 'the', 'and', 'but', 'if', 'or', 'because', 'as', 'until', 'while', 'of', 'at', 'by', 'for', 'with', 'about', 'against', 'between', 'into', 'through', 'during', 'before', 'after', 'above', 'below', 'to', 'from', 'up', 'down', 'in', 'out', 'on', 'off', 'over', 'under', 'again', 'further', 'then', 'once', 'here', 'there', 'when', 'where', 'why', 'how', 'all', 'any', 'both', 'each', 'few', 'more', 'most', 'other', 'some', 'such', 'no', 'nor', 'not', 'only', 'own', 'same', 'so', 'than', 'too', 'very', 's', 't', 'can', 'will', 'just', 'don', \"don't\", 'should', \"should've\", 'now', 'd', 'll', 'm', 'o', 're', 've', 'y', 'ain', 'aren', \"aren't\", 'couldn', \"couldn't\", 'didn', \"didn't\", 'doesn', \"doesn't\", 'hadn', \"hadn't\", 'hasn', \"hasn't\", 'haven', \"haven't\", 'isn', \"isn't\", 'ma', 'mightn', \"mightn't\", 'mustn', \"mustn't\", 'needn', \"needn't\", 'shan', \"shan't\", 'shouldn', \"shouldn't\", 'wasn', \"wasn't\", 'weren', \"weren't\", 'won', \"won't\", 'wouldn', \"wouldn't\"]\n"
          ]
        }
      ]
    },
    {
      "cell_type": "code",
      "metadata": {
        "colab": {
          "base_uri": "https://localhost:8080/"
        },
        "id": "S6DoWR03TAWj",
        "outputId": "3c8e1076-2333-4033-9545-4737ea21f1d7"
      },
      "source": [
        "list(df.text)[:10]"
      ],
      "execution_count": null,
      "outputs": [
        {
          "output_type": "execute_result",
          "data": {
            "text/plain": [
              "[\"Can't be the only one 😅 Have you watched #SquidGame or you waiting for the hype to calm down a bit? \\n\\n#F1 |… https://t.co/pDQZf2ExDn\",\n",
              " 'RT @Bubblepurity: ○ ▢ △\\n\\nI saw a lot of this crossover, and I just doodling it— and I think I have to share it to you guys. 😳💕I just have n…',\n",
              " 'RT @teenypribble: Whom in Astro do you think can win the squid games?\\n#아스트로 #ASTRO @offclASTRO \\n#astrofanart  #squidgamefanart \\nMoonbin X #…',\n",
              " 'RT @teenypribble: Whom in Astro do you think can win the squid games?\\n#아스트로 #ASTRO @offclASTRO \\n#astrofanart  #squidgamefanart \\nMoonbin X #…',\n",
              " 'RT @HTTech: Concerns regarding the #SquidGames cryptocurrency all came true when it crashed to just $0. Check most important lessons for in…',\n",
              " '#squidgames is fckn overrated piece of garbage.',\n",
              " 'RT @Matak_57: Squid Game: The 1st Game\\nBased on first game of Netflix series, the Squid Game.\\n\\nhttps://t.co/5jtakKbaZI\\n( 0.10 ETH. / 1 /1 E…',\n",
              " 'RT @Thuminnoo: My new hobby is drawing iconic scenes from Squid Game 🐙 🎮 #SquidGame #squidgamefanart #SquidGames https://t.co/SB03XJiJ7R',\n",
              " 'RT @HTTech: Concerns regarding the #SquidGames cryptocurrency all came true when it crashed to just $0. Check most important lessons for in…',\n",
              " 'Concerns regarding the #SquidGames cryptocurrency all came true when it crashed to just $0. Check most important le… https://t.co/fwi5g6C8Ev']"
            ]
          },
          "metadata": {},
          "execution_count": 30
        }
      ]
    },
    {
      "cell_type": "code",
      "metadata": {
        "id": "FPHcDJGKTAWj"
      },
      "source": [
        "all_text=\"\"\n",
        "for t in df.text:\n",
        "    all_text=all_text+\" \"+ t.lower()"
      ],
      "execution_count": null,
      "outputs": []
    },
    {
      "cell_type": "code",
      "metadata": {
        "colab": {
          "base_uri": "https://localhost:8080/",
          "height": 137
        },
        "id": "yjCkzuvLTAWj",
        "outputId": "15afc4d5-51f8-4733-b799-ca8c7695ccc8"
      },
      "source": [
        "all_text[:1000]"
      ],
      "execution_count": null,
      "outputs": [
        {
          "output_type": "execute_result",
          "data": {
            "application/vnd.google.colaboratory.intrinsic+json": {
              "type": "string"
            },
            "text/plain": [
              "\" can't be the only one 😅 have you watched #squidgame or you waiting for the hype to calm down a bit? \\n\\n#f1 |… https://t.co/pdqzf2exdn rt @bubblepurity: ○ ▢ △\\n\\ni saw a lot of this crossover, and i just doodling it— and i think i have to share it to you guys. 😳💕i just have n… rt @teenypribble: whom in astro do you think can win the squid games?\\n#아스트로 #astro @offclastro \\n#astrofanart  #squidgamefanart \\nmoonbin x #… rt @teenypribble: whom in astro do you think can win the squid games?\\n#아스트로 #astro @offclastro \\n#astrofanart  #squidgamefanart \\nmoonbin x #… rt @httech: concerns regarding the #squidgames cryptocurrency all came true when it crashed to just $0. check most important lessons for in… #squidgames is fckn overrated piece of garbage. rt @matak_57: squid game: the 1st game\\nbased on first game of netflix series, the squid game.\\n\\nhttps://t.co/5jtakkbazi\\n( 0.10 eth. / 1 /1 e… rt @thuminnoo: my new hobby is drawing iconic scenes from squid game 🐙 🎮 #squidgame #squidgamefanart #squidgames \""
            ]
          },
          "metadata": {},
          "execution_count": 32
        }
      ]
    },
    {
      "cell_type": "code",
      "metadata": {
        "id": "HSu3MA3WTAWj"
      },
      "source": [
        "all_text2=all_text.split()"
      ],
      "execution_count": null,
      "outputs": []
    },
    {
      "cell_type": "code",
      "metadata": {
        "colab": {
          "base_uri": "https://localhost:8080/"
        },
        "id": "Z_7KYH9Wf0oY",
        "outputId": "f68a8f4b-7984-4e13-cd81-b36deb154568"
      },
      "source": [
        "all_text2[:5]"
      ],
      "execution_count": null,
      "outputs": [
        {
          "output_type": "execute_result",
          "data": {
            "text/plain": [
              "[\"can't\", 'be', 'the', 'only', 'one']"
            ]
          },
          "metadata": {},
          "execution_count": 34
        }
      ]
    },
    {
      "cell_type": "code",
      "metadata": {
        "colab": {
          "base_uri": "https://localhost:8080/"
        },
        "id": "AqkaJdrnTAWj",
        "outputId": "635ec851-5299-458a-b053-aca911cb6758"
      },
      "source": [
        "len(all_text2)"
      ],
      "execution_count": null,
      "outputs": [
        {
          "output_type": "execute_result",
          "data": {
            "text/plain": [
              "15297"
            ]
          },
          "metadata": {},
          "execution_count": 35
        }
      ]
    },
    {
      "cell_type": "code",
      "metadata": {
        "id": "-7eE2TI2TAWk"
      },
      "source": [
        ""
      ],
      "execution_count": null,
      "outputs": []
    },
    {
      "cell_type": "code",
      "metadata": {
        "id": "P1AURxP2TAWk"
      },
      "source": [
        "fd=nltk.FreqDist(all_text2)"
      ],
      "execution_count": null,
      "outputs": []
    },
    {
      "cell_type": "code",
      "metadata": {
        "colab": {
          "base_uri": "https://localhost:8080/"
        },
        "id": "lW9zEYrAgdBH",
        "outputId": "2b4500f6-61a3-40a2-e12c-6a525334a466"
      },
      "source": [
        "fd.most_common(20)"
      ],
      "execution_count": null,
      "outputs": [
        {
          "output_type": "execute_result",
          "data": {
            "text/plain": [
              "[('#squidgames', 619),\n",
              " ('rt', 516),\n",
              " ('squid', 324),\n",
              " ('the', 262),\n",
              " ('game', 243),\n",
              " ('to', 199),\n",
              " ('of', 174),\n",
              " ('a', 165),\n",
              " ('i', 160),\n",
              " ('and', 155),\n",
              " ('#squidgame', 118),\n",
              " ('is', 114),\n",
              " ('this', 111),\n",
              " ('just', 102),\n",
              " ('you', 100),\n",
              " ('with', 95),\n",
              " ('in', 91),\n",
              " ('on', 91),\n",
              " ('for', 87),\n",
              " ('|', 83)]"
            ]
          },
          "metadata": {},
          "execution_count": 37
        }
      ]
    },
    {
      "cell_type": "markdown",
      "metadata": {
        "id": "lKgKblkdTAWk"
      },
      "source": [
        "## text cleaning"
      ]
    },
    {
      "cell_type": "code",
      "metadata": {
        "id": "bkzl2vbjTAWk"
      },
      "source": [
        "all_text3= [w for w in all_text2 if w not in stp]"
      ],
      "execution_count": null,
      "outputs": []
    },
    {
      "cell_type": "code",
      "metadata": {
        "id": "ktGOodPbgpUg"
      },
      "source": [
        ""
      ],
      "execution_count": null,
      "outputs": []
    },
    {
      "cell_type": "code",
      "metadata": {
        "colab": {
          "base_uri": "https://localhost:8080/"
        },
        "id": "wgmtaOvATAWk",
        "outputId": "1f0976ba-8a2a-47e2-9aa2-4939dec63912"
      },
      "source": [
        "print(all_text3[:10])"
      ],
      "execution_count": null,
      "outputs": [
        {
          "output_type": "stream",
          "name": "stdout",
          "text": [
            "[\"can't\", 'one', '😅', 'watched', '#squidgame', 'waiting', 'hype', 'calm', 'bit?', '#f1']\n"
          ]
        }
      ]
    },
    {
      "cell_type": "code",
      "metadata": {
        "id": "nmXU6bcgTAWk"
      },
      "source": [
        "all_text4= [w for w in all_text3 if len(w)>3 and not(\"://\" in w )]"
      ],
      "execution_count": null,
      "outputs": []
    },
    {
      "cell_type": "code",
      "metadata": {
        "colab": {
          "base_uri": "https://localhost:8080/"
        },
        "id": "GGwGY4FITAWl",
        "outputId": "2ea2fabb-67dc-402b-8648-68bcfdd44b0e"
      },
      "source": [
        "print(all_text4[:100])"
      ],
      "execution_count": null,
      "outputs": [
        {
          "output_type": "stream",
          "name": "stdout",
          "text": [
            "[\"can't\", 'watched', '#squidgame', 'waiting', 'hype', 'calm', 'bit?', '@bubblepurity:', 'crossover,', 'doodling', 'think', 'share', 'guys.', '@teenypribble:', 'astro', 'think', 'squid', 'games?', '#아스트로', '#astro', '@offclastro', '#astrofanart', '#squidgamefanart', 'moonbin', '@teenypribble:', 'astro', 'think', 'squid', 'games?', '#아스트로', '#astro', '@offclastro', '#astrofanart', '#squidgamefanart', 'moonbin', '@httech:', 'concerns', 'regarding', '#squidgames', 'cryptocurrency', 'came', 'true', 'crashed', 'check', 'important', 'lessons', '#squidgames', 'fckn', 'overrated', 'piece', 'garbage.', '@matak_57:', 'squid', 'game:', 'game', 'based', 'first', 'game', 'netflix', 'series,', 'squid', 'game.', '0.10', 'eth.', '@thuminnoo:', 'hobby', 'drawing', 'iconic', 'scenes', 'squid', 'game', '#squidgame', '#squidgamefanart', '#squidgames', '@httech:', 'concerns', 'regarding', '#squidgames', 'cryptocurrency', 'came', 'true', 'crashed', 'check', 'important', 'lessons', 'concerns', 'regarding', '#squidgames', 'cryptocurrency', 'came', 'true', 'crashed', 'check', 'important', '@mimirtoken:', 'friendly', 'advise:', 'playing', 'mimir', 'quiz']\n"
          ]
        }
      ]
    },
    {
      "cell_type": "code",
      "metadata": {
        "id": "-61dSEQNTAWl"
      },
      "source": [
        "fd2=nltk.FreqDist(all_text4)"
      ],
      "execution_count": null,
      "outputs": []
    },
    {
      "cell_type": "code",
      "metadata": {
        "colab": {
          "base_uri": "https://localhost:8080/"
        },
        "id": "kG-XM6mITAWl",
        "outputId": "296aec59-76ba-44b5-ad84-560b206aeaca"
      },
      "source": [
        "fd2.most_common(20)"
      ],
      "execution_count": null,
      "outputs": [
        {
          "output_type": "execute_result",
          "data": {
            "text/plain": [
              "[('#squidgames', 619),\n",
              " ('squid', 324),\n",
              " ('game', 243),\n",
              " ('#squidgame', 118),\n",
              " ('game!', 78),\n",
              " ('#tvtime', 76),\n",
              " ('watched', 70),\n",
              " ('episode', 68),\n",
              " (\"i've\", 63),\n",
              " ('great', 63),\n",
              " ('$squid', 63),\n",
              " ('making', 62),\n",
              " ('lets', 57),\n",
              " ('games', 47),\n",
              " ('like', 43),\n",
              " ('@t_zumu:', 42),\n",
              " ('trigger', 42),\n",
              " ('games👀', 42),\n",
              " ('#idolish7', 42),\n",
              " ('#squidgamefanart', 40)]"
            ]
          },
          "metadata": {},
          "execution_count": 43
        }
      ]
    },
    {
      "cell_type": "code",
      "metadata": {
        "id": "Pruj9oYGTAWl"
      },
      "source": [
        ""
      ],
      "execution_count": null,
      "outputs": []
    },
    {
      "cell_type": "markdown",
      "metadata": {
        "id": "F4KgwGGfTAWl"
      },
      "source": [
        "# Work with hashtags"
      ]
    },
    {
      "cell_type": "code",
      "metadata": {
        "id": "6DX9ZGJpTAWl"
      },
      "source": [
        "ht= [w for w in all_text4 if w.startswith(\"#\")]"
      ],
      "execution_count": null,
      "outputs": []
    },
    {
      "cell_type": "code",
      "metadata": {
        "colab": {
          "base_uri": "https://localhost:8080/"
        },
        "id": "PwoY5CbeTAWm",
        "outputId": "f9c81793-13da-48e8-9e58-9487ae9811fd"
      },
      "source": [
        "print(ht[:30])"
      ],
      "execution_count": null,
      "outputs": [
        {
          "output_type": "stream",
          "name": "stdout",
          "text": [
            "['#squidgame', '#아스트로', '#astro', '#astrofanart', '#squidgamefanart', '#아스트로', '#astro', '#astrofanart', '#squidgamefanart', '#squidgames', '#squidgames', '#squidgame', '#squidgamefanart', '#squidgames', '#squidgames', '#squidgames', '#mimirtoken', '#squidgames', '#play2earn…', '#1300', '#nfts', '#nftdrops', '#nftcollectors', '#squidgam…', '#squidgames', '#tvtime', '#squidgame', '#squidgames', '#crabgame', '#youtube']\n"
          ]
        }
      ]
    },
    {
      "cell_type": "code",
      "metadata": {
        "colab": {
          "base_uri": "https://localhost:8080/"
        },
        "id": "k3Th2iETTAWm",
        "outputId": "cad84cc6-aff3-4dc1-8674-e654aa1ea8ca"
      },
      "source": [
        "fd3=nltk.FreqDist(ht)\n",
        "fd3.most_common(20)"
      ],
      "execution_count": null,
      "outputs": [
        {
          "output_type": "execute_result",
          "data": {
            "text/plain": [
              "[('#squidgames', 619),\n",
              " ('#squidgame', 118),\n",
              " ('#tvtime', 76),\n",
              " ('#idolish7', 42),\n",
              " ('#squidgamefanart', 40),\n",
              " ('#squidgametoken', 26),\n",
              " ('#squidgamenetflix', 23),\n",
              " ('#artist', 22),\n",
              " ('#saebyeok', 20),\n",
              " ('#leeyoomi', 19),\n",
              " ('#squidgames…', 19),\n",
              " ('#nft', 18),\n",
              " ('#sexycinderella', 17),\n",
              " ('#halloween', 17),\n",
              " ('#kdrama', 16),\n",
              " ('#kdramatwt', 16),\n",
              " ('#vincenzoep19', 16),\n",
              " ('#vincenzo', 16),\n",
              " ('#lovealarm', 16),\n",
              " ('#nevertheless', 16)]"
            ]
          },
          "metadata": {},
          "execution_count": 46
        }
      ]
    },
    {
      "cell_type": "code",
      "metadata": {
        "id": "75Q3FW9-TAWm"
      },
      "source": [
        "fd=nltk.FreqDist(ht)"
      ],
      "execution_count": null,
      "outputs": []
    },
    {
      "cell_type": "code",
      "metadata": {
        "colab": {
          "base_uri": "https://localhost:8080/"
        },
        "id": "fS8TWr1hTAWm",
        "outputId": "c4998705-9f17-4743-ee05-5bf33197ddf0"
      },
      "source": [
        "for e in fd:\n",
        "    if fd[e]>7:\n",
        "        print(e, fd[e])"
      ],
      "execution_count": null,
      "outputs": [
        {
          "output_type": "stream",
          "name": "stdout",
          "text": [
            "#squidgame 118\n",
            "#squidgamefanart 40\n",
            "#squidgames 619\n",
            "#nfts 9\n",
            "#tvtime 76\n",
            "#crabgame 11\n",
            "#fanart 9\n",
            "#fortnite 9\n",
            "#fortnitecreative 9\n",
            "#squidgames, 12\n",
            "#leeyoomi 19\n",
            "#squidgamenetflix 23\n",
            "#artist 22\n",
            "#saebyeok 20\n",
            "#idolish7 42\n",
            "#netflix 8\n",
            "#squidgametoken 26\n",
            "#kdrama 16\n",
            "#kdramatwt 16\n",
            "#vincenzoep19 16\n",
            "#vincenzo 16\n",
            "#lovealarm 16\n",
            "#nevertheless 16\n",
            "#kdramaquotes 16\n",
            "#kdramas 16\n",
            "#for… 15\n",
            "#squidgames… 19\n",
            "#bsc 11\n",
            "#nft 18\n",
            "#seonggihun 10\n",
            "#cop26 11\n",
            "#squid 14\n",
            "#birthday 10\n",
            "#gift 9\n",
            "#present 9\n",
            "#christmas 9\n",
            "#christmasgift 9\n",
            "#squidga… 12\n",
            "#nftcommunity 8\n",
            "#kangsaebyeok 8\n",
            "#jiyeong 8\n",
            "#sexycinderella 17\n",
            "#halloween 17\n",
            "#bloodshore 10\n",
            "#film 10\n",
            "#actor 9\n"
          ]
        }
      ]
    },
    {
      "cell_type": "code",
      "metadata": {
        "id": "1OzwAXmoXTzP"
      },
      "source": [
        "'''\n",
        "for e in fd:\n",
        "    if fd[e]>7:\n",
        "        print(e, fd[e])\n",
        "'''\n",
        "hashtags= pd.DataFrame()\n",
        "hashtags[\"key\"]= fd.keys()\n",
        "hashtags[\"count\"]=fd.values()"
      ],
      "execution_count": null,
      "outputs": []
    },
    {
      "cell_type": "code",
      "metadata": {
        "colab": {
          "base_uri": "https://localhost:8080/",
          "height": 417
        },
        "id": "IuUNwvRTXvvp",
        "outputId": "6d6df731-989f-489d-fd43-9956ac0d3658"
      },
      "source": [
        "hashtags.sort_values(\"count\",ascending=False)"
      ],
      "execution_count": null,
      "outputs": [
        {
          "output_type": "execute_result",
          "data": {
            "text/html": [
              "<div>\n",
              "<style scoped>\n",
              "    .dataframe tbody tr th:only-of-type {\n",
              "        vertical-align: middle;\n",
              "    }\n",
              "\n",
              "    .dataframe tbody tr th {\n",
              "        vertical-align: top;\n",
              "    }\n",
              "\n",
              "    .dataframe thead th {\n",
              "        text-align: right;\n",
              "    }\n",
              "</style>\n",
              "<table border=\"1\" class=\"dataframe\">\n",
              "  <thead>\n",
              "    <tr style=\"text-align: right;\">\n",
              "      <th></th>\n",
              "      <th>key</th>\n",
              "      <th>count</th>\n",
              "    </tr>\n",
              "  </thead>\n",
              "  <tbody>\n",
              "    <tr>\n",
              "      <th>5</th>\n",
              "      <td>#squidgames</td>\n",
              "      <td>619</td>\n",
              "    </tr>\n",
              "    <tr>\n",
              "      <th>0</th>\n",
              "      <td>#squidgame</td>\n",
              "      <td>118</td>\n",
              "    </tr>\n",
              "    <tr>\n",
              "      <th>13</th>\n",
              "      <td>#tvtime</td>\n",
              "      <td>76</td>\n",
              "    </tr>\n",
              "    <tr>\n",
              "      <th>83</th>\n",
              "      <td>#idolish7</td>\n",
              "      <td>42</td>\n",
              "    </tr>\n",
              "    <tr>\n",
              "      <th>4</th>\n",
              "      <td>#squidgamefanart</td>\n",
              "      <td>40</td>\n",
              "    </tr>\n",
              "    <tr>\n",
              "      <th>...</th>\n",
              "      <td>...</td>\n",
              "      <td>...</td>\n",
              "    </tr>\n",
              "    <tr>\n",
              "      <th>293</th>\n",
              "      <td>#gaming</td>\n",
              "      <td>1</td>\n",
              "    </tr>\n",
              "    <tr>\n",
              "      <th>291</th>\n",
              "      <td>#top1</td>\n",
              "      <td>1</td>\n",
              "    </tr>\n",
              "    <tr>\n",
              "      <th>289</th>\n",
              "      <td>#usa</td>\n",
              "      <td>1</td>\n",
              "    </tr>\n",
              "    <tr>\n",
              "      <th>287</th>\n",
              "      <td>#ebay</td>\n",
              "      <td>1</td>\n",
              "    </tr>\n",
              "    <tr>\n",
              "      <th>571</th>\n",
              "      <td>#actor…</td>\n",
              "      <td>1</td>\n",
              "    </tr>\n",
              "  </tbody>\n",
              "</table>\n",
              "<p>572 rows × 2 columns</p>\n",
              "</div>"
            ],
            "text/plain": [
              "                  key  count\n",
              "5         #squidgames    619\n",
              "0          #squidgame    118\n",
              "13            #tvtime     76\n",
              "83          #idolish7     42\n",
              "4    #squidgamefanart     40\n",
              "..                ...    ...\n",
              "293           #gaming      1\n",
              "291             #top1      1\n",
              "289              #usa      1\n",
              "287             #ebay      1\n",
              "571           #actor…      1\n",
              "\n",
              "[572 rows x 2 columns]"
            ]
          },
          "metadata": {},
          "execution_count": 50
        }
      ]
    },
    {
      "cell_type": "markdown",
      "metadata": {
        "id": "0hc7bKunTAWn"
      },
      "source": [
        "# the longest word"
      ]
    },
    {
      "cell_type": "code",
      "metadata": {
        "colab": {
          "base_uri": "https://localhost:8080/"
        },
        "id": "VODoOMICFIiS",
        "outputId": "910bab1a-9e98-4dc2-b749-e3bb6e4f4505"
      },
      "source": [
        "q=[1,1,1,1,12,2,2,2,3,3,3,3,3,3,4,4,4,4,4,4]\n",
        "set(q)"
      ],
      "execution_count": null,
      "outputs": [
        {
          "output_type": "execute_result",
          "data": {
            "text/plain": [
              "{1, 2, 3, 4, 12}"
            ]
          },
          "metadata": {},
          "execution_count": 51
        }
      ]
    },
    {
      "cell_type": "code",
      "metadata": {
        "id": "tAw-s4N_TAWn"
      },
      "source": [
        "wlen=[(len(w), w) for w in set(all_text4)]"
      ],
      "execution_count": null,
      "outputs": []
    },
    {
      "cell_type": "code",
      "metadata": {
        "colab": {
          "base_uri": "https://localhost:8080/"
        },
        "id": "xeRuM5XGTAWn",
        "outputId": "6d68209e-025a-4bc3-de89-74bdfc1c4910"
      },
      "source": [
        "wlen[:20]"
      ],
      "execution_count": null,
      "outputs": [
        {
          "output_type": "execute_result",
          "data": {
            "text/plain": [
              "[(6, 'trying'),\n",
              " (12, 'just-above-…'),\n",
              " (6, 'octopi'),\n",
              " (6, 'games.'),\n",
              " (5, '#fypシ'),\n",
              " (4, '#bnb'),\n",
              " (14, '@helloimmorgan'),\n",
              " (7, 'cruiser'),\n",
              " (10, '@bit20074:'),\n",
              " (7, 'moonbin'),\n",
              " (6, 'please'),\n",
              " (6, 'time.…'),\n",
              " (15, '#hometownchach…'),\n",
              " (5, '$mbx,'),\n",
              " (7, '@cmc223'),\n",
              " (6, 'assets'),\n",
              " (11, '@ashwsbreal'),\n",
              " (7, 'twisted'),\n",
              " (9, '@telegram'),\n",
              " (8, 'preached')]"
            ]
          },
          "metadata": {},
          "execution_count": 53
        }
      ]
    },
    {
      "cell_type": "code",
      "metadata": {
        "colab": {
          "base_uri": "https://localhost:8080/"
        },
        "id": "iHQr1RETTAWn",
        "outputId": "8668c521-58fa-4b03-e276-fba563489329"
      },
      "source": [
        "sorted(wlen)[-10:]"
      ],
      "execution_count": null,
      "outputs": [
        {
          "output_type": "execute_result",
          "data": {
            "text/plain": [
              "[(36, 'contractaddr:0x87230146e138d3f296a9…'),\n",
              " (41, 'contractaddr:0x87230146e138d3f296a9a77e4…'),\n",
              " (42, '0x87230146e138d3f296a9a77e497a2a83012e9bc5'),\n",
              " (42, 'contractaddr:0x87230146e138d3f296a9a77e49…'),\n",
              " (43, '0x440fc7da66e34e01af5201bdf5815739b0ae743f…'),\n",
              " (53, 'contractaddr:0x87230146e138d3f296a9a77e497a2a83012e9…'),\n",
              " (54, 'contractaddr:0x87230146e138d3f296a9a77e497a2a83012e9b…'),\n",
              " (55, 'contractaddr:0x87230146e138d3f296a9a77e497a2a83012e9bc5'),\n",
              " (56, 'contractaddr:0x87230146e138d3f296a9a77e497a2a83012e9bc5…'),\n",
              " (65, '🌲🌲🌲🌲🌲🌲🌲🌲🌲🌲🌲🌲🌲🌲🌲🌲🌲🌲🌲🌲🌲🌲🌲🌲🌲🌲🌲🌲🌲🌲🌲🌲🌲🍀🌲🌲🌲🌲🌲🌲🌲🌲🌲🌲🌲🌲🌲🌲🌲🌲🌲🌲🌲🌲🌲🌲🌲🌲🌲🌲🌲🌲🌲🌲🌲')]"
            ]
          },
          "metadata": {},
          "execution_count": 54
        }
      ]
    },
    {
      "cell_type": "code",
      "metadata": {
        "colab": {
          "base_uri": "https://localhost:8080/"
        },
        "id": "_b39Lf2qTAWn",
        "outputId": "656f11ab-59a3-4a06-eb3b-3b264396f1eb"
      },
      "source": [
        "[e for e in sorted(wlen)[-20:] if \"#\" in e[1]]"
      ],
      "execution_count": null,
      "outputs": [
        {
          "output_type": "execute_result",
          "data": {
            "text/plain": [
              "[(22, '#marikinonline4_fanart'),\n",
              " (22, 'timeline😏#facebookdown'),\n",
              " (23, '#dont_fight_the_feeling'),\n",
              " (23, '#hometownchachachaep11…'),\n",
              " (23, 'special!😱#nftcommunity,'),\n",
              " (24, '#nationalsandwichday!!!!'),\n",
              " (26, '#animalcrossingnewhorizons')]"
            ]
          },
          "metadata": {},
          "execution_count": 55
        }
      ]
    },
    {
      "cell_type": "code",
      "metadata": {
        "id": "nBRbIoXlTAWn"
      },
      "source": [
        ""
      ],
      "execution_count": null,
      "outputs": []
    },
    {
      "cell_type": "code",
      "metadata": {
        "id": "HD7WlBNxTAWn"
      },
      "source": [
        "# "
      ],
      "execution_count": null,
      "outputs": []
    },
    {
      "cell_type": "code",
      "metadata": {
        "id": "0Uk1aTH_X_te"
      },
      "source": [
        "df.text.to_csv(\"text.csv\")"
      ],
      "execution_count": null,
      "outputs": []
    },
    {
      "cell_type": "code",
      "metadata": {
        "id": "yOdIznNAkXzj"
      },
      "source": [
        "df[df.text.map(lambda x: len(x.split()))>3].text.to_csv(\"text_with_3_tokens.csv\")"
      ],
      "execution_count": null,
      "outputs": []
    },
    {
      "cell_type": "code",
      "metadata": {
        "id": "Av5s2YEUi_Pm"
      },
      "source": [
        "list(df.text)"
      ],
      "execution_count": null,
      "outputs": []
    },
    {
      "cell_type": "code",
      "metadata": {
        "id": "sDCx1dNXF1cn"
      },
      "source": [
        ""
      ],
      "execution_count": null,
      "outputs": []
    },
    {
      "cell_type": "markdown",
      "metadata": {
        "id": "WPGqRFaEGHQw"
      },
      "source": [
        "# Build UI with Gradio"
      ]
    },
    {
      "cell_type": "code",
      "metadata": {
        "colab": {
          "base_uri": "https://localhost:8080/"
        },
        "id": "ADQ_9XqdF1o7",
        "outputId": "91456799-a216-40fc-e6b4-ea3c865c6485"
      },
      "source": [
        "!pip install transformers gradio"
      ],
      "execution_count": null,
      "outputs": [
        {
          "name": "stdout",
          "output_type": "stream",
          "text": [
            "Collecting transformers\n",
            "  Downloading transformers-4.12.5-py3-none-any.whl (3.1 MB)\n",
            "\u001b[K     |████████████████████████████████| 3.1 MB 5.2 MB/s \n",
            "\u001b[?25hCollecting gradio\n",
            "  Downloading gradio-2.4.5-py3-none-any.whl (2.0 MB)\n",
            "\u001b[K     |████████████████████████████████| 2.0 MB 50.3 MB/s \n",
            "\u001b[?25hCollecting tokenizers<0.11,>=0.10.1\n",
            "  Downloading tokenizers-0.10.3-cp37-cp37m-manylinux_2_5_x86_64.manylinux1_x86_64.manylinux_2_12_x86_64.manylinux2010_x86_64.whl (3.3 MB)\n",
            "\u001b[K     |████████████████████████████████| 3.3 MB 42.0 MB/s \n",
            "\u001b[?25hRequirement already satisfied: packaging>=20.0 in /usr/local/lib/python3.7/dist-packages (from transformers) (21.2)\n",
            "Requirement already satisfied: filelock in /usr/local/lib/python3.7/dist-packages (from transformers) (3.3.2)\n",
            "Requirement already satisfied: regex!=2019.12.17 in /usr/local/lib/python3.7/dist-packages (from transformers) (2019.12.20)\n",
            "Requirement already satisfied: importlib-metadata in /usr/local/lib/python3.7/dist-packages (from transformers) (4.8.2)\n",
            "Requirement already satisfied: tqdm>=4.27 in /usr/local/lib/python3.7/dist-packages (from transformers) (4.62.3)\n",
            "Collecting sacremoses\n",
            "  Downloading sacremoses-0.0.46-py3-none-any.whl (895 kB)\n",
            "\u001b[K     |████████████████████████████████| 895 kB 56.1 MB/s \n",
            "\u001b[?25hRequirement already satisfied: requests in /usr/local/lib/python3.7/dist-packages (from transformers) (2.23.0)\n",
            "Collecting huggingface-hub<1.0,>=0.1.0\n",
            "  Downloading huggingface_hub-0.1.2-py3-none-any.whl (59 kB)\n",
            "\u001b[K     |████████████████████████████████| 59 kB 6.8 MB/s \n",
            "\u001b[?25hRequirement already satisfied: numpy>=1.17 in /usr/local/lib/python3.7/dist-packages (from transformers) (1.19.5)\n",
            "Collecting pyyaml>=5.1\n",
            "  Downloading PyYAML-6.0-cp37-cp37m-manylinux_2_5_x86_64.manylinux1_x86_64.manylinux_2_12_x86_64.manylinux2010_x86_64.whl (596 kB)\n",
            "\u001b[K     |████████████████████████████████| 596 kB 52.1 MB/s \n",
            "\u001b[?25hRequirement already satisfied: typing-extensions>=3.7.4.3 in /usr/local/lib/python3.7/dist-packages (from huggingface-hub<1.0,>=0.1.0->transformers) (3.10.0.2)\n",
            "Requirement already satisfied: pyparsing<3,>=2.0.2 in /usr/local/lib/python3.7/dist-packages (from packaging>=20.0->transformers) (2.4.7)\n",
            "Requirement already satisfied: pandas in /usr/local/lib/python3.7/dist-packages (from gradio) (1.1.5)\n",
            "Collecting markdown2\n",
            "  Downloading markdown2-2.4.1-py2.py3-none-any.whl (34 kB)\n",
            "Requirement already satisfied: Flask>=1.1.1 in /usr/local/lib/python3.7/dist-packages (from gradio) (1.1.4)\n",
            "Requirement already satisfied: matplotlib in /usr/local/lib/python3.7/dist-packages (from gradio) (3.2.2)\n",
            "Collecting paramiko\n",
            "  Downloading paramiko-2.8.0-py2.py3-none-any.whl (206 kB)\n",
            "\u001b[K     |████████████████████████████████| 206 kB 71.9 MB/s \n",
            "\u001b[?25hCollecting ffmpy\n",
            "  Downloading ffmpy-0.3.0.tar.gz (4.8 kB)\n",
            "Collecting pycryptodome\n",
            "  Downloading pycryptodome-3.11.0-cp35-abi3-manylinux2010_x86_64.whl (1.9 MB)\n",
            "\u001b[K     |████████████████████████████████| 1.9 MB 51.7 MB/s \n",
            "\u001b[?25hCollecting pydub\n",
            "  Downloading pydub-0.25.1-py2.py3-none-any.whl (32 kB)\n",
            "Collecting analytics-python\n",
            "  Downloading analytics_python-1.4.0-py2.py3-none-any.whl (15 kB)\n",
            "Collecting Flask-Login\n",
            "  Downloading Flask_Login-0.5.0-py2.py3-none-any.whl (16 kB)\n",
            "Collecting flask-cachebuster\n",
            "  Downloading Flask-CacheBuster-1.0.0.tar.gz (3.1 kB)\n",
            "Requirement already satisfied: pillow in /usr/local/lib/python3.7/dist-packages (from gradio) (7.1.2)\n",
            "Collecting Flask-Cors>=3.0.8\n",
            "  Downloading Flask_Cors-3.0.10-py2.py3-none-any.whl (14 kB)\n",
            "Requirement already satisfied: Jinja2<3.0,>=2.10.1 in /usr/local/lib/python3.7/dist-packages (from Flask>=1.1.1->gradio) (2.11.3)\n",
            "Requirement already satisfied: Werkzeug<2.0,>=0.15 in /usr/local/lib/python3.7/dist-packages (from Flask>=1.1.1->gradio) (1.0.1)\n",
            "Requirement already satisfied: click<8.0,>=5.1 in /usr/local/lib/python3.7/dist-packages (from Flask>=1.1.1->gradio) (7.1.2)\n",
            "Requirement already satisfied: itsdangerous<2.0,>=0.24 in /usr/local/lib/python3.7/dist-packages (from Flask>=1.1.1->gradio) (1.1.0)\n",
            "Requirement already satisfied: Six in /usr/local/lib/python3.7/dist-packages (from Flask-Cors>=3.0.8->gradio) (1.15.0)\n",
            "Requirement already satisfied: MarkupSafe>=0.23 in /usr/local/lib/python3.7/dist-packages (from Jinja2<3.0,>=2.10.1->Flask>=1.1.1->gradio) (2.0.1)\n",
            "Collecting backoff==1.10.0\n",
            "  Downloading backoff-1.10.0-py2.py3-none-any.whl (31 kB)\n",
            "Requirement already satisfied: python-dateutil>2.1 in /usr/local/lib/python3.7/dist-packages (from analytics-python->gradio) (2.8.2)\n",
            "Collecting monotonic>=1.5\n",
            "  Downloading monotonic-1.6-py2.py3-none-any.whl (8.2 kB)\n",
            "Requirement already satisfied: chardet<4,>=3.0.2 in /usr/local/lib/python3.7/dist-packages (from requests->transformers) (3.0.4)\n",
            "Requirement already satisfied: idna<3,>=2.5 in /usr/local/lib/python3.7/dist-packages (from requests->transformers) (2.10)\n",
            "Requirement already satisfied: urllib3!=1.25.0,!=1.25.1,<1.26,>=1.21.1 in /usr/local/lib/python3.7/dist-packages (from requests->transformers) (1.24.3)\n",
            "Requirement already satisfied: certifi>=2017.4.17 in /usr/local/lib/python3.7/dist-packages (from requests->transformers) (2021.10.8)\n",
            "Requirement already satisfied: zipp>=0.5 in /usr/local/lib/python3.7/dist-packages (from importlib-metadata->transformers) (3.6.0)\n",
            "Requirement already satisfied: kiwisolver>=1.0.1 in /usr/local/lib/python3.7/dist-packages (from matplotlib->gradio) (1.3.2)\n",
            "Requirement already satisfied: cycler>=0.10 in /usr/local/lib/python3.7/dist-packages (from matplotlib->gradio) (0.11.0)\n",
            "Requirement already satisfied: pytz>=2017.2 in /usr/local/lib/python3.7/dist-packages (from pandas->gradio) (2018.9)\n",
            "Collecting pynacl>=1.0.1\n",
            "  Downloading PyNaCl-1.4.0-cp35-abi3-manylinux1_x86_64.whl (961 kB)\n",
            "\u001b[K     |████████████████████████████████| 961 kB 57.9 MB/s \n",
            "\u001b[?25hCollecting cryptography>=2.5\n",
            "  Downloading cryptography-35.0.0-cp36-abi3-manylinux_2_24_x86_64.whl (3.5 MB)\n",
            "\u001b[K     |████████████████████████████████| 3.5 MB 44.4 MB/s \n",
            "\u001b[?25hCollecting bcrypt>=3.1.3\n",
            "  Downloading bcrypt-3.2.0-cp36-abi3-manylinux2010_x86_64.whl (63 kB)\n",
            "\u001b[K     |████████████████████████████████| 63 kB 2.8 MB/s \n",
            "\u001b[?25hRequirement already satisfied: cffi>=1.1 in /usr/local/lib/python3.7/dist-packages (from bcrypt>=3.1.3->paramiko->gradio) (1.15.0)\n",
            "Requirement already satisfied: pycparser in /usr/local/lib/python3.7/dist-packages (from cffi>=1.1->bcrypt>=3.1.3->paramiko->gradio) (2.21)\n",
            "Requirement already satisfied: joblib in /usr/local/lib/python3.7/dist-packages (from sacremoses->transformers) (1.1.0)\n",
            "Building wheels for collected packages: ffmpy, flask-cachebuster\n",
            "  Building wheel for ffmpy (setup.py) ... \u001b[?25l\u001b[?25hdone\n",
            "  Created wheel for ffmpy: filename=ffmpy-0.3.0-py3-none-any.whl size=4710 sha256=a34560cc2708c5a6f8060edbc947ce05dc4aa1c86b265741d5f9b8c4f0aaaac0\n",
            "  Stored in directory: /root/.cache/pip/wheels/13/e4/6c/e8059816e86796a597c6e6b0d4c880630f51a1fcfa0befd5e6\n",
            "  Building wheel for flask-cachebuster (setup.py) ... \u001b[?25l\u001b[?25hdone\n",
            "  Created wheel for flask-cachebuster: filename=Flask_CacheBuster-1.0.0-py3-none-any.whl size=3371 sha256=3e795e31de216923f32624f87ea1f9ea5c78b9539677d41c1e86c0b1da9089db\n",
            "  Stored in directory: /root/.cache/pip/wheels/28/c0/c4/44687421dab41455be93112bd1b0dee1f3c5a9aa27bee63708\n",
            "Successfully built ffmpy flask-cachebuster\n",
            "Installing collected packages: pyyaml, pynacl, monotonic, cryptography, bcrypt, backoff, tokenizers, sacremoses, pydub, pycryptodome, paramiko, markdown2, huggingface-hub, Flask-Login, Flask-Cors, flask-cachebuster, ffmpy, analytics-python, transformers, gradio\n",
            "  Attempting uninstall: pyyaml\n",
            "    Found existing installation: PyYAML 3.13\n",
            "    Uninstalling PyYAML-3.13:\n",
            "      Successfully uninstalled PyYAML-3.13\n",
            "Successfully installed Flask-Cors-3.0.10 Flask-Login-0.5.0 analytics-python-1.4.0 backoff-1.10.0 bcrypt-3.2.0 cryptography-35.0.0 ffmpy-0.3.0 flask-cachebuster-1.0.0 gradio-2.4.5 huggingface-hub-0.1.2 markdown2-2.4.1 monotonic-1.6 paramiko-2.8.0 pycryptodome-3.11.0 pydub-0.25.1 pynacl-1.4.0 pyyaml-6.0 sacremoses-0.0.46 tokenizers-0.10.3 transformers-4.12.5\n"
          ]
        }
      ]
    },
    {
      "cell_type": "code",
      "metadata": {
        "id": "XydihB5YF1yM"
      },
      "source": [
        ""
      ],
      "execution_count": null,
      "outputs": []
    },
    {
      "cell_type": "code",
      "metadata": {
        "colab": {
          "base_uri": "https://localhost:8080/",
          "height": 389
        },
        "id": "bBFjVwZIF12B",
        "outputId": "202d592c-421c-45da-a556-2ab3af2f3102"
      },
      "source": [
        "from transformers import AutoModelForSequenceClassification, AutoTokenizer, pipeline\n",
        "sa= pipeline(\"sentiment-analysis\")\n",
        "\n",
        "def adjust(x):\n",
        "  if x<0:\n",
        "    return 2*x+1\n",
        "  return 2*x-1\n",
        "\n",
        "def sa2(s):\n",
        "  res= sa(s)\n",
        "  return [adjust(-1*r['score']) if r['label']=='negative' else adjust(r['score']) for r in res ]\n",
        "  \n",
        "  \n",
        "import pandas as pd\n",
        "\n",
        "import matplotlib.pyplot as plt\n",
        "def grfunc(comments):\n",
        "  df=pd.DataFrame()\n",
        "  c2=[s.strip() for s in comments.split(\"\\n\") if len(s.split())>2]\n",
        "  df[\"scores\"]= sa2(c2)\n",
        "  df.plot(kind='hist')\n",
        "  return plt.gcf()\n",
        " \n",
        "import gradio as gr\n",
        "\n",
        "iface = gr.Interface(\n",
        "  fn=grfunc, \n",
        "  inputs=gr.inputs.Textbox(placeholder=\"put your sentences line by line\", lines=5), \n",
        "  outputs=\"plot\")\n",
        "iface.launch()\n"
      ],
      "execution_count": null,
      "outputs": [
        {
          "ename": "ModuleNotFoundError",
          "evalue": "ignored",
          "output_type": "error",
          "traceback": [
            "\u001b[0;31m---------------------------------------------------------------------------\u001b[0m",
            "\u001b[0;31mModuleNotFoundError\u001b[0m                       Traceback (most recent call last)",
            "\u001b[0;32m<ipython-input-118-4381d0c7f7ab>\u001b[0m in \u001b[0;36m<module>\u001b[0;34m()\u001b[0m\n\u001b[0;32m----> 1\u001b[0;31m \u001b[0;32mfrom\u001b[0m \u001b[0mtransformers\u001b[0m \u001b[0;32mimport\u001b[0m \u001b[0mAutoModelForSequenceClassification\u001b[0m\u001b[0;34m,\u001b[0m \u001b[0mAutoTokenizer\u001b[0m\u001b[0;34m,\u001b[0m \u001b[0mpipeline\u001b[0m\u001b[0;34m\u001b[0m\u001b[0;34m\u001b[0m\u001b[0m\n\u001b[0m\u001b[1;32m      2\u001b[0m \u001b[0msa\u001b[0m\u001b[0;34m=\u001b[0m \u001b[0mpipeline\u001b[0m\u001b[0;34m(\u001b[0m\u001b[0;34m\"sentiment-analysis\"\u001b[0m\u001b[0;34m)\u001b[0m\u001b[0;34m\u001b[0m\u001b[0;34m\u001b[0m\u001b[0m\n\u001b[1;32m      3\u001b[0m \u001b[0;34m\u001b[0m\u001b[0m\n\u001b[1;32m      4\u001b[0m \u001b[0;32mdef\u001b[0m \u001b[0madjust\u001b[0m\u001b[0;34m(\u001b[0m\u001b[0mx\u001b[0m\u001b[0;34m)\u001b[0m\u001b[0;34m:\u001b[0m\u001b[0;34m\u001b[0m\u001b[0;34m\u001b[0m\u001b[0m\n\u001b[1;32m      5\u001b[0m   \u001b[0;32mif\u001b[0m \u001b[0mx\u001b[0m\u001b[0;34m<\u001b[0m\u001b[0;36m0\u001b[0m\u001b[0;34m:\u001b[0m\u001b[0;34m\u001b[0m\u001b[0;34m\u001b[0m\u001b[0m\n",
            "\u001b[0;31mModuleNotFoundError\u001b[0m: No module named 'transformers'",
            "",
            "\u001b[0;31m---------------------------------------------------------------------------\u001b[0;32m\nNOTE: If your import is failing due to a missing package, you can\nmanually install dependencies using either !pip or !apt.\n\nTo view examples of installing some common dependencies, click the\n\"Open Examples\" button below.\n\u001b[0;31m---------------------------------------------------------------------------\u001b[0m\n"
          ]
        }
      ]
    },
    {
      "cell_type": "code",
      "metadata": {
        "colab": {
          "background_save": true
        },
        "id": "Hw4ewNMO6nYG",
        "outputId": "706a1406-bb7c-4542-f037-ae32a25eef40"
      },
      "source": [
        "df.to_csv(\"sus.txt\")\n",
        "!ls"
      ],
      "execution_count": null,
      "outputs": [
        {
          "name": "stdout",
          "output_type": "stream",
          "text": [
            "sample_data  sus.txt\n"
          ]
        }
      ]
    },
    {
      "cell_type": "markdown",
      "metadata": {
        "id": "1YBARIgFAgzX"
      },
      "source": [
        "# Image Processing"
      ]
    },
    {
      "cell_type": "code",
      "metadata": {
        "colab": {
          "base_uri": "https://localhost:8080/"
        },
        "id": "bchZ3Ud6A7yq",
        "outputId": "cd9270d8-9347-40e9-ba5a-ad406ed9ad6c"
      },
      "source": [
        "pip install transformers"
      ],
      "execution_count": null,
      "outputs": [
        {
          "name": "stdout",
          "output_type": "stream",
          "text": [
            "Collecting transformers\n",
            "  Downloading transformers-4.12.3-py3-none-any.whl (3.1 MB)\n",
            "\u001b[K     |████████████████████████████████| 3.1 MB 3.1 MB/s \n",
            "\u001b[?25hRequirement already satisfied: filelock in /usr/local/lib/python3.7/dist-packages (from transformers) (3.3.0)\n",
            "Requirement already satisfied: importlib-metadata in /usr/local/lib/python3.7/dist-packages (from transformers) (4.8.1)\n",
            "Requirement already satisfied: numpy>=1.17 in /usr/local/lib/python3.7/dist-packages (from transformers) (1.19.5)\n",
            "Collecting huggingface-hub<1.0,>=0.1.0\n",
            "  Downloading huggingface_hub-0.1.0-py3-none-any.whl (59 kB)\n",
            "\u001b[K     |████████████████████████████████| 59 kB 5.9 MB/s \n",
            "\u001b[?25hCollecting tokenizers<0.11,>=0.10.1\n",
            "  Downloading tokenizers-0.10.3-cp37-cp37m-manylinux_2_5_x86_64.manylinux1_x86_64.manylinux_2_12_x86_64.manylinux2010_x86_64.whl (3.3 MB)\n",
            "\u001b[K     |████████████████████████████████| 3.3 MB 40.9 MB/s \n",
            "\u001b[?25hRequirement already satisfied: regex!=2019.12.17 in /usr/local/lib/python3.7/dist-packages (from transformers) (2019.12.20)\n",
            "Requirement already satisfied: requests in /usr/local/lib/python3.7/dist-packages (from transformers) (2.23.0)\n",
            "Requirement already satisfied: tqdm>=4.27 in /usr/local/lib/python3.7/dist-packages (from transformers) (4.62.3)\n",
            "Requirement already satisfied: packaging>=20.0 in /usr/local/lib/python3.7/dist-packages (from transformers) (21.0)\n",
            "Collecting pyyaml>=5.1\n",
            "  Downloading PyYAML-6.0-cp37-cp37m-manylinux_2_5_x86_64.manylinux1_x86_64.manylinux_2_12_x86_64.manylinux2010_x86_64.whl (596 kB)\n",
            "\u001b[K     |████████████████████████████████| 596 kB 52.3 MB/s \n",
            "\u001b[?25hCollecting sacremoses\n",
            "  Downloading sacremoses-0.0.46-py3-none-any.whl (895 kB)\n",
            "\u001b[K     |████████████████████████████████| 895 kB 35.7 MB/s \n",
            "\u001b[?25hRequirement already satisfied: typing-extensions in /usr/local/lib/python3.7/dist-packages (from huggingface-hub<1.0,>=0.1.0->transformers) (3.7.4.3)\n",
            "Requirement already satisfied: pyparsing>=2.0.2 in /usr/local/lib/python3.7/dist-packages (from packaging>=20.0->transformers) (2.4.7)\n",
            "Requirement already satisfied: zipp>=0.5 in /usr/local/lib/python3.7/dist-packages (from importlib-metadata->transformers) (3.6.0)\n",
            "Requirement already satisfied: certifi>=2017.4.17 in /usr/local/lib/python3.7/dist-packages (from requests->transformers) (2021.5.30)\n",
            "Requirement already satisfied: idna<3,>=2.5 in /usr/local/lib/python3.7/dist-packages (from requests->transformers) (2.10)\n",
            "Requirement already satisfied: urllib3!=1.25.0,!=1.25.1,<1.26,>=1.21.1 in /usr/local/lib/python3.7/dist-packages (from requests->transformers) (1.24.3)\n",
            "Requirement already satisfied: chardet<4,>=3.0.2 in /usr/local/lib/python3.7/dist-packages (from requests->transformers) (3.0.4)\n",
            "Requirement already satisfied: joblib in /usr/local/lib/python3.7/dist-packages (from sacremoses->transformers) (1.0.1)\n",
            "Requirement already satisfied: six in /usr/local/lib/python3.7/dist-packages (from sacremoses->transformers) (1.15.0)\n",
            "Requirement already satisfied: click in /usr/local/lib/python3.7/dist-packages (from sacremoses->transformers) (7.1.2)\n",
            "Installing collected packages: pyyaml, tokenizers, sacremoses, huggingface-hub, transformers\n",
            "  Attempting uninstall: pyyaml\n",
            "    Found existing installation: PyYAML 3.13\n",
            "    Uninstalling PyYAML-3.13:\n",
            "      Successfully uninstalled PyYAML-3.13\n",
            "Successfully installed huggingface-hub-0.1.0 pyyaml-6.0 sacremoses-0.0.46 tokenizers-0.10.3 transformers-4.12.3\n"
          ]
        }
      ]
    },
    {
      "cell_type": "code",
      "metadata": {
        "colab": {
          "base_uri": "https://localhost:8080/",
          "height": 113
        },
        "id": "imelICHQAipO",
        "outputId": "82dc9f6a-5437-4a3c-8b81-7682f9924c86"
      },
      "source": [
        "from PIL import Image\n",
        "import requests\n",
        "\n",
        "from transformers import AutoFeatureExtractor, DeiTForImageClassificationWithTeacher\n",
        "from PIL import Image\n",
        "import requests\n",
        "\n",
        "url = 'http://images.cocodataset.org/val2017/000000039769.jpg'\n",
        "image = Image.open(requests.get(url, stream=True).raw)\n",
        "\n",
        "feature_extractor = AutoFeatureExtractor.from_pretrained('facebook/deit-base-distilled-patch16-224')\n",
        "model = DeiTForImageClassificationWithTeacher.from_pretrained('facebook/deit-base-distilled-patch16-224')\n",
        "\n",
        "\n",
        "\n",
        "inputs = feature_extractor(images=image, return_tensors=\"pt\")\n",
        "outputs = model(**inputs)\n",
        "logits = outputs.logits\n",
        "# model predicts one of the 1000 ImageNet classes\n",
        "predicted_class_idx = logits.argmax(-1).item()\n"
      ],
      "execution_count": null,
      "outputs": [
        {
          "data": {
            "application/vnd.jupyter.widget-view+json": {
              "model_id": "2955ae5526a443baa30a3b1c72f5b864",
              "version_major": 2,
              "version_minor": 0
            },
            "text/plain": [
              "Downloading:   0%|          | 0.00/68.0k [00:00<?, ?B/s]"
            ]
          },
          "metadata": {},
          "output_type": "display_data"
        },
        {
          "data": {
            "application/vnd.jupyter.widget-view+json": {
              "model_id": "cd773de3c64d4ea893d7759bba231391",
              "version_major": 2,
              "version_minor": 0
            },
            "text/plain": [
              "Downloading:   0%|          | 0.00/287 [00:00<?, ?B/s]"
            ]
          },
          "metadata": {},
          "output_type": "display_data"
        },
        {
          "data": {
            "application/vnd.jupyter.widget-view+json": {
              "model_id": "a2acf7b6abd440a3bc92a5146b29a54c",
              "version_major": 2,
              "version_minor": 0
            },
            "text/plain": [
              "Downloading:   0%|          | 0.00/333M [00:00<?, ?B/s]"
            ]
          },
          "metadata": {},
          "output_type": "display_data"
        }
      ]
    },
    {
      "cell_type": "code",
      "metadata": {
        "id": "-qht9Ct_B0CG"
      },
      "source": [
        "def pred(url):\n",
        "  image = Image.open(requests.get(url, stream=True).raw)\n",
        "  inputs = feature_extractor(images=image, return_tensors=\"pt\")\n",
        "  outputs = model(**inputs)\n",
        "  logits = outputs.logits\n",
        "  # model predicts one of the 1000 ImageNet classes\n",
        "  predicted_class_idx = logits.argmax(-1).item()\n",
        "  return model.config.id2label[predicted_class_idx]\n"
      ],
      "execution_count": null,
      "outputs": []
    },
    {
      "cell_type": "code",
      "metadata": {
        "colab": {
          "base_uri": "https://localhost:8080/",
          "height": 35
        },
        "id": "WG4w2sc5A6rf",
        "outputId": "64cb077e-665e-4634-fc08-ee8706f72585"
      },
      "source": [
        "pred(url)"
      ],
      "execution_count": null,
      "outputs": [
        {
          "data": {
            "application/vnd.google.colaboratory.intrinsic+json": {
              "type": "string"
            },
            "text/plain": [
              "'tabby, tabby cat'"
            ]
          },
          "execution_count": 95,
          "metadata": {},
          "output_type": "execute_result"
        }
      ]
    },
    {
      "cell_type": "code",
      "metadata": {
        "id": "KUl8DytFCVGW"
      },
      "source": [
        ""
      ],
      "execution_count": null,
      "outputs": []
    },
    {
      "cell_type": "code",
      "metadata": {
        "colab": {
          "base_uri": "https://localhost:8080/",
          "height": 304
        },
        "id": "Ub8RZT81CVQj",
        "outputId": "51470e14-4145-4a26-d17b-343c22435c43"
      },
      "source": [
        "df_small=df.head(5)\n",
        "df_small"
      ],
      "execution_count": null,
      "outputs": [
        {
          "data": {
            "text/html": [
              "<div>\n",
              "<style scoped>\n",
              "    .dataframe tbody tr th:only-of-type {\n",
              "        vertical-align: middle;\n",
              "    }\n",
              "\n",
              "    .dataframe tbody tr th {\n",
              "        vertical-align: top;\n",
              "    }\n",
              "\n",
              "    .dataframe thead th {\n",
              "        text-align: right;\n",
              "    }\n",
              "</style>\n",
              "<table border=\"1\" class=\"dataframe\">\n",
              "  <thead>\n",
              "    <tr style=\"text-align: right;\">\n",
              "      <th></th>\n",
              "      <th>text</th>\n",
              "      <th>source</th>\n",
              "      <th>source_url</th>\n",
              "      <th>retweet_count</th>\n",
              "      <th>favorite</th>\n",
              "      <th>geo</th>\n",
              "      <th>user</th>\n",
              "      <th>created_at</th>\n",
              "      <th>profile_image</th>\n",
              "    </tr>\n",
              "  </thead>\n",
              "  <tbody>\n",
              "    <tr>\n",
              "      <th>0</th>\n",
              "      <td>Watching #SquidGames made me reevaluate the pe...</td>\n",
              "      <td>Twitter for Android</td>\n",
              "      <td>http://twitter.com/download/android</td>\n",
              "      <td>0</td>\n",
              "      <td>0</td>\n",
              "      <td>None</td>\n",
              "      <td>Dime Jones</td>\n",
              "      <td>2021-11-04 12:43:43</td>\n",
              "      <td>http://pbs.twimg.com/profile_images/1455561309...</td>\n",
              "    </tr>\n",
              "    <tr>\n",
              "      <th>1</th>\n",
              "      <td>#confession As a kid, I thought the Holocaust ...</td>\n",
              "      <td>Twitter for Android</td>\n",
              "      <td>http://twitter.com/download/android</td>\n",
              "      <td>0</td>\n",
              "      <td>0</td>\n",
              "      <td>None</td>\n",
              "      <td>Yagdil Isn't Brisk</td>\n",
              "      <td>2021-11-04 12:41:31</td>\n",
              "      <td>http://pbs.twimg.com/profile_images/1330390980...</td>\n",
              "    </tr>\n",
              "    <tr>\n",
              "      <th>2</th>\n",
              "      <td>RT @CheezieMcfresh1: Welcome To The Squid Game...</td>\n",
              "      <td>Twitter for iPhone</td>\n",
              "      <td>http://twitter.com/download/iphone</td>\n",
              "      <td>3</td>\n",
              "      <td>0</td>\n",
              "      <td>None</td>\n",
              "      <td>SteamRolla Frevola</td>\n",
              "      <td>2021-11-04 12:37:34</td>\n",
              "      <td>http://pbs.twimg.com/profile_images/1391009731...</td>\n",
              "    </tr>\n",
              "    <tr>\n",
              "      <th>3</th>\n",
              "      <td>RT @enstatia: Seems like everyone has already ...</td>\n",
              "      <td>Twitter for iPhone</td>\n",
              "      <td>http://twitter.com/download/iphone</td>\n",
              "      <td>48</td>\n",
              "      <td>0</td>\n",
              "      <td>None</td>\n",
              "      <td>Scarif Vacation</td>\n",
              "      <td>2021-11-04 12:31:02</td>\n",
              "      <td>http://pbs.twimg.com/profile_images/1451871493...</td>\n",
              "    </tr>\n",
              "    <tr>\n",
              "      <th>4</th>\n",
              "      <td>Squid Game #squidgames S01 | E05 check  https:...</td>\n",
              "      <td>TV Time, TV show tracker</td>\n",
              "      <td>https://www.tvtime.com</td>\n",
              "      <td>0</td>\n",
              "      <td>0</td>\n",
              "      <td>None</td>\n",
              "      <td>Doublle Addict 📺</td>\n",
              "      <td>2021-11-04 12:26:04</td>\n",
              "      <td>http://pbs.twimg.com/profile_images/1163228638...</td>\n",
              "    </tr>\n",
              "  </tbody>\n",
              "</table>\n",
              "</div>"
            ],
            "text/plain": [
              "                                                text  ...                                      profile_image\n",
              "0  Watching #SquidGames made me reevaluate the pe...  ...  http://pbs.twimg.com/profile_images/1455561309...\n",
              "1  #confession As a kid, I thought the Holocaust ...  ...  http://pbs.twimg.com/profile_images/1330390980...\n",
              "2  RT @CheezieMcfresh1: Welcome To The Squid Game...  ...  http://pbs.twimg.com/profile_images/1391009731...\n",
              "3  RT @enstatia: Seems like everyone has already ...  ...  http://pbs.twimg.com/profile_images/1451871493...\n",
              "4  Squid Game #squidgames S01 | E05 check  https:...  ...  http://pbs.twimg.com/profile_images/1163228638...\n",
              "\n",
              "[5 rows x 9 columns]"
            ]
          },
          "execution_count": 85,
          "metadata": {},
          "output_type": "execute_result"
        }
      ]
    },
    {
      "cell_type": "code",
      "metadata": {
        "colab": {
          "base_uri": "https://localhost:8080/"
        },
        "id": "yOpMuIfWBrDj",
        "outputId": "e8cee67f-2168-4c74-a8b2-28472fa56e99"
      },
      "source": [
        "df_small[\"profile_pred\"]=df_small.profile_image.map(lambda x: pred(x))"
      ],
      "execution_count": null,
      "outputs": [
        {
          "name": "stderr",
          "output_type": "stream",
          "text": [
            "/usr/local/lib/python3.7/dist-packages/ipykernel_launcher.py:1: SettingWithCopyWarning: \n",
            "A value is trying to be set on a copy of a slice from a DataFrame.\n",
            "Try using .loc[row_indexer,col_indexer] = value instead\n",
            "\n",
            "See the caveats in the documentation: https://pandas.pydata.org/pandas-docs/stable/user_guide/indexing.html#returning-a-view-versus-a-copy\n",
            "  \"\"\"Entry point for launching an IPython kernel.\n"
          ]
        }
      ]
    },
    {
      "cell_type": "code",
      "metadata": {
        "colab": {
          "base_uri": "https://localhost:8080/",
          "height": 438
        },
        "id": "y-vOf0KaBtnC",
        "outputId": "7bc8c202-b0d1-4195-d4a3-940e16acdd46"
      },
      "source": [
        "df_small"
      ],
      "execution_count": null,
      "outputs": [
        {
          "data": {
            "text/html": [
              "<div>\n",
              "<style scoped>\n",
              "    .dataframe tbody tr th:only-of-type {\n",
              "        vertical-align: middle;\n",
              "    }\n",
              "\n",
              "    .dataframe tbody tr th {\n",
              "        vertical-align: top;\n",
              "    }\n",
              "\n",
              "    .dataframe thead th {\n",
              "        text-align: right;\n",
              "    }\n",
              "</style>\n",
              "<table border=\"1\" class=\"dataframe\">\n",
              "  <thead>\n",
              "    <tr style=\"text-align: right;\">\n",
              "      <th></th>\n",
              "      <th>text</th>\n",
              "      <th>source</th>\n",
              "      <th>source_url</th>\n",
              "      <th>retweet_count</th>\n",
              "      <th>favorite</th>\n",
              "      <th>geo</th>\n",
              "      <th>user</th>\n",
              "      <th>created_at</th>\n",
              "      <th>profile_image</th>\n",
              "      <th>profile_pred</th>\n",
              "    </tr>\n",
              "  </thead>\n",
              "  <tbody>\n",
              "    <tr>\n",
              "      <th>0</th>\n",
              "      <td>Watching #SquidGames made me reevaluate the pe...</td>\n",
              "      <td>Twitter for Android</td>\n",
              "      <td>http://twitter.com/download/android</td>\n",
              "      <td>0</td>\n",
              "      <td>0</td>\n",
              "      <td>None</td>\n",
              "      <td>Dime Jones</td>\n",
              "      <td>2021-11-04 12:43:43</td>\n",
              "      <td>http://pbs.twimg.com/profile_images/1455561309...</td>\n",
              "      <td>Band Aid</td>\n",
              "    </tr>\n",
              "    <tr>\n",
              "      <th>1</th>\n",
              "      <td>#confession As a kid, I thought the Holocaust ...</td>\n",
              "      <td>Twitter for Android</td>\n",
              "      <td>http://twitter.com/download/android</td>\n",
              "      <td>0</td>\n",
              "      <td>0</td>\n",
              "      <td>None</td>\n",
              "      <td>Yagdil Isn't Brisk</td>\n",
              "      <td>2021-11-04 12:41:31</td>\n",
              "      <td>http://pbs.twimg.com/profile_images/1330390980...</td>\n",
              "      <td>Windsor tie</td>\n",
              "    </tr>\n",
              "    <tr>\n",
              "      <th>2</th>\n",
              "      <td>RT @CheezieMcfresh1: Welcome To The Squid Game...</td>\n",
              "      <td>Twitter for iPhone</td>\n",
              "      <td>http://twitter.com/download/iphone</td>\n",
              "      <td>3</td>\n",
              "      <td>0</td>\n",
              "      <td>None</td>\n",
              "      <td>SteamRolla Frevola</td>\n",
              "      <td>2021-11-04 12:37:34</td>\n",
              "      <td>http://pbs.twimg.com/profile_images/1391009731...</td>\n",
              "      <td>punching bag, punch bag, punching ball, punchball</td>\n",
              "    </tr>\n",
              "    <tr>\n",
              "      <th>3</th>\n",
              "      <td>RT @enstatia: Seems like everyone has already ...</td>\n",
              "      <td>Twitter for iPhone</td>\n",
              "      <td>http://twitter.com/download/iphone</td>\n",
              "      <td>48</td>\n",
              "      <td>0</td>\n",
              "      <td>None</td>\n",
              "      <td>Scarif Vacation</td>\n",
              "      <td>2021-11-04 12:31:02</td>\n",
              "      <td>http://pbs.twimg.com/profile_images/1451871493...</td>\n",
              "      <td>safety pin</td>\n",
              "    </tr>\n",
              "    <tr>\n",
              "      <th>4</th>\n",
              "      <td>Squid Game #squidgames S01 | E05 check  https:...</td>\n",
              "      <td>TV Time, TV show tracker</td>\n",
              "      <td>https://www.tvtime.com</td>\n",
              "      <td>0</td>\n",
              "      <td>0</td>\n",
              "      <td>None</td>\n",
              "      <td>Doublle Addict 📺</td>\n",
              "      <td>2021-11-04 12:26:04</td>\n",
              "      <td>http://pbs.twimg.com/profile_images/1163228638...</td>\n",
              "      <td>oboe, hautboy, hautbois</td>\n",
              "    </tr>\n",
              "  </tbody>\n",
              "</table>\n",
              "</div>"
            ],
            "text/plain": [
              "                                                text  ...                                       profile_pred\n",
              "0  Watching #SquidGames made me reevaluate the pe...  ...                                           Band Aid\n",
              "1  #confession As a kid, I thought the Holocaust ...  ...                                        Windsor tie\n",
              "2  RT @CheezieMcfresh1: Welcome To The Squid Game...  ...  punching bag, punch bag, punching ball, punchball\n",
              "3  RT @enstatia: Seems like everyone has already ...  ...                                         safety pin\n",
              "4  Squid Game #squidgames S01 | E05 check  https:...  ...                            oboe, hautboy, hautbois\n",
              "\n",
              "[5 rows x 10 columns]"
            ]
          },
          "execution_count": 87,
          "metadata": {},
          "output_type": "execute_result"
        }
      ]
    },
    {
      "cell_type": "code",
      "metadata": {
        "colab": {
          "base_uri": "https://localhost:8080/"
        },
        "id": "ge5f-QAyCeXF",
        "outputId": "33b39061-3df2-4d20-c703-bf9b36d0c062"
      },
      "source": [
        "list(df_small.profile_image)"
      ],
      "execution_count": null,
      "outputs": [
        {
          "data": {
            "text/plain": [
              "['http://pbs.twimg.com/profile_images/1455561309093834760/QzLDQXk2_normal.jpg',\n",
              " 'http://pbs.twimg.com/profile_images/1330390980210667521/Q3wUPNn3_normal.jpg',\n",
              " 'http://pbs.twimg.com/profile_images/1391009731230248962/mJJKUybz_normal.jpg',\n",
              " 'http://pbs.twimg.com/profile_images/1451871493638561794/ijNtPfae_normal.jpg',\n",
              " 'http://pbs.twimg.com/profile_images/1163228638382317569/D9LZ7l8E_normal.jpg']"
            ]
          },
          "execution_count": 88,
          "metadata": {},
          "output_type": "execute_result"
        }
      ]
    },
    {
      "cell_type": "code",
      "metadata": {
        "id": "VvobGDxmCj2I"
      },
      "source": [
        "myurl=\"https://www.bilgi.edu.tr/media/uploads/resume/profile/520-tr.jpg\"\n",
        "myurl2=\"https://miro.medium.com/fit/c/262/262/1*ZDd1PRY4W1JlRNds79r6bw.png\""
      ],
      "execution_count": null,
      "outputs": []
    },
    {
      "cell_type": "code",
      "metadata": {
        "colab": {
          "base_uri": "https://localhost:8080/",
          "height": 35
        },
        "id": "PiD3dmdzDMIr",
        "outputId": "e55ce738-75c8-476b-8296-68f404e1900f"
      },
      "source": [
        "pred(myurl2)"
      ],
      "execution_count": null,
      "outputs": [
        {
          "data": {
            "application/vnd.google.colaboratory.intrinsic+json": {
              "type": "string"
            },
            "text/plain": [
              "'lab coat, laboratory coat'"
            ]
          },
          "execution_count": 99,
          "metadata": {},
          "output_type": "execute_result"
        }
      ]
    },
    {
      "cell_type": "code",
      "metadata": {
        "id": "FRxZIocHDNwp"
      },
      "source": [
        ""
      ],
      "execution_count": null,
      "outputs": []
    }
  ]
}