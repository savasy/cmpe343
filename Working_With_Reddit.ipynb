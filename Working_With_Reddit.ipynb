{
  "nbformat": 4,
  "nbformat_minor": 0,
  "metadata": {
    "colab": {
      "name": "Working With Reddit.ipynb",
      "provenance": []
    },
    "kernelspec": {
      "name": "python3",
      "display_name": "Python 3"
    },
    "language_info": {
      "name": "python"
    }
  },
  "cells": [
    {
      "cell_type": "code",
      "metadata": {
        "colab": {
          "base_uri": "https://localhost:8080/"
        },
        "id": "lzdPmD7gbDXo",
        "outputId": "4c8de718-5d16-4a89-d201-650e0b2273f6"
      },
      "source": [
        "!pip install praw"
      ],
      "execution_count": null,
      "outputs": [
        {
          "output_type": "stream",
          "name": "stdout",
          "text": [
            "Collecting praw\n",
            "  Downloading praw-7.5.0-py3-none-any.whl (176 kB)\n",
            "\u001b[K     |████████████████████████████████| 176 kB 7.6 MB/s \n",
            "\u001b[?25hCollecting prawcore<3,>=2.1\n",
            "  Downloading prawcore-2.3.0-py3-none-any.whl (16 kB)\n",
            "Collecting update-checker>=0.18\n",
            "  Downloading update_checker-0.18.0-py3-none-any.whl (7.0 kB)\n",
            "Collecting websocket-client>=0.54.0\n",
            "  Downloading websocket_client-1.2.3-py3-none-any.whl (53 kB)\n",
            "\u001b[K     |████████████████████████████████| 53 kB 1.4 MB/s \n",
            "\u001b[?25hRequirement already satisfied: requests<3.0,>=2.6.0 in /usr/local/lib/python3.7/dist-packages (from prawcore<3,>=2.1->praw) (2.23.0)\n",
            "Requirement already satisfied: certifi>=2017.4.17 in /usr/local/lib/python3.7/dist-packages (from requests<3.0,>=2.6.0->prawcore<3,>=2.1->praw) (2021.10.8)\n",
            "Requirement already satisfied: urllib3!=1.25.0,!=1.25.1,<1.26,>=1.21.1 in /usr/local/lib/python3.7/dist-packages (from requests<3.0,>=2.6.0->prawcore<3,>=2.1->praw) (1.24.3)\n",
            "Requirement already satisfied: idna<3,>=2.5 in /usr/local/lib/python3.7/dist-packages (from requests<3.0,>=2.6.0->prawcore<3,>=2.1->praw) (2.10)\n",
            "Requirement already satisfied: chardet<4,>=3.0.2 in /usr/local/lib/python3.7/dist-packages (from requests<3.0,>=2.6.0->prawcore<3,>=2.1->praw) (3.0.4)\n",
            "Installing collected packages: websocket-client, update-checker, prawcore, praw\n",
            "Successfully installed praw-7.5.0 prawcore-2.3.0 update-checker-0.18.0 websocket-client-1.2.3\n"
          ]
        }
      ]
    },
    {
      "cell_type": "code",
      "metadata": {
        "id": "YJExtMdb7DMK"
      },
      "source": [
        "import praw\n",
        "import pandas as pd\n",
        "import datetime as dt "
      ],
      "execution_count": null,
      "outputs": []
    },
    {
      "cell_type": "markdown",
      "metadata": {
        "id": "RHF9t1aVbKyG"
      },
      "source": [
        "https://www.reddit.com/prefs/apps"
      ]
    },
    {
      "cell_type": "code",
      "metadata": {
        "id": "M9kDVv0JbEKk"
      },
      "source": [
        "#Authorized Reddit Instance\n",
        "reddit = praw.Reddit(client_id ='**', # PUT YOUR OWN ID\n",
        "                     client_secret ='***', # PUT YOUR OWN SECRET KEY\n",
        "                     user_agent ='Accordi___**',\n",
        "                     username = '',\n",
        "                     password = '',\n",
        "                     check_for_async=False) "
      ],
      "execution_count": null,
      "outputs": []
    },
    {
      "cell_type": "code",
      "metadata": {
        "id": "xy2KIqIYb9oo"
      },
      "source": [
        ""
      ],
      "execution_count": null,
      "outputs": []
    },
    {
      "cell_type": "code",
      "metadata": {
        "id": "dZtrcrcEuFHP"
      },
      "source": [
        "subreddit1 = reddit.subreddit('minecraft')\n",
        "python_subreddit = subreddit1.hot(limit=10000)"
      ],
      "execution_count": null,
      "outputs": []
    },
    {
      "cell_type": "code",
      "metadata": {
        "id": "yAOIlQG77gYU"
      },
      "source": [
        "dict = { \"title\":[],\n",
        "                \"subreddit\":[],\n",
        "                \"score\":[], \n",
        "                \"id\":[], \n",
        "                \"url\":[], \n",
        "                \"comms_num\": [], \n",
        "                \"created\": [], \n",
        "                \"body\":[]}"
      ],
      "execution_count": null,
      "outputs": []
    },
    {
      "cell_type": "code",
      "metadata": {
        "id": "sOnl_Xo27ga6"
      },
      "source": [
        "for submission in python_subreddit:\n",
        "    dict[\"title\"].append(submission.title)\n",
        "    dict['subreddit'].append(submission.subreddit)\n",
        "    dict[\"score\"].append(submission.score)\n",
        "    dict[\"id\"].append(submission.id)\n",
        "    dict[\"url\"].append(submission.url)\n",
        "    dict[\"comms_num\"].append(submission.num_comments)\n",
        "    dict[\"created\"].append(submission.created)\n",
        "    dict[\"body\"].append(submission.selftext)"
      ],
      "execution_count": null,
      "outputs": []
    },
    {
      "cell_type": "code",
      "metadata": {
        "id": "lmqW16ig8kY8"
      },
      "source": [
        "mine=pd.DataFrame(dict)"
      ],
      "execution_count": null,
      "outputs": []
    },
    {
      "cell_type": "code",
      "metadata": {
        "colab": {
          "base_uri": "https://localhost:8080/",
          "height": 562
        },
        "id": "Zg_dI48p9_B0",
        "outputId": "59c59f31-73c9-47dd-c56e-1637f5f59d94"
      },
      "source": [
        "mine"
      ],
      "execution_count": null,
      "outputs": [
        {
          "output_type": "execute_result",
          "data": {
            "text/html": [
              "\n",
              "  <div id=\"df-e58569b1-9621-4377-9d19-b1f9353ee474\">\n",
              "    <div class=\"colab-df-container\">\n",
              "      <div>\n",
              "<style scoped>\n",
              "    .dataframe tbody tr th:only-of-type {\n",
              "        vertical-align: middle;\n",
              "    }\n",
              "\n",
              "    .dataframe tbody tr th {\n",
              "        vertical-align: top;\n",
              "    }\n",
              "\n",
              "    .dataframe thead th {\n",
              "        text-align: right;\n",
              "    }\n",
              "</style>\n",
              "<table border=\"1\" class=\"dataframe\">\n",
              "  <thead>\n",
              "    <tr style=\"text-align: right;\">\n",
              "      <th></th>\n",
              "      <th>title</th>\n",
              "      <th>subreddit</th>\n",
              "      <th>score</th>\n",
              "      <th>id</th>\n",
              "      <th>url</th>\n",
              "      <th>comms_num</th>\n",
              "      <th>created</th>\n",
              "      <th>body</th>\n",
              "    </tr>\n",
              "  </thead>\n",
              "  <tbody>\n",
              "    <tr>\n",
              "      <th>0</th>\n",
              "      <td>Minecraft Java Edition 1.18.1 has been released!</td>\n",
              "      <td>Minecraft</td>\n",
              "      <td>2196</td>\n",
              "      <td>rd5pjr</td>\n",
              "      <td>https://www.reddit.com/r/Minecraft/comments/rd...</td>\n",
              "      <td>311</td>\n",
              "      <td>1.639132e+09</td>\n",
              "      <td>We’re now releasing Minecraft: Java Edition 1....</td>\n",
              "    </tr>\n",
              "    <tr>\n",
              "      <th>1</th>\n",
              "      <td>Minecraft Bi-Weekly Build Challenge #139: Ski ...</td>\n",
              "      <td>Minecraft</td>\n",
              "      <td>251</td>\n",
              "      <td>rjyz6b</td>\n",
              "      <td>https://www.reddit.com/r/Minecraft/comments/rj...</td>\n",
              "      <td>18</td>\n",
              "      <td>1.639928e+09</td>\n",
              "      <td>#**[LAST WEEK'S THEME: WATERMILL](https://www....</td>\n",
              "    </tr>\n",
              "    <tr>\n",
              "      <th>2</th>\n",
              "      <td>I found this cool visual trick with spectator ...</td>\n",
              "      <td>Minecraft</td>\n",
              "      <td>9434</td>\n",
              "      <td>rsfsjl</td>\n",
              "      <td>https://v.redd.it/ty4ulk6mnr881</td>\n",
              "      <td>87</td>\n",
              "      <td>1.640908e+09</td>\n",
              "      <td></td>\n",
              "    </tr>\n",
              "    <tr>\n",
              "      <th>3</th>\n",
              "      <td>Why did all my villagers disappear!??</td>\n",
              "      <td>Minecraft</td>\n",
              "      <td>15430</td>\n",
              "      <td>rs8h55</td>\n",
              "      <td>https://i.redd.it/lyb7g10b3q881.jpg</td>\n",
              "      <td>1171</td>\n",
              "      <td>1.640889e+09</td>\n",
              "      <td></td>\n",
              "    </tr>\n",
              "    <tr>\n",
              "      <th>4</th>\n",
              "      <td>I made Minecraft parkour that builds itself</td>\n",
              "      <td>Minecraft</td>\n",
              "      <td>1558</td>\n",
              "      <td>rsgir7</td>\n",
              "      <td>https://v.redd.it/szmmrgqxtr881</td>\n",
              "      <td>55</td>\n",
              "      <td>1.640910e+09</td>\n",
              "      <td></td>\n",
              "    </tr>\n",
              "    <tr>\n",
              "      <th>...</th>\n",
              "      <td>...</td>\n",
              "      <td>...</td>\n",
              "      <td>...</td>\n",
              "      <td>...</td>\n",
              "      <td>...</td>\n",
              "      <td>...</td>\n",
              "      <td>...</td>\n",
              "      <td>...</td>\n",
              "    </tr>\n",
              "    <tr>\n",
              "      <th>858</th>\n",
              "      <td>Why does this keep happening?? Dirt keeps form...</td>\n",
              "      <td>Minecraft</td>\n",
              "      <td>28</td>\n",
              "      <td>rrfy0g</td>\n",
              "      <td>https://i.redd.it/50srz6776j881.jpg</td>\n",
              "      <td>46</td>\n",
              "      <td>1.640805e+09</td>\n",
              "      <td></td>\n",
              "    </tr>\n",
              "    <tr>\n",
              "      <th>859</th>\n",
              "      <td>What should I build on this platform in the ci...</td>\n",
              "      <td>Minecraft</td>\n",
              "      <td>7</td>\n",
              "      <td>rrpgak</td>\n",
              "      <td>https://i.redd.it/ssyh1vfp7l881.png</td>\n",
              "      <td>6</td>\n",
              "      <td>1.640830e+09</td>\n",
              "      <td></td>\n",
              "    </tr>\n",
              "    <tr>\n",
              "      <th>860</th>\n",
              "      <td>Minecraft won’t install even though I’m connec...</td>\n",
              "      <td>Minecraft</td>\n",
              "      <td>4</td>\n",
              "      <td>rrt17d</td>\n",
              "      <td>https://i.redd.it/glx8h4t03m881.jpg</td>\n",
              "      <td>4</td>\n",
              "      <td>1.640840e+09</td>\n",
              "      <td></td>\n",
              "    </tr>\n",
              "    <tr>\n",
              "      <th>861</th>\n",
              "      <td>Finding end stronghold</td>\n",
              "      <td>Minecraft</td>\n",
              "      <td>1</td>\n",
              "      <td>rs0p4y</td>\n",
              "      <td>https://www.reddit.com/r/Minecraft/comments/rs...</td>\n",
              "      <td>6</td>\n",
              "      <td>1.640867e+09</td>\n",
              "      <td>So today a friend and I were looking for the e...</td>\n",
              "    </tr>\n",
              "    <tr>\n",
              "      <th>862</th>\n",
              "      <td>I found it</td>\n",
              "      <td>Minecraft</td>\n",
              "      <td>13</td>\n",
              "      <td>rrkt4y</td>\n",
              "      <td>https://i.redd.it/a1lzquad6k881.jpg</td>\n",
              "      <td>1</td>\n",
              "      <td>1.640817e+09</td>\n",
              "      <td></td>\n",
              "    </tr>\n",
              "  </tbody>\n",
              "</table>\n",
              "<p>863 rows × 8 columns</p>\n",
              "</div>\n",
              "      <button class=\"colab-df-convert\" onclick=\"convertToInteractive('df-e58569b1-9621-4377-9d19-b1f9353ee474')\"\n",
              "              title=\"Convert this dataframe to an interactive table.\"\n",
              "              style=\"display:none;\">\n",
              "        \n",
              "  <svg xmlns=\"http://www.w3.org/2000/svg\" height=\"24px\"viewBox=\"0 0 24 24\"\n",
              "       width=\"24px\">\n",
              "    <path d=\"M0 0h24v24H0V0z\" fill=\"none\"/>\n",
              "    <path d=\"M18.56 5.44l.94 2.06.94-2.06 2.06-.94-2.06-.94-.94-2.06-.94 2.06-2.06.94zm-11 1L8.5 8.5l.94-2.06 2.06-.94-2.06-.94L8.5 2.5l-.94 2.06-2.06.94zm10 10l.94 2.06.94-2.06 2.06-.94-2.06-.94-.94-2.06-.94 2.06-2.06.94z\"/><path d=\"M17.41 7.96l-1.37-1.37c-.4-.4-.92-.59-1.43-.59-.52 0-1.04.2-1.43.59L10.3 9.45l-7.72 7.72c-.78.78-.78 2.05 0 2.83L4 21.41c.39.39.9.59 1.41.59.51 0 1.02-.2 1.41-.59l7.78-7.78 2.81-2.81c.8-.78.8-2.07 0-2.86zM5.41 20L4 18.59l7.72-7.72 1.47 1.35L5.41 20z\"/>\n",
              "  </svg>\n",
              "      </button>\n",
              "      \n",
              "  <style>\n",
              "    .colab-df-container {\n",
              "      display:flex;\n",
              "      flex-wrap:wrap;\n",
              "      gap: 12px;\n",
              "    }\n",
              "\n",
              "    .colab-df-convert {\n",
              "      background-color: #E8F0FE;\n",
              "      border: none;\n",
              "      border-radius: 50%;\n",
              "      cursor: pointer;\n",
              "      display: none;\n",
              "      fill: #1967D2;\n",
              "      height: 32px;\n",
              "      padding: 0 0 0 0;\n",
              "      width: 32px;\n",
              "    }\n",
              "\n",
              "    .colab-df-convert:hover {\n",
              "      background-color: #E2EBFA;\n",
              "      box-shadow: 0px 1px 2px rgba(60, 64, 67, 0.3), 0px 1px 3px 1px rgba(60, 64, 67, 0.15);\n",
              "      fill: #174EA6;\n",
              "    }\n",
              "\n",
              "    [theme=dark] .colab-df-convert {\n",
              "      background-color: #3B4455;\n",
              "      fill: #D2E3FC;\n",
              "    }\n",
              "\n",
              "    [theme=dark] .colab-df-convert:hover {\n",
              "      background-color: #434B5C;\n",
              "      box-shadow: 0px 1px 3px 1px rgba(0, 0, 0, 0.15);\n",
              "      filter: drop-shadow(0px 1px 2px rgba(0, 0, 0, 0.3));\n",
              "      fill: #FFFFFF;\n",
              "    }\n",
              "  </style>\n",
              "\n",
              "      <script>\n",
              "        const buttonEl =\n",
              "          document.querySelector('#df-e58569b1-9621-4377-9d19-b1f9353ee474 button.colab-df-convert');\n",
              "        buttonEl.style.display =\n",
              "          google.colab.kernel.accessAllowed ? 'block' : 'none';\n",
              "\n",
              "        async function convertToInteractive(key) {\n",
              "          const element = document.querySelector('#df-e58569b1-9621-4377-9d19-b1f9353ee474');\n",
              "          const dataTable =\n",
              "            await google.colab.kernel.invokeFunction('convertToInteractive',\n",
              "                                                     [key], {});\n",
              "          if (!dataTable) return;\n",
              "\n",
              "          const docLinkHtml = 'Like what you see? Visit the ' +\n",
              "            '<a target=\"_blank\" href=https://colab.research.google.com/notebooks/data_table.ipynb>data table notebook</a>'\n",
              "            + ' to learn more about interactive tables.';\n",
              "          element.innerHTML = '';\n",
              "          dataTable['output_type'] = 'display_data';\n",
              "          await google.colab.output.renderOutput(dataTable, element);\n",
              "          const docLink = document.createElement('div');\n",
              "          docLink.innerHTML = docLinkHtml;\n",
              "          element.appendChild(docLink);\n",
              "        }\n",
              "      </script>\n",
              "    </div>\n",
              "  </div>\n",
              "  "
            ],
            "text/plain": [
              "                                                 title  ...                                               body\n",
              "0     Minecraft Java Edition 1.18.1 has been released!  ...  We’re now releasing Minecraft: Java Edition 1....\n",
              "1    Minecraft Bi-Weekly Build Challenge #139: Ski ...  ...  #**[LAST WEEK'S THEME: WATERMILL](https://www....\n",
              "2    I found this cool visual trick with spectator ...  ...                                                   \n",
              "3                Why did all my villagers disappear!??  ...                                                   \n",
              "4          I made Minecraft parkour that builds itself  ...                                                   \n",
              "..                                                 ...  ...                                                ...\n",
              "858  Why does this keep happening?? Dirt keeps form...  ...                                                   \n",
              "859  What should I build on this platform in the ci...  ...                                                   \n",
              "860  Minecraft won’t install even though I’m connec...  ...                                                   \n",
              "861                             Finding end stronghold  ...  So today a friend and I were looking for the e...\n",
              "862                                         I found it  ...                                                   \n",
              "\n",
              "[863 rows x 8 columns]"
            ]
          },
          "metadata": {},
          "execution_count": 8
        }
      ]
    },
    {
      "cell_type": "code",
      "metadata": {
        "id": "o4X82Ley9iM_"
      },
      "source": [
        "mine.to_csv(\"mine_reddit_31DEC2021.csv\", index=False)"
      ],
      "execution_count": null,
      "outputs": []
    },
    {
      "cell_type": "code",
      "metadata": {
        "id": "IMtLCxyU9pzg"
      },
      "source": [
        "mine=pd.read_csv(\"nlp_reddit2.csv\")"
      ],
      "execution_count": null,
      "outputs": []
    },
    {
      "cell_type": "code",
      "metadata": {
        "colab": {
          "base_uri": "https://localhost:8080/",
          "height": 612
        },
        "id": "OBbMiPXp9t-9",
        "outputId": "a4bfd146-f439-44c7-8adc-3ed48b430ba6"
      },
      "source": [
        "mine"
      ],
      "execution_count": null,
      "outputs": [
        {
          "output_type": "execute_result",
          "data": {
            "text/html": [
              "\n",
              "  <div id=\"df-23753e48-af94-46a4-8504-f61fd7bbd4fb\">\n",
              "    <div class=\"colab-df-container\">\n",
              "      <div>\n",
              "<style scoped>\n",
              "    .dataframe tbody tr th:only-of-type {\n",
              "        vertical-align: middle;\n",
              "    }\n",
              "\n",
              "    .dataframe tbody tr th {\n",
              "        vertical-align: top;\n",
              "    }\n",
              "\n",
              "    .dataframe thead th {\n",
              "        text-align: right;\n",
              "    }\n",
              "</style>\n",
              "<table border=\"1\" class=\"dataframe\">\n",
              "  <thead>\n",
              "    <tr style=\"text-align: right;\">\n",
              "      <th></th>\n",
              "      <th>title</th>\n",
              "      <th>subreddit</th>\n",
              "      <th>score</th>\n",
              "      <th>id</th>\n",
              "      <th>url</th>\n",
              "      <th>comms_num</th>\n",
              "      <th>created</th>\n",
              "      <th>body</th>\n",
              "    </tr>\n",
              "  </thead>\n",
              "  <tbody>\n",
              "    <tr>\n",
              "      <th>0</th>\n",
              "      <td>This subreddit is about the PSYCHOLOGICAL TECH...</td>\n",
              "      <td>NLP</td>\n",
              "      <td>59</td>\n",
              "      <td>lfhuhu</td>\n",
              "      <td>https://www.reddit.com/r/NLP/comments/lfhuhu/t...</td>\n",
              "      <td>15</td>\n",
              "      <td>1.612808e+09</td>\n",
              "      <td>Are you interested in Natural Language Process...</td>\n",
              "    </tr>\n",
              "    <tr>\n",
              "      <th>1</th>\n",
              "      <td>Self-Promotion Thread | October — December 2021</td>\n",
              "      <td>NLP</td>\n",
              "      <td>3</td>\n",
              "      <td>pz3cv2</td>\n",
              "      <td>https://www.reddit.com/r/NLP/comments/pz3cv2/s...</td>\n",
              "      <td>2</td>\n",
              "      <td>1.633075e+09</td>\n",
              "      <td>This post is for any and all self-promotional ...</td>\n",
              "    </tr>\n",
              "    <tr>\n",
              "      <th>2</th>\n",
              "      <td>[Anchoring] Examples of « Feeling Powerful » m...</td>\n",
              "      <td>NLP</td>\n",
              "      <td>3</td>\n",
              "      <td>rqpslg</td>\n",
              "      <td>https://www.reddit.com/r/NLP/comments/rqpslg/a...</td>\n",
              "      <td>3</td>\n",
              "      <td>1.640726e+09</td>\n",
              "      <td>In the process of anchoring, it can be hard fo...</td>\n",
              "    </tr>\n",
              "    <tr>\n",
              "      <th>3</th>\n",
              "      <td>Just sold 7/8 of my NLP and personal developme...</td>\n",
              "      <td>NLP</td>\n",
              "      <td>11</td>\n",
              "      <td>rpn2dz</td>\n",
              "      <td>https://www.reddit.com/r/NLP/comments/rpn2dz/j...</td>\n",
              "      <td>4</td>\n",
              "      <td>1.640610e+09</td>\n",
              "      <td>Have you had a similar experience?\\n\\nI know e...</td>\n",
              "    </tr>\n",
              "    <tr>\n",
              "      <th>4</th>\n",
              "      <td>Just for fun....</td>\n",
              "      <td>NLP</td>\n",
              "      <td>2</td>\n",
              "      <td>rplcsj</td>\n",
              "      <td>https://www.youtube.com/watch?v=xnSq6rFSucw</td>\n",
              "      <td>4</td>\n",
              "      <td>1.640604e+09</td>\n",
              "      <td>NaN</td>\n",
              "    </tr>\n",
              "    <tr>\n",
              "      <th>...</th>\n",
              "      <td>...</td>\n",
              "      <td>...</td>\n",
              "      <td>...</td>\n",
              "      <td>...</td>\n",
              "      <td>...</td>\n",
              "      <td>...</td>\n",
              "      <td>...</td>\n",
              "      <td>...</td>\n",
              "    </tr>\n",
              "    <tr>\n",
              "      <th>974</th>\n",
              "      <td>HOW TO LET GO OF A TOXIC PERSON | SITUATION | ...</td>\n",
              "      <td>NLP</td>\n",
              "      <td>2</td>\n",
              "      <td>8ffumg</td>\n",
              "      <td>https://www.youtube.com/attribution_link?a=uK5...</td>\n",
              "      <td>1</td>\n",
              "      <td>1.524871e+09</td>\n",
              "      <td>NaN</td>\n",
              "    </tr>\n",
              "    <tr>\n",
              "      <th>975</th>\n",
              "      <td>HOW TO BECOME MORE PERSUASIVE | INFLUENTIAL | ...</td>\n",
              "      <td>NLP</td>\n",
              "      <td>2</td>\n",
              "      <td>8exalt</td>\n",
              "      <td>https://www.youtube.com/attribution_link?a=YzN...</td>\n",
              "      <td>1</td>\n",
              "      <td>1.524692e+09</td>\n",
              "      <td>NaN</td>\n",
              "    </tr>\n",
              "    <tr>\n",
              "      <th>976</th>\n",
              "      <td>Looking for a Discord server on NLP</td>\n",
              "      <td>NLP</td>\n",
              "      <td>3</td>\n",
              "      <td>8evgge</td>\n",
              "      <td>https://www.reddit.com/r/NLP/comments/8evgge/l...</td>\n",
              "      <td>3</td>\n",
              "      <td>1.524678e+09</td>\n",
              "      <td>Does anyone know of a NLP focused discord server?</td>\n",
              "    </tr>\n",
              "    <tr>\n",
              "      <th>977</th>\n",
              "      <td>WHAT INSPIRES US? | MIRROR NEURONS | PATTERN &amp;...</td>\n",
              "      <td>NLP</td>\n",
              "      <td>3</td>\n",
              "      <td>8epxpm</td>\n",
              "      <td>https://www.youtube.com/attribution_link?a=HTo...</td>\n",
              "      <td>3</td>\n",
              "      <td>1.524621e+09</td>\n",
              "      <td>NaN</td>\n",
              "    </tr>\n",
              "    <tr>\n",
              "      <th>978</th>\n",
              "      <td>MIRROR TECHNIQUE | HOW TO BREAK SUBSTANCE ABUS...</td>\n",
              "      <td>NLP</td>\n",
              "      <td>2</td>\n",
              "      <td>8ek1df</td>\n",
              "      <td>https://www.youtube.com/attribution_link?a=QyX...</td>\n",
              "      <td>1</td>\n",
              "      <td>1.524573e+09</td>\n",
              "      <td>NaN</td>\n",
              "    </tr>\n",
              "  </tbody>\n",
              "</table>\n",
              "<p>979 rows × 8 columns</p>\n",
              "</div>\n",
              "      <button class=\"colab-df-convert\" onclick=\"convertToInteractive('df-23753e48-af94-46a4-8504-f61fd7bbd4fb')\"\n",
              "              title=\"Convert this dataframe to an interactive table.\"\n",
              "              style=\"display:none;\">\n",
              "        \n",
              "  <svg xmlns=\"http://www.w3.org/2000/svg\" height=\"24px\"viewBox=\"0 0 24 24\"\n",
              "       width=\"24px\">\n",
              "    <path d=\"M0 0h24v24H0V0z\" fill=\"none\"/>\n",
              "    <path d=\"M18.56 5.44l.94 2.06.94-2.06 2.06-.94-2.06-.94-.94-2.06-.94 2.06-2.06.94zm-11 1L8.5 8.5l.94-2.06 2.06-.94-2.06-.94L8.5 2.5l-.94 2.06-2.06.94zm10 10l.94 2.06.94-2.06 2.06-.94-2.06-.94-.94-2.06-.94 2.06-2.06.94z\"/><path d=\"M17.41 7.96l-1.37-1.37c-.4-.4-.92-.59-1.43-.59-.52 0-1.04.2-1.43.59L10.3 9.45l-7.72 7.72c-.78.78-.78 2.05 0 2.83L4 21.41c.39.39.9.59 1.41.59.51 0 1.02-.2 1.41-.59l7.78-7.78 2.81-2.81c.8-.78.8-2.07 0-2.86zM5.41 20L4 18.59l7.72-7.72 1.47 1.35L5.41 20z\"/>\n",
              "  </svg>\n",
              "      </button>\n",
              "      \n",
              "  <style>\n",
              "    .colab-df-container {\n",
              "      display:flex;\n",
              "      flex-wrap:wrap;\n",
              "      gap: 12px;\n",
              "    }\n",
              "\n",
              "    .colab-df-convert {\n",
              "      background-color: #E8F0FE;\n",
              "      border: none;\n",
              "      border-radius: 50%;\n",
              "      cursor: pointer;\n",
              "      display: none;\n",
              "      fill: #1967D2;\n",
              "      height: 32px;\n",
              "      padding: 0 0 0 0;\n",
              "      width: 32px;\n",
              "    }\n",
              "\n",
              "    .colab-df-convert:hover {\n",
              "      background-color: #E2EBFA;\n",
              "      box-shadow: 0px 1px 2px rgba(60, 64, 67, 0.3), 0px 1px 3px 1px rgba(60, 64, 67, 0.15);\n",
              "      fill: #174EA6;\n",
              "    }\n",
              "\n",
              "    [theme=dark] .colab-df-convert {\n",
              "      background-color: #3B4455;\n",
              "      fill: #D2E3FC;\n",
              "    }\n",
              "\n",
              "    [theme=dark] .colab-df-convert:hover {\n",
              "      background-color: #434B5C;\n",
              "      box-shadow: 0px 1px 3px 1px rgba(0, 0, 0, 0.15);\n",
              "      filter: drop-shadow(0px 1px 2px rgba(0, 0, 0, 0.3));\n",
              "      fill: #FFFFFF;\n",
              "    }\n",
              "  </style>\n",
              "\n",
              "      <script>\n",
              "        const buttonEl =\n",
              "          document.querySelector('#df-23753e48-af94-46a4-8504-f61fd7bbd4fb button.colab-df-convert');\n",
              "        buttonEl.style.display =\n",
              "          google.colab.kernel.accessAllowed ? 'block' : 'none';\n",
              "\n",
              "        async function convertToInteractive(key) {\n",
              "          const element = document.querySelector('#df-23753e48-af94-46a4-8504-f61fd7bbd4fb');\n",
              "          const dataTable =\n",
              "            await google.colab.kernel.invokeFunction('convertToInteractive',\n",
              "                                                     [key], {});\n",
              "          if (!dataTable) return;\n",
              "\n",
              "          const docLinkHtml = 'Like what you see? Visit the ' +\n",
              "            '<a target=\"_blank\" href=https://colab.research.google.com/notebooks/data_table.ipynb>data table notebook</a>'\n",
              "            + ' to learn more about interactive tables.';\n",
              "          element.innerHTML = '';\n",
              "          dataTable['output_type'] = 'display_data';\n",
              "          await google.colab.output.renderOutput(dataTable, element);\n",
              "          const docLink = document.createElement('div');\n",
              "          docLink.innerHTML = docLinkHtml;\n",
              "          element.appendChild(docLink);\n",
              "        }\n",
              "      </script>\n",
              "    </div>\n",
              "  </div>\n",
              "  "
            ],
            "text/plain": [
              "                                                 title  ...                                               body\n",
              "0    This subreddit is about the PSYCHOLOGICAL TECH...  ...  Are you interested in Natural Language Process...\n",
              "1      Self-Promotion Thread | October — December 2021  ...  This post is for any and all self-promotional ...\n",
              "2    [Anchoring] Examples of « Feeling Powerful » m...  ...  In the process of anchoring, it can be hard fo...\n",
              "3    Just sold 7/8 of my NLP and personal developme...  ...  Have you had a similar experience?\\n\\nI know e...\n",
              "4                                     Just for fun....  ...                                                NaN\n",
              "..                                                 ...  ...                                                ...\n",
              "974  HOW TO LET GO OF A TOXIC PERSON | SITUATION | ...  ...                                                NaN\n",
              "975  HOW TO BECOME MORE PERSUASIVE | INFLUENTIAL | ...  ...                                                NaN\n",
              "976                Looking for a Discord server on NLP  ...  Does anyone know of a NLP focused discord server?\n",
              "977  WHAT INSPIRES US? | MIRROR NEURONS | PATTERN &...  ...                                                NaN\n",
              "978  MIRROR TECHNIQUE | HOW TO BREAK SUBSTANCE ABUS...  ...                                                NaN\n",
              "\n",
              "[979 rows x 8 columns]"
            ]
          },
          "metadata": {},
          "execution_count": 71
        }
      ]
    },
    {
      "cell_type": "code",
      "metadata": {
        "id": "4dZ3MheO9utS",
        "colab": {
          "base_uri": "https://localhost:8080/",
          "height": 35
        },
        "outputId": "3666549a-2679-4635-da7a-5ac79d19ba19"
      },
      "source": [
        "list(mine.title)[200]"
      ],
      "execution_count": null,
      "outputs": [
        {
          "output_type": "execute_result",
          "data": {
            "application/vnd.google.colaboratory.intrinsic+json": {
              "type": "string"
            },
            "text/plain": [
              "'Would love to hear your success stories.'"
            ]
          },
          "metadata": {},
          "execution_count": 72
        }
      ]
    },
    {
      "cell_type": "code",
      "metadata": {
        "id": "XsZxceyJ-G2V",
        "colab": {
          "base_uri": "https://localhost:8080/",
          "height": 35
        },
        "outputId": "8e4f1658-0653-42d1-d342-43ae2e90a20a"
      },
      "source": [
        "list(mine.body)[200]"
      ],
      "execution_count": null,
      "outputs": [
        {
          "output_type": "execute_result",
          "data": {
            "application/vnd.google.colaboratory.intrinsic+json": {
              "type": "string"
            },
            "text/plain": [
              "'As the title says, I really want to hear from real people out there who did a 180 of their life by using NLP principles.'"
            ]
          },
          "metadata": {},
          "execution_count": 73
        }
      ]
    },
    {
      "cell_type": "code",
      "source": [
        "mine2=mine[mine.body.isnull()==False]"
      ],
      "metadata": {
        "id": "msAeh4f8mDxb"
      },
      "execution_count": null,
      "outputs": []
    },
    {
      "cell_type": "code",
      "source": [
        "mine3=mine2[mine2.body.apply(lambda x: len(x)>2)]"
      ],
      "metadata": {
        "id": "B06wtctfmf-l"
      },
      "execution_count": null,
      "outputs": []
    },
    {
      "cell_type": "code",
      "source": [
        "mine3.shape"
      ],
      "metadata": {
        "colab": {
          "base_uri": "https://localhost:8080/"
        },
        "id": "BhMpLGE8zL_Y",
        "outputId": "a8e462db-e8cf-4411-cf47-8393f2e7a9d6"
      },
      "execution_count": null,
      "outputs": [
        {
          "output_type": "execute_result",
          "data": {
            "text/plain": [
              "(444, 8)"
            ]
          },
          "metadata": {},
          "execution_count": 76
        }
      ]
    },
    {
      "cell_type": "code",
      "source": [
        "mine3"
      ],
      "metadata": {
        "colab": {
          "base_uri": "https://localhost:8080/",
          "height": 629
        },
        "id": "-VLVr7I3zz6J",
        "outputId": "c39be855-2a7f-46ac-fabe-83390d786e0a"
      },
      "execution_count": null,
      "outputs": [
        {
          "output_type": "execute_result",
          "data": {
            "text/html": [
              "\n",
              "  <div id=\"df-b9f604ea-096e-48a3-923e-9fbd517c7029\">\n",
              "    <div class=\"colab-df-container\">\n",
              "      <div>\n",
              "<style scoped>\n",
              "    .dataframe tbody tr th:only-of-type {\n",
              "        vertical-align: middle;\n",
              "    }\n",
              "\n",
              "    .dataframe tbody tr th {\n",
              "        vertical-align: top;\n",
              "    }\n",
              "\n",
              "    .dataframe thead th {\n",
              "        text-align: right;\n",
              "    }\n",
              "</style>\n",
              "<table border=\"1\" class=\"dataframe\">\n",
              "  <thead>\n",
              "    <tr style=\"text-align: right;\">\n",
              "      <th></th>\n",
              "      <th>title</th>\n",
              "      <th>subreddit</th>\n",
              "      <th>score</th>\n",
              "      <th>id</th>\n",
              "      <th>url</th>\n",
              "      <th>comms_num</th>\n",
              "      <th>created</th>\n",
              "      <th>body</th>\n",
              "    </tr>\n",
              "  </thead>\n",
              "  <tbody>\n",
              "    <tr>\n",
              "      <th>0</th>\n",
              "      <td>This subreddit is about the PSYCHOLOGICAL TECH...</td>\n",
              "      <td>NLP</td>\n",
              "      <td>59</td>\n",
              "      <td>lfhuhu</td>\n",
              "      <td>https://www.reddit.com/r/NLP/comments/lfhuhu/t...</td>\n",
              "      <td>15</td>\n",
              "      <td>1.612808e+09</td>\n",
              "      <td>Are you interested in Natural Language Process...</td>\n",
              "    </tr>\n",
              "    <tr>\n",
              "      <th>1</th>\n",
              "      <td>Self-Promotion Thread | October — December 2021</td>\n",
              "      <td>NLP</td>\n",
              "      <td>3</td>\n",
              "      <td>pz3cv2</td>\n",
              "      <td>https://www.reddit.com/r/NLP/comments/pz3cv2/s...</td>\n",
              "      <td>2</td>\n",
              "      <td>1.633075e+09</td>\n",
              "      <td>This post is for any and all self-promotional ...</td>\n",
              "    </tr>\n",
              "    <tr>\n",
              "      <th>2</th>\n",
              "      <td>[Anchoring] Examples of « Feeling Powerful » m...</td>\n",
              "      <td>NLP</td>\n",
              "      <td>3</td>\n",
              "      <td>rqpslg</td>\n",
              "      <td>https://www.reddit.com/r/NLP/comments/rqpslg/a...</td>\n",
              "      <td>3</td>\n",
              "      <td>1.640726e+09</td>\n",
              "      <td>In the process of anchoring, it can be hard fo...</td>\n",
              "    </tr>\n",
              "    <tr>\n",
              "      <th>3</th>\n",
              "      <td>Just sold 7/8 of my NLP and personal developme...</td>\n",
              "      <td>NLP</td>\n",
              "      <td>11</td>\n",
              "      <td>rpn2dz</td>\n",
              "      <td>https://www.reddit.com/r/NLP/comments/rpn2dz/j...</td>\n",
              "      <td>4</td>\n",
              "      <td>1.640610e+09</td>\n",
              "      <td>Have you had a similar experience?\\n\\nI know e...</td>\n",
              "    </tr>\n",
              "    <tr>\n",
              "      <th>5</th>\n",
              "      <td>Best youtube channels to learn NLP Techniques</td>\n",
              "      <td>NLP</td>\n",
              "      <td>10</td>\n",
              "      <td>rot6xl</td>\n",
              "      <td>https://www.reddit.com/r/NLP/comments/rot6xl/b...</td>\n",
              "      <td>4</td>\n",
              "      <td>1.640509e+09</td>\n",
              "      <td>Hi everyone!\\n\\n&amp;#x200B;\\n\\nIm interessted in ...</td>\n",
              "    </tr>\n",
              "    <tr>\n",
              "      <th>...</th>\n",
              "      <td>...</td>\n",
              "      <td>...</td>\n",
              "      <td>...</td>\n",
              "      <td>...</td>\n",
              "      <td>...</td>\n",
              "      <td>...</td>\n",
              "      <td>...</td>\n",
              "      <td>...</td>\n",
              "    </tr>\n",
              "    <tr>\n",
              "      <th>967</th>\n",
              "      <td>HOW TO DEAL WITH A BULLY | NLP REFRAME</td>\n",
              "      <td>NLP</td>\n",
              "      <td>0</td>\n",
              "      <td>8hbnj2</td>\n",
              "      <td>https://www.reddit.com/r/NLP/comments/8hbnj2/h...</td>\n",
              "      <td>0</td>\n",
              "      <td>1.525567e+09</td>\n",
              "      <td>\\*\\*\\*Scroll to Bottom for Video\\*\\*\\*\\n\\n**HO...</td>\n",
              "    </tr>\n",
              "    <tr>\n",
              "      <th>968</th>\n",
              "      <td>NLP Anchoring and drugs</td>\n",
              "      <td>NLP</td>\n",
              "      <td>5</td>\n",
              "      <td>8h8fx0</td>\n",
              "      <td>https://www.reddit.com/r/NLP/comments/8h8fx0/n...</td>\n",
              "      <td>5</td>\n",
              "      <td>1.525536e+09</td>\n",
              "      <td>*First and foremost, I would like to state tha...</td>\n",
              "    </tr>\n",
              "    <tr>\n",
              "      <th>972</th>\n",
              "      <td>Help with embedded commands please</td>\n",
              "      <td>NLP</td>\n",
              "      <td>3</td>\n",
              "      <td>8gmwf0</td>\n",
              "      <td>https://www.reddit.com/r/NLP/comments/8gmwf0/h...</td>\n",
              "      <td>8</td>\n",
              "      <td>1.525313e+09</td>\n",
              "      <td>I know the theory of how they work. I tried it...</td>\n",
              "    </tr>\n",
              "    <tr>\n",
              "      <th>973</th>\n",
              "      <td>NLP in New York</td>\n",
              "      <td>NLP</td>\n",
              "      <td>3</td>\n",
              "      <td>8fqxkb</td>\n",
              "      <td>https://www.reddit.com/r/NLP/comments/8fqxkb/n...</td>\n",
              "      <td>5</td>\n",
              "      <td>1.525003e+09</td>\n",
              "      <td>I’m fascinated with NLP and am looking for a q...</td>\n",
              "    </tr>\n",
              "    <tr>\n",
              "      <th>976</th>\n",
              "      <td>Looking for a Discord server on NLP</td>\n",
              "      <td>NLP</td>\n",
              "      <td>3</td>\n",
              "      <td>8evgge</td>\n",
              "      <td>https://www.reddit.com/r/NLP/comments/8evgge/l...</td>\n",
              "      <td>3</td>\n",
              "      <td>1.524678e+09</td>\n",
              "      <td>Does anyone know of a NLP focused discord server?</td>\n",
              "    </tr>\n",
              "  </tbody>\n",
              "</table>\n",
              "<p>444 rows × 8 columns</p>\n",
              "</div>\n",
              "      <button class=\"colab-df-convert\" onclick=\"convertToInteractive('df-b9f604ea-096e-48a3-923e-9fbd517c7029')\"\n",
              "              title=\"Convert this dataframe to an interactive table.\"\n",
              "              style=\"display:none;\">\n",
              "        \n",
              "  <svg xmlns=\"http://www.w3.org/2000/svg\" height=\"24px\"viewBox=\"0 0 24 24\"\n",
              "       width=\"24px\">\n",
              "    <path d=\"M0 0h24v24H0V0z\" fill=\"none\"/>\n",
              "    <path d=\"M18.56 5.44l.94 2.06.94-2.06 2.06-.94-2.06-.94-.94-2.06-.94 2.06-2.06.94zm-11 1L8.5 8.5l.94-2.06 2.06-.94-2.06-.94L8.5 2.5l-.94 2.06-2.06.94zm10 10l.94 2.06.94-2.06 2.06-.94-2.06-.94-.94-2.06-.94 2.06-2.06.94z\"/><path d=\"M17.41 7.96l-1.37-1.37c-.4-.4-.92-.59-1.43-.59-.52 0-1.04.2-1.43.59L10.3 9.45l-7.72 7.72c-.78.78-.78 2.05 0 2.83L4 21.41c.39.39.9.59 1.41.59.51 0 1.02-.2 1.41-.59l7.78-7.78 2.81-2.81c.8-.78.8-2.07 0-2.86zM5.41 20L4 18.59l7.72-7.72 1.47 1.35L5.41 20z\"/>\n",
              "  </svg>\n",
              "      </button>\n",
              "      \n",
              "  <style>\n",
              "    .colab-df-container {\n",
              "      display:flex;\n",
              "      flex-wrap:wrap;\n",
              "      gap: 12px;\n",
              "    }\n",
              "\n",
              "    .colab-df-convert {\n",
              "      background-color: #E8F0FE;\n",
              "      border: none;\n",
              "      border-radius: 50%;\n",
              "      cursor: pointer;\n",
              "      display: none;\n",
              "      fill: #1967D2;\n",
              "      height: 32px;\n",
              "      padding: 0 0 0 0;\n",
              "      width: 32px;\n",
              "    }\n",
              "\n",
              "    .colab-df-convert:hover {\n",
              "      background-color: #E2EBFA;\n",
              "      box-shadow: 0px 1px 2px rgba(60, 64, 67, 0.3), 0px 1px 3px 1px rgba(60, 64, 67, 0.15);\n",
              "      fill: #174EA6;\n",
              "    }\n",
              "\n",
              "    [theme=dark] .colab-df-convert {\n",
              "      background-color: #3B4455;\n",
              "      fill: #D2E3FC;\n",
              "    }\n",
              "\n",
              "    [theme=dark] .colab-df-convert:hover {\n",
              "      background-color: #434B5C;\n",
              "      box-shadow: 0px 1px 3px 1px rgba(0, 0, 0, 0.15);\n",
              "      filter: drop-shadow(0px 1px 2px rgba(0, 0, 0, 0.3));\n",
              "      fill: #FFFFFF;\n",
              "    }\n",
              "  </style>\n",
              "\n",
              "      <script>\n",
              "        const buttonEl =\n",
              "          document.querySelector('#df-b9f604ea-096e-48a3-923e-9fbd517c7029 button.colab-df-convert');\n",
              "        buttonEl.style.display =\n",
              "          google.colab.kernel.accessAllowed ? 'block' : 'none';\n",
              "\n",
              "        async function convertToInteractive(key) {\n",
              "          const element = document.querySelector('#df-b9f604ea-096e-48a3-923e-9fbd517c7029');\n",
              "          const dataTable =\n",
              "            await google.colab.kernel.invokeFunction('convertToInteractive',\n",
              "                                                     [key], {});\n",
              "          if (!dataTable) return;\n",
              "\n",
              "          const docLinkHtml = 'Like what you see? Visit the ' +\n",
              "            '<a target=\"_blank\" href=https://colab.research.google.com/notebooks/data_table.ipynb>data table notebook</a>'\n",
              "            + ' to learn more about interactive tables.';\n",
              "          element.innerHTML = '';\n",
              "          dataTable['output_type'] = 'display_data';\n",
              "          await google.colab.output.renderOutput(dataTable, element);\n",
              "          const docLink = document.createElement('div');\n",
              "          docLink.innerHTML = docLinkHtml;\n",
              "          element.appendChild(docLink);\n",
              "        }\n",
              "      </script>\n",
              "    </div>\n",
              "  </div>\n",
              "  "
            ],
            "text/plain": [
              "                                                 title  ...                                               body\n",
              "0    This subreddit is about the PSYCHOLOGICAL TECH...  ...  Are you interested in Natural Language Process...\n",
              "1      Self-Promotion Thread | October — December 2021  ...  This post is for any and all self-promotional ...\n",
              "2    [Anchoring] Examples of « Feeling Powerful » m...  ...  In the process of anchoring, it can be hard fo...\n",
              "3    Just sold 7/8 of my NLP and personal developme...  ...  Have you had a similar experience?\\n\\nI know e...\n",
              "5        Best youtube channels to learn NLP Techniques  ...  Hi everyone!\\n\\n&#x200B;\\n\\nIm interessted in ...\n",
              "..                                                 ...  ...                                                ...\n",
              "967             HOW TO DEAL WITH A BULLY | NLP REFRAME  ...  \\*\\*\\*Scroll to Bottom for Video\\*\\*\\*\\n\\n**HO...\n",
              "968                            NLP Anchoring and drugs  ...  *First and foremost, I would like to state tha...\n",
              "972                 Help with embedded commands please  ...  I know the theory of how they work. I tried it...\n",
              "973                                    NLP in New York  ...  I’m fascinated with NLP and am looking for a q...\n",
              "976                Looking for a Discord server on NLP  ...  Does anyone know of a NLP focused discord server?\n",
              "\n",
              "[444 rows x 8 columns]"
            ]
          },
          "metadata": {},
          "execution_count": 77
        }
      ]
    },
    {
      "cell_type": "code",
      "source": [
        "pip install -U sentence-transformers"
      ],
      "metadata": {
        "colab": {
          "base_uri": "https://localhost:8080/"
        },
        "id": "cEakGJoJm2OV",
        "outputId": "28fb2be4-b382-4d38-cbf8-1d3a678d84e5"
      },
      "execution_count": null,
      "outputs": [
        {
          "output_type": "stream",
          "name": "stdout",
          "text": [
            "Collecting sentence-transformers\n",
            "  Downloading sentence-transformers-2.1.0.tar.gz (78 kB)\n",
            "\u001b[K     |████████████████████████████████| 78 kB 4.5 MB/s \n",
            "\u001b[?25hCollecting transformers<5.0.0,>=4.6.0\n",
            "  Downloading transformers-4.15.0-py3-none-any.whl (3.4 MB)\n",
            "\u001b[K     |████████████████████████████████| 3.4 MB 16.0 MB/s \n",
            "\u001b[?25hCollecting tokenizers>=0.10.3\n",
            "  Downloading tokenizers-0.11.1-cp37-cp37m-manylinux_2_12_x86_64.manylinux2010_x86_64.whl (6.8 MB)\n",
            "\u001b[K     |████████████████████████████████| 6.8 MB 51.3 MB/s \n",
            "\u001b[?25hRequirement already satisfied: tqdm in /usr/local/lib/python3.7/dist-packages (from sentence-transformers) (4.62.3)\n",
            "Requirement already satisfied: torch>=1.6.0 in /usr/local/lib/python3.7/dist-packages (from sentence-transformers) (1.10.0+cu111)\n",
            "Requirement already satisfied: torchvision in /usr/local/lib/python3.7/dist-packages (from sentence-transformers) (0.11.1+cu111)\n",
            "Requirement already satisfied: numpy in /usr/local/lib/python3.7/dist-packages (from sentence-transformers) (1.19.5)\n",
            "Requirement already satisfied: scikit-learn in /usr/local/lib/python3.7/dist-packages (from sentence-transformers) (1.0.1)\n",
            "Requirement already satisfied: scipy in /usr/local/lib/python3.7/dist-packages (from sentence-transformers) (1.4.1)\n",
            "Requirement already satisfied: nltk in /usr/local/lib/python3.7/dist-packages (from sentence-transformers) (3.2.5)\n",
            "Collecting sentencepiece\n",
            "  Downloading sentencepiece-0.1.96-cp37-cp37m-manylinux_2_17_x86_64.manylinux2014_x86_64.whl (1.2 MB)\n",
            "\u001b[K     |████████████████████████████████| 1.2 MB 55.0 MB/s \n",
            "\u001b[?25hCollecting huggingface-hub\n",
            "  Downloading huggingface_hub-0.2.1-py3-none-any.whl (61 kB)\n",
            "\u001b[K     |████████████████████████████████| 61 kB 581 kB/s \n",
            "\u001b[?25hRequirement already satisfied: typing-extensions in /usr/local/lib/python3.7/dist-packages (from torch>=1.6.0->sentence-transformers) (3.10.0.2)\n",
            "Collecting pyyaml>=5.1\n",
            "  Downloading PyYAML-6.0-cp37-cp37m-manylinux_2_5_x86_64.manylinux1_x86_64.manylinux_2_12_x86_64.manylinux2010_x86_64.whl (596 kB)\n",
            "\u001b[K     |████████████████████████████████| 596 kB 74.3 MB/s \n",
            "\u001b[?25hCollecting sacremoses\n",
            "  Downloading sacremoses-0.0.46-py3-none-any.whl (895 kB)\n",
            "\u001b[K     |████████████████████████████████| 895 kB 65.0 MB/s \n",
            "\u001b[?25hRequirement already satisfied: requests in /usr/local/lib/python3.7/dist-packages (from transformers<5.0.0,>=4.6.0->sentence-transformers) (2.23.0)\n",
            "Requirement already satisfied: importlib-metadata in /usr/local/lib/python3.7/dist-packages (from transformers<5.0.0,>=4.6.0->sentence-transformers) (4.8.2)\n",
            "Collecting tokenizers>=0.10.3\n",
            "  Downloading tokenizers-0.10.3-cp37-cp37m-manylinux_2_5_x86_64.manylinux1_x86_64.manylinux_2_12_x86_64.manylinux2010_x86_64.whl (3.3 MB)\n",
            "\u001b[K     |████████████████████████████████| 3.3 MB 42.2 MB/s \n",
            "\u001b[?25hRequirement already satisfied: filelock in /usr/local/lib/python3.7/dist-packages (from transformers<5.0.0,>=4.6.0->sentence-transformers) (3.4.0)\n",
            "Requirement already satisfied: regex!=2019.12.17 in /usr/local/lib/python3.7/dist-packages (from transformers<5.0.0,>=4.6.0->sentence-transformers) (2019.12.20)\n",
            "Requirement already satisfied: packaging>=20.0 in /usr/local/lib/python3.7/dist-packages (from transformers<5.0.0,>=4.6.0->sentence-transformers) (21.3)\n",
            "Requirement already satisfied: pyparsing!=3.0.5,>=2.0.2 in /usr/local/lib/python3.7/dist-packages (from packaging>=20.0->transformers<5.0.0,>=4.6.0->sentence-transformers) (3.0.6)\n",
            "Requirement already satisfied: zipp>=0.5 in /usr/local/lib/python3.7/dist-packages (from importlib-metadata->transformers<5.0.0,>=4.6.0->sentence-transformers) (3.6.0)\n",
            "Requirement already satisfied: six in /usr/local/lib/python3.7/dist-packages (from nltk->sentence-transformers) (1.15.0)\n",
            "Requirement already satisfied: idna<3,>=2.5 in /usr/local/lib/python3.7/dist-packages (from requests->transformers<5.0.0,>=4.6.0->sentence-transformers) (2.10)\n",
            "Requirement already satisfied: certifi>=2017.4.17 in /usr/local/lib/python3.7/dist-packages (from requests->transformers<5.0.0,>=4.6.0->sentence-transformers) (2021.10.8)\n",
            "Requirement already satisfied: urllib3!=1.25.0,!=1.25.1,<1.26,>=1.21.1 in /usr/local/lib/python3.7/dist-packages (from requests->transformers<5.0.0,>=4.6.0->sentence-transformers) (1.24.3)\n",
            "Requirement already satisfied: chardet<4,>=3.0.2 in /usr/local/lib/python3.7/dist-packages (from requests->transformers<5.0.0,>=4.6.0->sentence-transformers) (3.0.4)\n",
            "Requirement already satisfied: joblib in /usr/local/lib/python3.7/dist-packages (from sacremoses->transformers<5.0.0,>=4.6.0->sentence-transformers) (1.1.0)\n",
            "Requirement already satisfied: click in /usr/local/lib/python3.7/dist-packages (from sacremoses->transformers<5.0.0,>=4.6.0->sentence-transformers) (7.1.2)\n",
            "Requirement already satisfied: threadpoolctl>=2.0.0 in /usr/local/lib/python3.7/dist-packages (from scikit-learn->sentence-transformers) (3.0.0)\n",
            "Requirement already satisfied: pillow!=8.3.0,>=5.3.0 in /usr/local/lib/python3.7/dist-packages (from torchvision->sentence-transformers) (7.1.2)\n",
            "Building wheels for collected packages: sentence-transformers\n",
            "  Building wheel for sentence-transformers (setup.py) ... \u001b[?25l\u001b[?25hdone\n",
            "  Created wheel for sentence-transformers: filename=sentence_transformers-2.1.0-py3-none-any.whl size=121000 sha256=925731c8014245ddf12473b5596b8bc66499de1d1ae0ad646a28992a69c51cbf\n",
            "  Stored in directory: /root/.cache/pip/wheels/90/f0/bb/ed1add84da70092ea526466eadc2bfb197c4bcb8d4fa5f7bad\n",
            "Successfully built sentence-transformers\n",
            "Installing collected packages: pyyaml, tokenizers, sacremoses, huggingface-hub, transformers, sentencepiece, sentence-transformers\n",
            "  Attempting uninstall: pyyaml\n",
            "    Found existing installation: PyYAML 3.13\n",
            "    Uninstalling PyYAML-3.13:\n",
            "      Successfully uninstalled PyYAML-3.13\n",
            "Successfully installed huggingface-hub-0.2.1 pyyaml-6.0 sacremoses-0.0.46 sentence-transformers-2.1.0 sentencepiece-0.1.96 tokenizers-0.10.3 transformers-4.15.0\n"
          ]
        }
      ]
    },
    {
      "cell_type": "code",
      "source": [
        "from sentence_transformers import SentenceTransformer\n",
        "model = SentenceTransformer('paraphrase-MiniLM-L6-v2')\n",
        "\n",
        "#Our sentences we like to encode\n",
        "sentences = ['This framework generates embeddings for each input sentence',\n",
        "    'Sentences are passed as a list of string.',\n",
        "    'The quick brown fox jumps over the lazy dog.', \n",
        "    'I ate the cake bla bla']\n",
        "\n",
        "#Sentences are encoded by calling model.encode()\n",
        "embeddings = model.encode(sentences)\n",
        "\n",
        "#Print the embeddings\n",
        "for sentence, embedding in zip(sentences, embeddings):\n",
        "    print(\"Sentence:\", sentence)\n",
        "    print(\"Embedding:\", embedding)\n",
        "    print(\"\")"
      ],
      "metadata": {
        "id": "faZWeMNTmqWD"
      },
      "execution_count": null,
      "outputs": []
    },
    {
      "cell_type": "code",
      "source": [
        "embeddings.shape"
      ],
      "metadata": {
        "colab": {
          "base_uri": "https://localhost:8080/"
        },
        "id": "7XTI3IU30s-F",
        "outputId": "cd90d960-8eb6-4444-8988-f2b47319f36d"
      },
      "execution_count": null,
      "outputs": [
        {
          "output_type": "execute_result",
          "data": {
            "text/plain": [
              "(4, 384)"
            ]
          },
          "metadata": {},
          "execution_count": 53
        }
      ]
    },
    {
      "cell_type": "code",
      "source": [
        "emds=model.encode(list(mine3.body))"
      ],
      "metadata": {
        "id": "jGjenqlYoTJH"
      },
      "execution_count": null,
      "outputs": []
    },
    {
      "cell_type": "code",
      "source": [
        "emds.shape"
      ],
      "metadata": {
        "colab": {
          "base_uri": "https://localhost:8080/"
        },
        "id": "X6vnC3rVoXoh",
        "outputId": "1f71dd0c-a055-4f92-e2b7-2dfefb299b27"
      },
      "execution_count": null,
      "outputs": [
        {
          "output_type": "execute_result",
          "data": {
            "text/plain": [
              "(444, 384)"
            ]
          },
          "metadata": {},
          "execution_count": 79
        }
      ]
    },
    {
      "cell_type": "code",
      "source": [
        "mine3[mine3.score<20].score.hist(bins=8, figsize =(20,10))"
      ],
      "metadata": {
        "colab": {
          "base_uri": "https://localhost:8080/",
          "height": 609
        },
        "id": "e-8t_lxqm0Ma",
        "outputId": "70cc6be3-211a-400d-ee5f-c17453fdeab4"
      },
      "execution_count": null,
      "outputs": [
        {
          "output_type": "execute_result",
          "data": {
            "text/plain": [
              "<matplotlib.axes._subplots.AxesSubplot at 0x7f5c1febdc90>"
            ]
          },
          "metadata": {},
          "execution_count": 83
        },
        {
          "output_type": "display_data",
          "data": {
            "image/png": "[encoded data removed]",
            "text/plain": [
              "<Figure size 1440x720 with 1 Axes>"
            ]
          },
          "metadata": {
            "needs_background": "light"
          }
        }
      ]
    },
    {
      "cell_type": "code",
      "source": [
        "y= mine2.score>3"
      ],
      "metadata": {
        "id": "ngF5HavwoA22"
      },
      "execution_count": null,
      "outputs": []
    },
    {
      "cell_type": "code",
      "source": [
        "sum(y), len(y)"
      ],
      "metadata": {
        "colab": {
          "base_uri": "https://localhost:8080/"
        },
        "id": "I2fLZHIrpWuH",
        "outputId": "b10700d8-81ea-4d5a-94c7-fcc173d710ea"
      },
      "execution_count": null,
      "outputs": [
        {
          "output_type": "execute_result",
          "data": {
            "text/plain": [
              "(221, 444)"
            ]
          },
          "metadata": {},
          "execution_count": 91
        }
      ]
    },
    {
      "cell_type": "code",
      "source": [
        "X=emds"
      ],
      "metadata": {
        "id": "PhU8JhRrpXUx"
      },
      "execution_count": null,
      "outputs": []
    },
    {
      "cell_type": "code",
      "source": [
        "from sklearn.svm import SVC\n",
        "cls= SVC()\n",
        "cls.fit(X,y)"
      ],
      "metadata": {
        "colab": {
          "base_uri": "https://localhost:8080/"
        },
        "id": "0bMW9JQUpc22",
        "outputId": "68d82d25-2cb5-4c8f-c6ab-d13be7723d43"
      },
      "execution_count": null,
      "outputs": [
        {
          "output_type": "execute_result",
          "data": {
            "text/plain": [
              "SVC()"
            ]
          },
          "metadata": {},
          "execution_count": 93
        }
      ]
    },
    {
      "cell_type": "code",
      "source": [
        "cls.score(X,y)"
      ],
      "metadata": {
        "colab": {
          "base_uri": "https://localhost:8080/"
        },
        "id": "8Xt451wDpq65",
        "outputId": "a5499ea9-4f86-4e6f-de84-696ff7a83e0c"
      },
      "execution_count": null,
      "outputs": [
        {
          "output_type": "execute_result",
          "data": {
            "text/plain": [
              "0.9099099099099099"
            ]
          },
          "metadata": {},
          "execution_count": 94
        }
      ]
    },
    {
      "cell_type": "code",
      "source": [
        "X.shape"
      ],
      "metadata": {
        "colab": {
          "base_uri": "https://localhost:8080/"
        },
        "id": "fIsyL7C1psYK",
        "outputId": "6c40b6d7-049e-44e6-9ca8-33e9f2a7196d"
      },
      "execution_count": null,
      "outputs": [
        {
          "output_type": "execute_result",
          "data": {
            "text/plain": [
              "(444, 384)"
            ]
          },
          "metadata": {},
          "execution_count": 95
        }
      ]
    },
    {
      "cell_type": "code",
      "source": [
        "X_train= X[:300]\n",
        "y_train=y[:300]\n",
        "X_test= X[300:]\n",
        "y_test=y[300:]"
      ],
      "metadata": {
        "id": "3TjP5YKFpurg"
      },
      "execution_count": null,
      "outputs": []
    },
    {
      "cell_type": "code",
      "source": [
        "cls= SVC()\n",
        "cls.fit(X_train,y_train)\n",
        "cls.score(X_train, y_train)"
      ],
      "metadata": {
        "colab": {
          "base_uri": "https://localhost:8080/"
        },
        "id": "bPJqozMKp2Nu",
        "outputId": "aad02e1d-252c-42dd-83c6-b70954ce3c6e"
      },
      "execution_count": null,
      "outputs": [
        {
          "output_type": "execute_result",
          "data": {
            "text/plain": [
              "0.9166666666666666"
            ]
          },
          "metadata": {},
          "execution_count": 97
        }
      ]
    },
    {
      "cell_type": "code",
      "source": [
        "cls.score(X_test, y_test)"
      ],
      "metadata": {
        "colab": {
          "base_uri": "https://localhost:8080/"
        },
        "id": "7xl0cqxuqQMg",
        "outputId": "33555357-a3c0-4813-8e7c-1b2de766c34d"
      },
      "execution_count": null,
      "outputs": [
        {
          "output_type": "execute_result",
          "data": {
            "text/plain": [
              "0.4652777777777778"
            ]
          },
          "metadata": {},
          "execution_count": 98
        }
      ]
    },
    {
      "cell_type": "code",
      "source": [
        "sum(y_test), len(y_test), sum(y_test) / len(y_test)"
      ],
      "metadata": {
        "colab": {
          "base_uri": "https://localhost:8080/"
        },
        "id": "O7v_2MetqEy_",
        "outputId": "849ab462-3b22-44c4-cece-efe10ff2c979"
      },
      "execution_count": null,
      "outputs": [
        {
          "output_type": "execute_result",
          "data": {
            "text/plain": [
              "(67, 144, 0.4652777777777778)"
            ]
          },
          "metadata": {},
          "execution_count": 99
        }
      ]
    },
    {
      "cell_type": "code",
      "source": [
        "pip install gradio"
      ],
      "metadata": {
        "colab": {
          "base_uri": "https://localhost:8080/"
        },
        "id": "21fYlapTrRXx",
        "outputId": "2eda763a-b96a-4142-ee48-a8e645be58ba"
      },
      "execution_count": null,
      "outputs": [
        {
          "output_type": "stream",
          "name": "stdout",
          "text": [
            "Collecting gradio\n",
            "  Downloading gradio-2.6.4-py3-none-any.whl (900 kB)\n",
            "\u001b[?25l\r\u001b[K     |▍                               | 10 kB 32.0 MB/s eta 0:00:01\r\u001b[K     |▊                               | 20 kB 25.4 MB/s eta 0:00:01\r\u001b[K     |█                               | 30 kB 11.7 MB/s eta 0:00:01\r\u001b[K     |█▌                              | 40 kB 9.2 MB/s eta 0:00:01\r\u001b[K     |█▉                              | 51 kB 7.1 MB/s eta 0:00:01\r\u001b[K     |██▏                             | 61 kB 6.9 MB/s eta 0:00:01\r\u001b[K     |██▌                             | 71 kB 6.8 MB/s eta 0:00:01\r\u001b[K     |███                             | 81 kB 7.6 MB/s eta 0:00:01\r\u001b[K     |███▎                            | 92 kB 6.3 MB/s eta 0:00:01\r\u001b[K     |███▋                            | 102 kB 6.8 MB/s eta 0:00:01\r\u001b[K     |████                            | 112 kB 6.8 MB/s eta 0:00:01\r\u001b[K     |████▍                           | 122 kB 6.8 MB/s eta 0:00:01\r\u001b[K     |████▊                           | 133 kB 6.8 MB/s eta 0:00:01\r\u001b[K     |█████                           | 143 kB 6.8 MB/s eta 0:00:01\r\u001b[K     |█████▌                          | 153 kB 6.8 MB/s eta 0:00:01\r\u001b[K     |█████▉                          | 163 kB 6.8 MB/s eta 0:00:01\r\u001b[K     |██████▏                         | 174 kB 6.8 MB/s eta 0:00:01\r\u001b[K     |██████▌                         | 184 kB 6.8 MB/s eta 0:00:01\r\u001b[K     |███████                         | 194 kB 6.8 MB/s eta 0:00:01\r\u001b[K     |███████▎                        | 204 kB 6.8 MB/s eta 0:00:01\r\u001b[K     |███████▋                        | 215 kB 6.8 MB/s eta 0:00:01\r\u001b[K     |████████                        | 225 kB 6.8 MB/s eta 0:00:01\r\u001b[K     |████████▍                       | 235 kB 6.8 MB/s eta 0:00:01\r\u001b[K     |████████▊                       | 245 kB 6.8 MB/s eta 0:00:01\r\u001b[K     |█████████                       | 256 kB 6.8 MB/s eta 0:00:01\r\u001b[K     |█████████▌                      | 266 kB 6.8 MB/s eta 0:00:01\r\u001b[K     |█████████▉                      | 276 kB 6.8 MB/s eta 0:00:01\r\u001b[K     |██████████▏                     | 286 kB 6.8 MB/s eta 0:00:01\r\u001b[K     |██████████▌                     | 296 kB 6.8 MB/s eta 0:00:01\r\u001b[K     |███████████                     | 307 kB 6.8 MB/s eta 0:00:01\r\u001b[K     |███████████▎                    | 317 kB 6.8 MB/s eta 0:00:01\r\u001b[K     |███████████▋                    | 327 kB 6.8 MB/s eta 0:00:01\r\u001b[K     |████████████                    | 337 kB 6.8 MB/s eta 0:00:01\r\u001b[K     |████████████▍                   | 348 kB 6.8 MB/s eta 0:00:01\r\u001b[K     |████████████▊                   | 358 kB 6.8 MB/s eta 0:00:01\r\u001b[K     |█████████████                   | 368 kB 6.8 MB/s eta 0:00:01\r\u001b[K     |█████████████▌                  | 378 kB 6.8 MB/s eta 0:00:01\r\u001b[K     |█████████████▉                  | 389 kB 6.8 MB/s eta 0:00:01\r\u001b[K     |██████████████▏                 | 399 kB 6.8 MB/s eta 0:00:01\r\u001b[K     |██████████████▌                 | 409 kB 6.8 MB/s eta 0:00:01\r\u001b[K     |███████████████                 | 419 kB 6.8 MB/s eta 0:00:01\r\u001b[K     |███████████████▎                | 430 kB 6.8 MB/s eta 0:00:01\r\u001b[K     |███████████████▋                | 440 kB 6.8 MB/s eta 0:00:01\r\u001b[K     |████████████████                | 450 kB 6.8 MB/s eta 0:00:01\r\u001b[K     |████████████████▍               | 460 kB 6.8 MB/s eta 0:00:01\r\u001b[K     |████████████████▊               | 471 kB 6.8 MB/s eta 0:00:01\r\u001b[K     |█████████████████               | 481 kB 6.8 MB/s eta 0:00:01\r\u001b[K     |█████████████████▌              | 491 kB 6.8 MB/s eta 0:00:01\r\u001b[K     |█████████████████▉              | 501 kB 6.8 MB/s eta 0:00:01\r\u001b[K     |██████████████████▏             | 512 kB 6.8 MB/s eta 0:00:01\r\u001b[K     |██████████████████▋             | 522 kB 6.8 MB/s eta 0:00:01\r\u001b[K     |███████████████████             | 532 kB 6.8 MB/s eta 0:00:01\r\u001b[K     |███████████████████▎            | 542 kB 6.8 MB/s eta 0:00:01\r\u001b[K     |███████████████████▋            | 552 kB 6.8 MB/s eta 0:00:01\r\u001b[K     |████████████████████            | 563 kB 6.8 MB/s eta 0:00:01\r\u001b[K     |████████████████████▍           | 573 kB 6.8 MB/s eta 0:00:01\r\u001b[K     |████████████████████▊           | 583 kB 6.8 MB/s eta 0:00:01\r\u001b[K     |█████████████████████           | 593 kB 6.8 MB/s eta 0:00:01\r\u001b[K     |█████████████████████▌          | 604 kB 6.8 MB/s eta 0:00:01\r\u001b[K     |█████████████████████▉          | 614 kB 6.8 MB/s eta 0:00:01\r\u001b[K     |██████████████████████▏         | 624 kB 6.8 MB/s eta 0:00:01\r\u001b[K     |██████████████████████▋         | 634 kB 6.8 MB/s eta 0:00:01\r\u001b[K     |███████████████████████         | 645 kB 6.8 MB/s eta 0:00:01\r\u001b[K     |███████████████████████▎        | 655 kB 6.8 MB/s eta 0:00:01\r\u001b[K     |███████████████████████▋        | 665 kB 6.8 MB/s eta 0:00:01\r\u001b[K     |████████████████████████        | 675 kB 6.8 MB/s eta 0:00:01\r\u001b[K     |████████████████████████▍       | 686 kB 6.8 MB/s eta 0:00:01\r\u001b[K     |████████████████████████▊       | 696 kB 6.8 MB/s eta 0:00:01\r\u001b[K     |█████████████████████████       | 706 kB 6.8 MB/s eta 0:00:01\r\u001b[K     |█████████████████████████▌      | 716 kB 6.8 MB/s eta 0:00:01\r\u001b[K     |█████████████████████████▉      | 727 kB 6.8 MB/s eta 0:00:01\r\u001b[K     |██████████████████████████▏     | 737 kB 6.8 MB/s eta 0:00:01\r\u001b[K     |██████████████████████████▋     | 747 kB 6.8 MB/s eta 0:00:01\r\u001b[K     |███████████████████████████     | 757 kB 6.8 MB/s eta 0:00:01\r\u001b[K     |███████████████████████████▎    | 768 kB 6.8 MB/s eta 0:00:01\r\u001b[K     |███████████████████████████▋    | 778 kB 6.8 MB/s eta 0:00:01\r\u001b[K     |████████████████████████████    | 788 kB 6.8 MB/s eta 0:00:01\r\u001b[K     |████████████████████████████▍   | 798 kB 6.8 MB/s eta 0:00:01\r\u001b[K     |████████████████████████████▊   | 808 kB 6.8 MB/s eta 0:00:01\r\u001b[K     |█████████████████████████████   | 819 kB 6.8 MB/s eta 0:00:01\r\u001b[K     |█████████████████████████████▌  | 829 kB 6.8 MB/s eta 0:00:01\r\u001b[K     |█████████████████████████████▉  | 839 kB 6.8 MB/s eta 0:00:01\r\u001b[K     |██████████████████████████████▏ | 849 kB 6.8 MB/s eta 0:00:01\r\u001b[K     |██████████████████████████████▋ | 860 kB 6.8 MB/s eta 0:00:01\r\u001b[K     |███████████████████████████████ | 870 kB 6.8 MB/s eta 0:00:01\r\u001b[K     |███████████████████████████████▎| 880 kB 6.8 MB/s eta 0:00:01\r\u001b[K     |███████████████████████████████▋| 890 kB 6.8 MB/s eta 0:00:01\r\u001b[K     |████████████████████████████████| 900 kB 6.8 MB/s \n",
            "\u001b[?25hCollecting Flask-Cors>=3.0.8\n",
            "  Downloading Flask_Cors-3.0.10-py2.py3-none-any.whl (14 kB)\n",
            "Collecting pycryptodome\n",
            "  Downloading pycryptodome-3.12.0-cp35-abi3-manylinux2010_x86_64.whl (2.0 MB)\n",
            "\u001b[K     |████████████████████████████████| 2.0 MB 56.6 MB/s \n",
            "\u001b[?25hCollecting Flask-Login\n",
            "  Downloading Flask_Login-0.5.0-py2.py3-none-any.whl (16 kB)\n",
            "Collecting analytics-python\n",
            "  Downloading analytics_python-1.4.0-py2.py3-none-any.whl (15 kB)\n",
            "Requirement already satisfied: pandas in /usr/local/lib/python3.7/dist-packages (from gradio) (1.1.5)\n",
            "Requirement already satisfied: Flask>=1.1.1 in /usr/local/lib/python3.7/dist-packages (from gradio) (1.1.4)\n",
            "Collecting pydub\n",
            "  Downloading pydub-0.25.1-py2.py3-none-any.whl (32 kB)\n",
            "Requirement already satisfied: requests in /usr/local/lib/python3.7/dist-packages (from gradio) (2.23.0)\n",
            "Requirement already satisfied: matplotlib in /usr/local/lib/python3.7/dist-packages (from gradio) (3.2.2)\n",
            "Collecting flask-cachebuster\n",
            "  Downloading Flask-CacheBuster-1.0.0.tar.gz (3.1 kB)\n",
            "Requirement already satisfied: numpy in /usr/local/lib/python3.7/dist-packages (from gradio) (1.19.5)\n",
            "Requirement already satisfied: pillow in /usr/local/lib/python3.7/dist-packages (from gradio) (7.1.2)\n",
            "Collecting paramiko\n",
            "  Downloading paramiko-2.9.1-py2.py3-none-any.whl (210 kB)\n",
            "\u001b[K     |████████████████████████████████| 210 kB 47.8 MB/s \n",
            "\u001b[?25hCollecting markdown2\n",
            "  Downloading markdown2-2.4.2-py2.py3-none-any.whl (34 kB)\n",
            "Collecting ffmpy\n",
            "  Downloading ffmpy-0.3.0.tar.gz (4.8 kB)\n",
            "Requirement already satisfied: itsdangerous<2.0,>=0.24 in /usr/local/lib/python3.7/dist-packages (from Flask>=1.1.1->gradio) (1.1.0)\n",
            "Requirement already satisfied: Werkzeug<2.0,>=0.15 in /usr/local/lib/python3.7/dist-packages (from Flask>=1.1.1->gradio) (1.0.1)\n",
            "Requirement already satisfied: Jinja2<3.0,>=2.10.1 in /usr/local/lib/python3.7/dist-packages (from Flask>=1.1.1->gradio) (2.11.3)\n",
            "Requirement already satisfied: click<8.0,>=5.1 in /usr/local/lib/python3.7/dist-packages (from Flask>=1.1.1->gradio) (7.1.2)\n",
            "Requirement already satisfied: Six in /usr/local/lib/python3.7/dist-packages (from Flask-Cors>=3.0.8->gradio) (1.15.0)\n",
            "Requirement already satisfied: MarkupSafe>=0.23 in /usr/local/lib/python3.7/dist-packages (from Jinja2<3.0,>=2.10.1->Flask>=1.1.1->gradio) (2.0.1)\n",
            "Requirement already satisfied: python-dateutil>2.1 in /usr/local/lib/python3.7/dist-packages (from analytics-python->gradio) (2.8.2)\n",
            "Collecting backoff==1.10.0\n",
            "  Downloading backoff-1.10.0-py2.py3-none-any.whl (31 kB)\n",
            "Collecting monotonic>=1.5\n",
            "  Downloading monotonic-1.6-py2.py3-none-any.whl (8.2 kB)\n",
            "Requirement already satisfied: chardet<4,>=3.0.2 in /usr/local/lib/python3.7/dist-packages (from requests->gradio) (3.0.4)\n",
            "Requirement already satisfied: certifi>=2017.4.17 in /usr/local/lib/python3.7/dist-packages (from requests->gradio) (2021.10.8)\n",
            "Requirement already satisfied: idna<3,>=2.5 in /usr/local/lib/python3.7/dist-packages (from requests->gradio) (2.10)\n",
            "Requirement already satisfied: urllib3!=1.25.0,!=1.25.1,<1.26,>=1.21.1 in /usr/local/lib/python3.7/dist-packages (from requests->gradio) (1.24.3)\n",
            "Requirement already satisfied: pyparsing!=2.0.4,!=2.1.2,!=2.1.6,>=2.0.1 in /usr/local/lib/python3.7/dist-packages (from matplotlib->gradio) (3.0.6)\n",
            "Requirement already satisfied: kiwisolver>=1.0.1 in /usr/local/lib/python3.7/dist-packages (from matplotlib->gradio) (1.3.2)\n",
            "Requirement already satisfied: cycler>=0.10 in /usr/local/lib/python3.7/dist-packages (from matplotlib->gradio) (0.11.0)\n",
            "Requirement already satisfied: pytz>=2017.2 in /usr/local/lib/python3.7/dist-packages (from pandas->gradio) (2018.9)\n",
            "Collecting pynacl>=1.0.1\n",
            "  Downloading PyNaCl-1.4.0-cp35-abi3-manylinux1_x86_64.whl (961 kB)\n",
            "\u001b[K     |████████████████████████████████| 961 kB 45.5 MB/s \n",
            "\u001b[?25hCollecting bcrypt>=3.1.3\n",
            "  Downloading bcrypt-3.2.0-cp36-abi3-manylinux2010_x86_64.whl (63 kB)\n",
            "\u001b[K     |████████████████████████████████| 63 kB 2.9 MB/s \n",
            "\u001b[?25hCollecting cryptography>=2.5\n",
            "  Downloading cryptography-36.0.1-cp36-abi3-manylinux_2_24_x86_64.whl (3.6 MB)\n",
            "\u001b[K     |████████████████████████████████| 3.6 MB 55.4 MB/s \n",
            "\u001b[?25hRequirement already satisfied: cffi>=1.1 in /usr/local/lib/python3.7/dist-packages (from bcrypt>=3.1.3->paramiko->gradio) (1.15.0)\n",
            "Requirement already satisfied: pycparser in /usr/local/lib/python3.7/dist-packages (from cffi>=1.1->bcrypt>=3.1.3->paramiko->gradio) (2.21)\n",
            "Building wheels for collected packages: ffmpy, flask-cachebuster\n",
            "  Building wheel for ffmpy (setup.py) ... \u001b[?25l\u001b[?25hdone\n",
            "  Created wheel for ffmpy: filename=ffmpy-0.3.0-py3-none-any.whl size=4710 sha256=a2cf857cf9b2942b6ff9c03ce6e303bb238f11d122ff482de428b895b9666fa5\n",
            "  Stored in directory: /root/.cache/pip/wheels/13/e4/6c/e8059816e86796a597c6e6b0d4c880630f51a1fcfa0befd5e6\n",
            "  Building wheel for flask-cachebuster (setup.py) ... \u001b[?25l\u001b[?25hdone\n",
            "  Created wheel for flask-cachebuster: filename=Flask_CacheBuster-1.0.0-py3-none-any.whl size=3371 sha256=1b2cc5f24a1b784495258cd16ddf36e9a5a196e17d78628cea55c4af5867e888\n",
            "  Stored in directory: /root/.cache/pip/wheels/28/c0/c4/44687421dab41455be93112bd1b0dee1f3c5a9aa27bee63708\n",
            "Successfully built ffmpy flask-cachebuster\n",
            "Installing collected packages: pynacl, monotonic, cryptography, bcrypt, backoff, pydub, pycryptodome, paramiko, markdown2, Flask-Login, Flask-Cors, flask-cachebuster, ffmpy, analytics-python, gradio\n",
            "Successfully installed Flask-Cors-3.0.10 Flask-Login-0.5.0 analytics-python-1.4.0 backoff-1.10.0 bcrypt-3.2.0 cryptography-36.0.1 ffmpy-0.3.0 flask-cachebuster-1.0.0 gradio-2.6.4 markdown2-2.4.2 monotonic-1.6 paramiko-2.9.1 pycryptodome-3.12.0 pydub-0.25.1 pynacl-1.4.0\n"
          ]
        }
      ]
    },
    {
      "cell_type": "code",
      "source": [
        "def detect(text):\n",
        "  return cls.predict([model.encode(text)])[0]"
      ],
      "metadata": {
        "id": "wKAOReKVwnZB"
      },
      "execution_count": null,
      "outputs": []
    },
    {
      "cell_type": "code",
      "source": [
        "detect(\"bla bla \")"
      ],
      "metadata": {
        "colab": {
          "base_uri": "https://localhost:8080/"
        },
        "id": "RGBCU8xL34qJ",
        "outputId": "5cb21345-46e6-424d-995c-ba60cf878e81"
      },
      "execution_count": null,
      "outputs": [
        {
          "output_type": "execute_result",
          "data": {
            "text/plain": [
              "False"
            ]
          },
          "metadata": {},
          "execution_count": 104
        }
      ]
    },
    {
      "cell_type": "code",
      "source": [
        "import gradio as gr\n",
        "iface = gr.Interface(fn=detect, inputs=\"text\", outputs=\"text\").launch()"
      ],
      "metadata": {
        "id": "sBq9PeZpqJWz"
      },
      "execution_count": null,
      "outputs": []
    },
    {
      "cell_type": "code",
      "source": [
        "from sklearn.svm import SVR"
      ],
      "metadata": {
        "id": "Q8lGnNbxxlDQ"
      },
      "execution_count": null,
      "outputs": []
    },
    {
      "cell_type": "code",
      "source": [
        "y= mine2.score\n",
        "cls= SVR()\n",
        "cls.fit(X,y)"
      ],
      "metadata": {
        "id": "wu7CNDh4r7Rm"
      },
      "execution_count": null,
      "outputs": []
    },
    {
      "cell_type": "code",
      "source": [
        "y"
      ],
      "metadata": {
        "id": "zcV4IfbMxgqq"
      },
      "execution_count": null,
      "outputs": []
    },
    {
      "cell_type": "code",
      "source": [
        "def detect(text):\n",
        "  return cls.predict([model.encode(text)])[0]"
      ],
      "metadata": {
        "id": "0bMWzLS1xg9I"
      },
      "execution_count": null,
      "outputs": []
    },
    {
      "cell_type": "code",
      "source": [
        "detect(\"nlp stuies are very important\")"
      ],
      "metadata": {
        "id": "4KemVLhxxiNY"
      },
      "execution_count": null,
      "outputs": []
    },
    {
      "cell_type": "code",
      "source": [
        "import gradio as gr\n",
        "  # Implement image segmentation model here...\n",
        "  # Return segmented image\n",
        "\n",
        "iface = gr.Interface(fn=detect, inputs=\"text\", outputs=\"number\").launch()"
      ],
      "metadata": {
        "id": "5YDV81yRxZQ_"
      },
      "execution_count": null,
      "outputs": []
    },
    {
      "cell_type": "code",
      "source": [
        ""
      ],
      "metadata": {
        "id": "_AHscYkAxd4Z"
      },
      "execution_count": null,
      "outputs": []
    },
    {
      "cell_type": "code",
      "source": [
        "#kmeans(X, 7)"
      ],
      "metadata": {
        "id": "53l6HGVy4t1f"
      },
      "execution_count": null,
      "outputs": []
    }
  ]
}